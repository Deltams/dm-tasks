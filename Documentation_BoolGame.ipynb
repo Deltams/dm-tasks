{
  "nbformat": 4,
  "nbformat_minor": 0,
  "metadata": {
    "colab": {
      "name": "Documentation_BoolGame.ipynb",
      "provenance": [],
      "collapsed_sections": [
        "H8RTvrJliEq-",
        "5uE3S1Psj6C4",
        "qMRbE7yZ2aV4",
        "COn6X6OPNiAB",
        "WDJ6WC0kYrG1",
        "-_blBTJwsxIl",
        "O2FVg9Qa2o7P",
        "sfnlD5EVDBzS",
        "2bWj1BNYHZXF",
        "Iz0llUj4JRsM",
        "UNSq2KdkZwOP",
        "vnRNAwIBjGg9",
        "euAMTkC3jV4x",
        "QFDVbZK3zVV0"
      ],
      "toc_visible": true
    },
    "kernelspec": {
      "name": "python3",
      "display_name": "Python 3"
    },
    "language_info": {
      "name": "python"
    }
  },
  "cells": [
    {
      "cell_type": "markdown",
      "source": [
        "#Task1\n",
        "На вход число n, на выход функция от n аргументов."
      ],
      "metadata": {
        "id": "H8RTvrJliEq-"
      }
    },
    {
      "cell_type": "code",
      "source": [
        "var_ch = 2**n #Длина вектора\n",
        "for i in range(0, 2**2**n): #Перебираем все варианты векторов\n",
        "    t = str(bin(i)[2:])\n",
        "    print((var_ch-len(t))*'0' + t)"
      ],
      "metadata": {
        "id": "0h8CZmdsiZvj"
      },
      "execution_count": null,
      "outputs": []
    },
    {
      "cell_type": "markdown",
      "source": [
        "##Algorithm\n",
        "Вычисляем кол-во всех вариантов векторов. Проходим диапазон чисел [0; 2^2^n), переводим число в двоичную систему счисления, добавляем незначащие нули."
      ],
      "metadata": {
        "id": "XdrY-yG0Mb_O"
      }
    },
    {
      "cell_type": "markdown",
      "source": [
        "##Terms of Use\n",
        "- ```n >= 0``` и ```n``` - целое число"
      ],
      "metadata": {
        "id": "sEaxXzzui37p"
      }
    },
    {
      "cell_type": "markdown",
      "source": [
        "##Input data and output data\n",
        "```\n",
        "Inp: 2 \n",
        "Out: \n",
        "0000 \n",
        "0001\n",
        "0010\n",
        "0011\n",
        "0100\n",
        "0101\n",
        "0110\n",
        "0111\n",
        "1000\n",
        "1001\n",
        "1010\n",
        "1011\n",
        "1100\n",
        "1101\n",
        "1110\n",
        "1111\n",
        "```"
      ],
      "metadata": {
        "id": "YNJwhwZ6lJUc"
      }
    },
    {
      "cell_type": "markdown",
      "source": [
        "#Task2\n",
        "На вход вектор функции, 0 или 1, номер аргумента, на выход соответствующая остаточная."
      ],
      "metadata": {
        "id": "5uE3S1Psj6C4"
      }
    },
    {
      "cell_type": "markdown",
      "source": [
        "##Check_vector\n",
        "Проверяется, что вектор введен верно. \\\n",
        "Проверки:\n",
        "- Длина вектора (вектор не может быть < 2)\n",
        "- Является ли длина вектора степенью двойки\n",
        "- Состоит ли вектор только из \"0\" и \"1\""
      ],
      "metadata": {
        "id": "I5_RwIJvkToc"
      }
    },
    {
      "cell_type": "code",
      "source": [
        "def check_vector(vec): # Проверка введенных данных пользователя\n",
        "    if len(vec) < 2:\n",
        "        return False\n",
        "    if what_degree_two(len(vec)) == -1:\n",
        "        return False\n",
        "    for char in vec:\n",
        "        if \"0\"<= char <= \"1\":\n",
        "            continue\n",
        "        return False\n",
        "    return True"
      ],
      "metadata": {
        "id": "_mePILhMkEG3"
      },
      "execution_count": null,
      "outputs": []
    },
    {
      "cell_type": "markdown",
      "source": [
        "###Algorithm_check_vector\n",
        "```vec``` - вектор(строка) передаваемый пользователем```(\"0110\")```.\n",
        "1. Вычисляем длину вектора и проверяем ее. \\\n",
        "2. Если длина меньше 2, то возвращаем, что вектор введен неврено. \\\n",
        "3. Проверяем длину вектора на степень двойки, если не соответствует, \\\n",
        "то вектор введен неверно. \\\n",
        "4. Проходим по всем символам вектора и проверяем, что он состоит только \\\n",
        "из ```\"0\"``` и ```\"1\"```, если есть сторонний символ, то возвращаем, вектор введен неверно.\n",
        "5. В остальных случаях возвращаем, что вектор введен верно."
      ],
      "metadata": {
        "id": "OJjn5IQ-_fj_"
      }
    },
    {
      "cell_type": "markdown",
      "source": [
        "##What_degree_two\n",
        "Функция принимает число и возвращает в какой оно степени двойки находится. Если число не является степенью двойки, то возвращает значение -1."
      ],
      "metadata": {
        "id": "SN3eezO2kc5Q"
      }
    },
    {
      "cell_type": "code",
      "source": [
        "def what_degree_two(number): # В какую степень двойки возведено число; -1: не является степенью двойки\n",
        "    tmp = 1\n",
        "    ans = 0\n",
        "    while tmp < number:\n",
        "        tmp *= 2\n",
        "        ans += 1\n",
        "    if number == tmp:\n",
        "        return ans\n",
        "    else:\n",
        "        return -1"
      ],
      "metadata": {
        "id": "uZfx3YDqkbz9"
      },
      "execution_count": null,
      "outputs": []
    },
    {
      "cell_type": "markdown",
      "source": [
        "###Algorithm_what_degree_two\n",
        "```number``` - целое число, которое нужно проверить для степени двойки. \\\n",
        "```tmp``` - целое число в степени двойки, которое постепенно увеличивается. \\\n",
        "```ans``` - целое число, степень двойки, в кторой находится ```tmp``` на данный момент. \\\n",
        "1. Запускаем цикл с условием ```tmp < number```.\n",
        "2. Внутри цикла увеличиваем ```tmp *= 2``` и ```ans += 1```.\n",
        "3. После завершения цикла мы поличим, что если ```tmp == number```, то \\\n",
        "```number``` является числом в степени двойки, возвращаем ответ, \\\n",
        "который хранится в ```ans```. Если условие не выполняется, то ```number``` не является степенью двойки.\n"
      ],
      "metadata": {
        "id": "Jds0ESQLCs7O"
      }
    },
    {
      "cell_type": "markdown",
      "source": [
        "##Residual\n",
        "В данную функцию подаются следующие данные: \\\n",
        "- Вектор пользователя (vec)\n",
        "- Единичная или нулевая остаточная (k)\n",
        "- По какой переменной интересует остаточная (n)\n"
      ],
      "metadata": {
        "id": "WZXubnTkkbRZ"
      }
    },
    {
      "cell_type": "code",
      "source": [
        "def residual(vec, k, n): #Остаточная по вектору; vec - vector; k - какая остаточная; n - переменная\n",
        "    ans = \"\"\n",
        "    tmp = len(vec) / 2**n\n",
        "    i = k * tmp\n",
        "    while i < len(vec):\n",
        "        ans = ans + vec[int(i):int(i)+int(tmp)]\n",
        "        i = i + tmp*2\n",
        "    return ans"
      ],
      "metadata": {
        "id": "a9G5yy3KkT9E"
      },
      "execution_count": null,
      "outputs": []
    },
    {
      "cell_type": "markdown",
      "source": [
        "###Algorithm_residual\n",
        "```ans``` - ответ для пользователя. \\\n",
        "```tmp``` - размер \"коробочки\", диапазон значений для прохода по 0 или 1 остаточной. \\\n",
        "```i``` - позиция с которой будем начинать искать остаточную. \\\n",
        "1. Вычисляем ```tmp``` для передвижения по вектору.\n",
        "2. Вычисляем стартовую позицию для 0 или 1 остаточной.\n",
        "3. Заносим в ответ, что находится в диапазоне коробочки. Двигаться будем по вектору с шагом ```tmp*2``` до того, как перестанет выполняться условие ```i < len(vec)```. \\\n",
        "4. Возвращаем пользователю ответ.\n"
      ],
      "metadata": {
        "id": "l7zHysTLI8f-"
      }
    },
    {
      "cell_type": "markdown",
      "source": [
        "##Algorithm\n",
        "Вычисляем размер коробочки для передвижения по вектору. Проходим по вектору с шагом равным размеру коробочки умноженой на два. Записываем все значения, которые находились в диапазоне коробочки. \\\n",
        "Пример с вычислением размера коробочки: \\\n",
        "![Task2_p.png](data:image/png;base64,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)"
      ],
      "metadata": {
        "id": "_ghP7ed1orFt"
      }
    },
    {
      "cell_type": "markdown",
      "source": [
        "##Terms of Use\n",
        "- Вектор, состоит только из нулей и едениц\n",
        "- k - принимает значения от 0 до 1\n",
        "- n - принимает значения от 1 до количества переменных используемых для построения вектора\n"
      ],
      "metadata": {
        "id": "q9TqhL6T2iQX"
      }
    },
    {
      "cell_type": "markdown",
      "source": [
        "##Input data and output data\n",
        "Inp: 00111010 1 1 \\\n",
        "Out: 1010 \\"
      ],
      "metadata": {
        "id": "HQPJJK0a1ujI"
      }
    },
    {
      "cell_type": "markdown",
      "source": [
        "#Task3\n",
        "На вход два вектора функции (это нулевая и единичная остаточные), номер аргумента,\n",
        "на выход соответствующая функция.\n"
      ],
      "metadata": {
        "id": "qMRbE7yZ2aV4"
      }
    },
    {
      "cell_type": "markdown",
      "source": [
        "##What_degree_two\n",
        "Функция принимает число и возвращает в какой оно степени двойки находится. Если число не является степенью двойки, то возвращает значение -1."
      ],
      "metadata": {
        "id": "L9kCV3ONB94Z"
      }
    },
    {
      "cell_type": "code",
      "source": [
        "def what_degree_two(number): # В какую степень двойки возведено число; -1: не является степенью двойки\n",
        "    tmp = 1\n",
        "    ans = 0\n",
        "    while tmp < number:\n",
        "        tmp *= 2\n",
        "        ans += 1\n",
        "    if number == tmp:\n",
        "        return ans\n",
        "    else:\n",
        "        return -1"
      ],
      "metadata": {
        "id": "XfgmRlJMB8rZ"
      },
      "execution_count": null,
      "outputs": []
    },
    {
      "cell_type": "markdown",
      "source": [
        "###Algorithm_what_degree_two\n",
        "```number``` - целое число, которое нужно проверить для степени двойки. \\\n",
        "```tmp``` - целое число в степени двойки, которое постепенно увеличивается. \\\n",
        "```ans``` - целое число, степень двойки, в кторой находится ```tmp``` на данный момент. \\\n",
        "1. Запускаем цикл с условием ```tmp < number```.\n",
        "2. Внутри цикла увеличиваем ```tmp *= 2``` и ```ans += 1```.\n",
        "3. После завершения цикла мы поличим, что если ```tmp == number```, то \\\n",
        "```number``` является числом в степени двойки, возвращаем ответ, \\\n",
        "который хранится в ```ans```. Если условие не выполняется, то ```number``` не является степенью двойки."
      ],
      "metadata": {
        "id": "tdxMlhj-LjCH"
      }
    },
    {
      "cell_type": "markdown",
      "source": [
        "##My_pow\n",
        "Функция быстрого возведения в степень. \\\n",
        "- a - число возводимое в степень\n",
        "- p - степень, в кторую нужно возвести"
      ],
      "metadata": {
        "id": "UgkNORnUCCc-"
      }
    },
    {
      "cell_type": "code",
      "source": [
        "def my_pow(a, p):\n",
        "    if p == 0:\n",
        "        return 1\n",
        "    if p % 2 == 0:\n",
        "        return my_pow(a*a, p / 2)\n",
        "    return a * my_pow(a, p-1)"
      ],
      "metadata": {
        "id": "DG6twRJ9B-cv"
      },
      "execution_count": null,
      "outputs": []
    },
    {
      "cell_type": "markdown",
      "source": [
        "##Check_vector\n",
        "Проверяется, что вектор введен верно. \\\n",
        "Проверки:\n",
        "- Длина вектора (вектор не может быть < 1)\n",
        "- Является ли длина вектора степенью двойки\n",
        "- Состоит ли вектор только из \"0\" и \"1\""
      ],
      "metadata": {
        "id": "wAV_nvxRCC2t"
      }
    },
    {
      "cell_type": "code",
      "source": [
        "def check_vector(vec):\n",
        "    if len(vec) < 1:\n",
        "        return False\n",
        "    if what_degree_two(len(vec)) == -1:\n",
        "        return False\n",
        "    for char in vec:\n",
        "        if \"0\"<= char <= \"1\":\n",
        "            continue\n",
        "        return False\n",
        "    return True"
      ],
      "metadata": {
        "id": "yDh1e0xzCB0G"
      },
      "execution_count": null,
      "outputs": []
    },
    {
      "cell_type": "markdown",
      "source": [
        "###Algorithm_check_vector\n",
        "```vec``` - вектор(строка) передаваемый пользователем```(\"0110\")```.\n",
        "1. Вычисляем длину вектора и проверяем ее. \\\n",
        "2. Если длина меньше 1, то возвращаем, что вектор введен неврено. \\\n",
        "3. Проверяем длину вектора на степень двойки, если не соответствует, \\\n",
        "то вектор введен неверно. \\\n",
        "4. Проходим по всем символам вектора и проверяем, что он состоит только \\\n",
        "из ```\"0\"``` и ```\"1\"```, если есть сторонний символ, то возвращаем, вектор введен неверно.\n",
        "5. В остальных случаях возвращаем, что вектор введен верно."
      ],
      "metadata": {
        "id": "S4FTFeyzMEMy"
      }
    },
    {
      "cell_type": "markdown",
      "source": [
        "##Restoration_of_residual\n",
        "Выдает собранный вектор из нулевой и единичной остаточной по заданной переменной.\n",
        "- v1 - вектор нулевой остаточной \n",
        "- v2 - вектор единичной остаточной\n",
        "- n - переменная, по которой восстанавливается вектор"
      ],
      "metadata": {
        "id": "cC4NzYaVCR6v"
      }
    },
    {
      "cell_type": "code",
      "source": [
        "def restoration_of_residual(v1, v2, n):\n",
        "    ans = ''\n",
        "    tmp = int(len(v1)*2 / my_pow(2, n))\n",
        "    for i in range(0,len(v1), tmp):\n",
        "        for j in range(i, i + tmp):\n",
        "            ans += v1[j]\n",
        "        for j in range(i, i + tmp):\n",
        "            ans += v2[j]\n",
        "    return ans"
      ],
      "metadata": {
        "id": "yT46l4iyCRsg"
      },
      "execution_count": null,
      "outputs": []
    },
    {
      "cell_type": "markdown",
      "source": [
        "###Algorithm_restoration_of_residual\n",
        "```ans``` - ответ для пользователя. \\\n",
        "```tmp``` - размер \"коробочки\".\n",
        "1. Вычисляем размер коробочки.\n",
        "2. Запускаем цикл по одному из векторов, так как они одинаковой длины, то можно не переживать за выход за границы. \\\n",
        "3. Внутри этого цикла берем проходим по нулевой, начиная с номера ```i``` и проходим растояние равное ```tmp```. Записываем в ответ. \n",
        "4. Повторяем действия из шага 3 для единичной остаточной.\n",
        "5. После завершения всех циклов возвращаем ответ пользователю."
      ],
      "metadata": {
        "id": "kFWd_SpDNWWC"
      }
    },
    {
      "cell_type": "markdown",
      "source": [
        "##Algorithm\n",
        "Вычисляем размер коробочки, проходим по длине одной из остаточных(можнов взять любую т. к. длина у них одинаковая) с шагом равным коробочке. Записываем значения, которые входят в коробочку нулевой остаточной, затем значения, которые входят в коробочку единичной остаточной. \\\n",
        "Пример с вычислением размера коробочки: \\\n",
        "![Task3_p.png](data:image/png;base64,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)"
      ],
      "metadata": {
        "id": "ErKIST8MH1lG"
      }
    },
    {
      "cell_type": "markdown",
      "source": [
        "##Terms of Use\n",
        "- Вектор, состоит только из нулей и едениц\n",
        "- v1 и v2 - строки, имеют одинаковую длину\n",
        "- n - целое число, не должна превышать кол-во переменных, используемых для построения вектора и n >= 1\n"
      ],
      "metadata": {
        "id": "_YaEixRZK5cC"
      }
    },
    {
      "cell_type": "markdown",
      "source": [
        "##Input data and output data\n",
        "Inp: 0011 1010 1 \\\n",
        "Out: 00111010 \\"
      ],
      "metadata": {
        "id": "1TqdMxQjMDRX"
      }
    },
    {
      "cell_type": "markdown",
      "source": [
        "#Task4\n",
        "Игра. Узнать имя функции от 2-х аргументов. Система предлагает вектор функции, пользователь выбирает «имя» (одно из 16)."
      ],
      "metadata": {
        "id": "COn6X6OPNiAB"
      }
    },
    {
      "cell_type": "markdown",
      "source": [
        "Таблица со значениями векторов\n",
        "```\n",
        "map_vector = {}     Правильные ответы\n",
        "player_vector = []  Для перемешивания вектора и выдачи пользователю\n",
        "vec = 0             Вектор, который выдается пользователю\n",
        "table_p = [\n",
        "    \"Константа нуля\",\n",
        "    \"Конъюкция\",\n",
        "    \"Коимпликация\",\n",
        "    \"Переменная x1\",\n",
        "    \"Обратная коимпликация\",\n",
        "    \"Переменная x2\",\n",
        "    \"Сложение по модулю 2(xor)\",\n",
        "    \"Дизъюнкция\",\n",
        "    \"Стрелка Пирса\",\n",
        "    \"Эквивалентность\",\n",
        "    \"Отрицание x2\",\n",
        "    \"Обратная импликация\",\n",
        "    \"Отрицание x1\",\n",
        "    \"Импликация\",\n",
        "    \"Штрих Шеффера\",\n",
        "    \"Константа единицы\"\n",
        "]\n",
        "```"
      ],
      "metadata": {
        "id": "RizP4mWGN2Pf"
      }
    },
    {
      "cell_type": "markdown",
      "source": [
        "Заполняем свою базу данных. \\\n",
        "- map_vector - ключ равен номеру в диапазоне ```[1; 16]``` \\\n",
        "- map_vector - значение равно вектору от двух переменных \\\n",
        "- player_vector - массив пар, которых сохраняет информацию о \\\n",
        "  ключе для map_vector и значение из таблицы table_p\n"
      ],
      "metadata": {
        "id": "-j5Jwqj3Pxqn"
      }
    },
    {
      "cell_type": "code",
      "source": [
        "for i in range(16):\n",
        "    tmp = bin(i)[2:]\n",
        "    map_vector[i + 1] = \"0\" * (4 - len(tmp)) + str(tmp)\n",
        "    player_vector.append([i + 1, table_p[i]])"
      ],
      "metadata": {
        "id": "7Eq6TDqmQNB4"
      },
      "execution_count": null,
      "outputs": []
    },
    {
      "cell_type": "markdown",
      "source": [
        "##Shuffle\n",
        "Рандомно перемешивает player_vector."
      ],
      "metadata": {
        "id": "7NvFdWUmS23d"
      }
    },
    {
      "cell_type": "code",
      "source": [
        "def shuffle(player_vector):  # Перемешивает вектор с данными\n",
        "    tmp = len(player_vector)\n",
        "    for i in range(tmp):\n",
        "        a = player_vector[i].copy()\n",
        "        rand = int(random.random() * 100) % tmp\n",
        "        player_vector[i] = player_vector[rand]\n",
        "        player_vector[rand] = a"
      ],
      "metadata": {
        "id": "uYeHKugVVIX3"
      },
      "execution_count": null,
      "outputs": []
    },
    {
      "cell_type": "markdown",
      "source": [
        "###Algorithm_shuffle\n",
        "```player_vector``` - массив с векторами, который нужно перемешать. \\\n",
        "```tmp``` - количество векторов в ```player_vector```. \\\n",
        "1. Запускаем цикл по количеству векторов. \\\n",
        "2. Создаем копию элемента на ```i``` позиции, чтоб не потерять данные в этой ячейке.\n",
        "3. ```rand``` - позиция, с которой будем менять значение расположенное в ```i``` позиции. Вычисляем.\n",
        "4. Присваиваем i-тому элементу значение из позиции ```rand```, а в саму позицию ```rand``` кладем значение, которое хранилось в переменной ```a```.\n",
        "!Возвращать значение не нужно. ```player_vector``` уже и так будет перемешан\n"
      ],
      "metadata": {
        "id": "XoVRbhoEQTh9"
      }
    },
    {
      "cell_type": "markdown",
      "source": [
        "##Help\n",
        "Выводит пользователю на экран таблицу с данными."
      ],
      "metadata": {
        "id": "UbU3Lf61WG-B"
      }
    },
    {
      "cell_type": "code",
      "source": [
        "def help():  # Для вывода пользователю на экран таблицу с данными\n",
        "    global player_vector\n",
        "    global vec\n",
        "    vec = int(random.random() * 100) % len(player_vector)\n",
        "    shuffle(player_vector)\n",
        "    ans = \"Выберите имя для функции: \" + map_vector[player_vector[vec][0]] + \"\\n\"\n",
        "    for i in range(1, 17):\n",
        "        ans += str(i) + \") \" + player_vector[i - 1][1] + \"\\n\"\n",
        "    return ans"
      ],
      "metadata": {
        "id": "CBadc8A7WHSO"
      },
      "execution_count": null,
      "outputs": []
    },
    {
      "cell_type": "markdown",
      "source": [
        ""
      ],
      "metadata": {
        "id": "IcsHuYshTHfS"
      }
    },
    {
      "cell_type": "markdown",
      "source": [
        "##Btn_func\n",
        "Функция отвечает за проверку ответа пользователя и кнопки ответить, перепройти, новое задание и показать ответ."
      ],
      "metadata": {
        "id": "BRSV79WfWYGi"
      }
    },
    {
      "cell_type": "code",
      "source": [
        "def btn_func():\n",
        "    user_entry = entry.get()\n",
        "    if user_entry:\n",
        "        try:\n",
        "            if map_vector[player_vector[vec][0]] == map_vector[player_vector[int(user_entry) - 1][0]]:\n",
        "                ans_label.configure(text=\"Ваш ответ верный\", fg='green')\n",
        "\n",
        "                go_next_button.pack(side='left', padx=5)\n",
        "            else:\n",
        "                ans_label.configure(text=\"Ваш ответ неверный\", fg='red')\n",
        "\n",
        "                go_next_button.pack(side='left', padx=5)\n",
        "                remake_button.pack(side='left', padx=5)\n",
        "                ans_button.pack(side='left', padx=5)\n",
        "\n",
        "        except Exception:\n",
        "            ans_label.configure(text=\"Вводите числа от 1 до 16!\", fg='red')\n",
        "\n",
        "            go_next_button.pack(side='left', padx=5)\n",
        "            remake_button.pack(side='left', padx=5)\n",
        "            ans_button.pack(side='left', padx=5)\n",
        "    else:\n",
        "        ans_label.configure(text=\"Вы ввели некорректные данные!\", fg='red')\n",
        "\n",
        "        go_next_button.pack(side='left', padx=5)\n",
        "        remake_button.pack(side='left', padx=5)\n",
        "        ans_button.pack(side='left', padx=5)\n",
        "    button_submit['state'] = 'disabled'\n",
        "    entry['state'] = 'disabled'"
      ],
      "metadata": {
        "id": "SARZC_0YWiaT"
      },
      "execution_count": null,
      "outputs": []
    },
    {
      "cell_type": "markdown",
      "source": [
        "##Print_ans\n",
        "Функция отвечающая за кнопку показать ответ."
      ],
      "metadata": {
        "id": "vn62mYdlXMx6"
      }
    },
    {
      "cell_type": "code",
      "source": [
        "def print_ans():\n",
        "    global player_vector\n",
        "    global vec\n",
        "    ans = table_p[player_vector[vec][0] - 1]\n",
        "    ans_label.configure(text=f'{ans}', fg='green')\n",
        "    ans_button.pack_forget()"
      ],
      "metadata": {
        "id": "H22Ej2W8XNv3"
      },
      "execution_count": null,
      "outputs": []
    },
    {
      "cell_type": "markdown",
      "source": [
        "##Go_next\n",
        "Функция отвечающая за кнопку новое задание."
      ],
      "metadata": {
        "id": "yMircIk4XQ8v"
      }
    },
    {
      "cell_type": "code",
      "source": [
        "def go_next():\n",
        "    button_submit['state'] = 'normal'\n",
        "    entry['state'] = 'normal'\n",
        "\n",
        "    greet_label.configure(text=help())\n",
        "    ans_label.configure(text='')\n",
        "    entry.delete(0, 'end')\n",
        "\n",
        "    go_next_button.pack_forget()\n",
        "    remake_button.pack_forget()\n",
        "    ans_button.pack_forget()"
      ],
      "metadata": {
        "id": "GuVN_5IMXRXb"
      },
      "execution_count": null,
      "outputs": []
    },
    {
      "cell_type": "markdown",
      "source": [
        "##Remake_button\n",
        "Функция отвечающая за кнопку перепройти."
      ],
      "metadata": {
        "id": "ivhk6Mf7XU3a"
      }
    },
    {
      "cell_type": "code",
      "source": [
        "def remake_button():\n",
        "    button_submit['state'] = 'normal'\n",
        "    entry['state'] = 'normal'\n",
        "    ans_label.configure(text='')\n",
        "    entry.delete(0, 'end')\n",
        "    go_next_button.pack_forget()\n",
        "    remake_button.pack_forget()\n",
        "    ans_button.pack_forget()"
      ],
      "metadata": {
        "id": "oo8QMtfnXVZl"
      },
      "execution_count": null,
      "outputs": []
    },
    {
      "cell_type": "markdown",
      "source": [
        "##Algorithm\n",
        "Заполняем данными массив пар(player_vector) и словарь(map_vector).\n",
        "Перемешиваем рандомно массив и выдаем пользователю. Сравниваем ответ."
      ],
      "metadata": {
        "id": "mZjp1sEcYD24"
      }
    },
    {
      "cell_type": "markdown",
      "source": [
        "#Task5\n",
        "Игра. Существенные и фиктивные переменные. Система предлагает вектор функции. Пользователь выбирает существенные и фиктивные переменные."
      ],
      "metadata": {
        "id": "WDJ6WC0kYrG1"
      }
    },
    {
      "cell_type": "markdown",
      "source": [
        "```\n",
        "dict_vector = {}  # Словарь ответов для пользователя; Автоматически заполняется в all_vector\n",
        "list_vector = [] # Массив с векторами\n",
        "```"
      ],
      "metadata": {
        "id": "z4vh-6OGgOaF"
      }
    },
    {
      "cell_type": "markdown",
      "source": [
        "##Residual\n",
        "В данную функцию подаются следующие данные: \\\n",
        "- Вектор пользователя (vec)\n",
        "- Единичная или нулевая остаточная (k)\n",
        "- По какой переменной интересует остаточная (n)"
      ],
      "metadata": {
        "id": "wRv3PGiTZA0v"
      }
    },
    {
      "cell_type": "code",
      "source": [
        "def residual(vec, k, n):  # остаточная по вектору; vec - vector; k - какая остаточная; n - переменная\n",
        "    ans = \"\"\n",
        "    tmp = len(vec) / 2 ** n  # размер коробки\n",
        "    i = k * tmp\n",
        "    while i < len(vec):\n",
        "        ans = ans + vec[int(i):int(i) + int(tmp)]\n",
        "        i = i + tmp * 2\n",
        "    return ans"
      ],
      "metadata": {
        "id": "4pIGKa4Af1iS"
      },
      "execution_count": null,
      "outputs": []
    },
    {
      "cell_type": "markdown",
      "source": [
        "###Algorithm_residual\n",
        "```ans``` - ответ для пользователя. \\\n",
        "```tmp``` - размер \"коробочки\", диапазон значений для прохода по 0 или 1 остаточной. \\\n",
        "```i``` - позиция с которой будем начинать искать остаточную. \\\n",
        "1. Вычисляем ```tmp``` для передвижения по вектору.\n",
        "2. Вычисляем стартовую позицию для 0 или 1 остаточной.\n",
        "3. Заносим в ответ, что находится в диапазоне коробочки. Двигаться будем по вектору с шагом ```tmp*2``` до того, как перестанет выполняться условие ```i < len(vec)```. \\\n",
        "4. Возвращаем пользователю ответ.\n"
      ],
      "metadata": {
        "id": "LhdBRVp1UEsP"
      }
    },
    {
      "cell_type": "markdown",
      "source": [
        "##All_vector\n",
        "Заполняет базу данных векторами.\n",
        "- dict_vector - ключ: вектор, значение: существенная фиктивная переменная\n",
        "-  list_vector - сохраняем вектора в массив"
      ],
      "metadata": {
        "id": "U-8I-37Df1EK"
      }
    },
    {
      "cell_type": "code",
      "source": [
        "def all_vector(vars_count): \n",
        "    global dict_vector\n",
        "    global list_vector\n",
        "    dict_vector = {}\n",
        "    list_vector= []\n",
        "\n",
        "    len_vector = 2 ** vars_count  # len(vec)\n",
        "    tmp = 0\n",
        "    count_all_vectors = 2 ** len_vector\n",
        "    for i in range(count_all_vectors):\n",
        "        vec = str(bin(tmp)[2:])\n",
        "        vec = \"0\" * (len_vector - len(vec)) + vec  # незначащие нули в начало. vec - временно хранится один из векторов\n",
        "        fict_var = \"\"  # Фиктивная переменная\n",
        "        sysh_var = \"\"  # Существенная переменная\n",
        "        for j in range(1, vars_count + 1):\n",
        "            s1 = residual(vec, 0, j)\n",
        "            s2 = residual(vec, 1, j)\n",
        "            if s1 == s2:\n",
        "                fict_var = fict_var + str(j)\n",
        "            else:\n",
        "                sysh_var = sysh_var + str(j)\n",
        "        if len(fict_var) and len(sysh_var) or n_param.get() == 1:\n",
        "            dict_vector[vec] = [sysh_var, fict_var]\n",
        "            list_vector.append(vec)\n",
        "            if len(list_vector) == 100:\n",
        "                break\n",
        "        tmp += 1"
      ],
      "metadata": {
        "id": "mVTzr9-qgLl8"
      },
      "execution_count": null,
      "outputs": []
    },
    {
      "cell_type": "markdown",
      "source": [
        "###Algorithm_all_vector\n",
        "```dict_vector``` - словарь с ответами, хранит пары значений(ключ: вектор). На первом месте хранятся существенные переменные. На втором месте хранятся фиктивные переменные. \\\n",
        "```list_vector``` - массив векторов, хранит ключи к ```dict_vector```. Всего в ```list_vector``` хранится до 100 векторов(включительно). \\\n",
        "1. Очищаем значения ```dict_vector``` и ```list_vector```.\n",
        "2. Вычисляем длину вектора и сколько всего векторов будет.\n",
        "3. Проходим до числа всех векторов. Вычисляем вектор и ищем его фиктивные и существенные переменные.\n",
        "4. Так как много ответов состоящих из всех переменных. Отбираем те, где есть и существенная и фиктивна переменная.\n"
      ],
      "metadata": {
        "id": "MkB2-62bUPgx"
      }
    },
    {
      "cell_type": "markdown",
      "source": [
        "##Check_data\n",
        "Проверяем, что входные данные состоят только из данных символов: \\\n",
        " ```' ', '0', '1', '2', '3', '4', '5', '6', '7', '8' и '9'```"
      ],
      "metadata": {
        "id": "htMBlEW4iVRU"
      }
    },
    {
      "cell_type": "code",
      "source": [
        "def check_data(s):  # Проверка введеных данных пользователя\n",
        "    for i in s:\n",
        "        if i == ' ' or '0' <= i <= '9':\n",
        "            continue\n",
        "        return False\n",
        "    return True"
      ],
      "metadata": {
        "id": "uwgbX2iWiV8F"
      },
      "execution_count": null,
      "outputs": []
    },
    {
      "cell_type": "markdown",
      "source": [
        "##Check_vector\n",
        "Проверка ответа пользователя. \n",
        "- fic_sysh = 0: Cущественная пременная \n",
        "- fic_sysh = 1: Фиктивная переменная \n",
        "- player_vec - вектор, который предложен пользователю\n",
        "-player_input - строка которая была введена пользователем"
      ],
      "metadata": {
        "id": "B1K5kX3fjLOP"
      }
    },
    {
      "cell_type": "code",
      "source": [
        "# Проверка ответа пользователя fic_sysh - 0: существенная пременная; 1: Фиктивная переменная\n",
        "# player_vec - вектор, который предложен пользователю; player_input - строка которая была введена пользователем\n",
        "def check_vector(player_vec, fic_sysh, player_input):\n",
        "    player_input = player_input.replace(' ', '')\n",
        "    if dict_vector[player_vec][fic_sysh] == player_input:\n",
        "        return True\n",
        "    return False"
      ],
      "metadata": {
        "id": "VWcAUyS4jL0p"
      },
      "execution_count": null,
      "outputs": []
    },
    {
      "cell_type": "markdown",
      "source": [
        "##Mack_sfp\n",
        "Создание случайно текста для пользователя, выбранного из существенные или фиктивные переменные и рандомный выбор одного вектора из массива list_vector."
      ],
      "metadata": {
        "id": "X7vOtmf1krDd"
      }
    },
    {
      "cell_type": "code",
      "source": [
        "def mack_sfp():\n",
        "    global player_vec\n",
        "    global sfp\n",
        "\n",
        "    sushi_var_str, fic_var_str = 'существенные переменные для ', 'фиктивные переменные для '\n",
        "    sfp = int(random.random() * 10) % 2\n",
        "    if sfp == 0:\n",
        "        greet_label.configure(text=f'Введите {sushi_var_str} функции:')\n",
        "    else:\n",
        "        greet_label.configure(text=f'Введите {fic_var_str} функции:')\n",
        "    tmp = list_vector[int(random.random() * 100) % len(list_vector)]\n",
        "    if tmp == player_vec:\n",
        "        tmp = list_vector[int(random.random() * 100) % len(list_vector)]\n",
        "    player_vec = tmp\n",
        "    ans = ''\n",
        "    for i in range(1, len(player_vec) + 1):\n",
        "        ans += player_vec[i - 1]\n",
        "        if i % 4 == 0:\n",
        "            ans += ' '\n",
        "    player_vec = ans\n",
        "    vector_label.configure(text=player_vec)"
      ],
      "metadata": {
        "id": "-1HuYVC1krWp"
      },
      "execution_count": null,
      "outputs": []
    },
    {
      "cell_type": "markdown",
      "source": [
        "##Send_vector\n",
        "Проверка ответа пользователя и вывод дополнительных кнопок: \n",
        "- Новое задание\n",
        "- Перепройти\n",
        "- Показать ответ"
      ],
      "metadata": {
        "id": "ZNRjMhwGmqtV"
      }
    },
    {
      "cell_type": "code",
      "source": [
        "def send_vector():\n",
        "    global player_vec\n",
        "    global sfp\n",
        "\n",
        "    entry = user_entry.get()\n",
        "    player_vec = ''\n",
        "    tmp = vector_label.cget('text').split()\n",
        "    for i in range(0, len(tmp)):\n",
        "        player_vec += tmp[i]\n",
        "    if check_data(entry):\n",
        "        if check_vector(player_vec, sfp, user_entry.get()):\n",
        "            error_label.configure(text='Ваш ответ верный:)', fg='green')\n",
        "\n",
        "            go_next_button.pack(side='left', padx=5)\n",
        "        else:\n",
        "            error_label.configure(text='Ответ неверный!', fg='#ff4000')\n",
        "\n",
        "            go_next_button.pack(side='left', padx=5)\n",
        "            remake_button.pack(side='left', padx=5)\n",
        "            correct_answer_button.pack(side='left', padx=5)\n",
        "    else:\n",
        "        error_label.configure(text='Ошибка ввода данных!', fg='#ff4000')\n",
        "\n",
        "        go_next_button.pack(side='left', padx=5)\n",
        "        remake_button.pack(side='left', padx=5)\n",
        "        correct_answer_button.pack(side='left', padx=5)\n",
        "\n",
        "    button_submit['state'] = 'disabled'\n",
        "    user_entry['state'] = 'disabled'"
      ],
      "metadata": {
        "id": "LZ3ApeYTmrAb"
      },
      "execution_count": null,
      "outputs": []
    },
    {
      "cell_type": "markdown",
      "source": [
        "##Go_next\n",
        "Функция отвечающая за кнопку новое задание."
      ],
      "metadata": {
        "id": "JekN-w5TnITZ"
      }
    },
    {
      "cell_type": "code",
      "source": [
        "def go_next():\n",
        "    all_vector(n_param.get())\n",
        "    button_submit['state'] = 'normal'\n",
        "    user_entry['state'] = 'normal'\n",
        "    user_entry.delete(0, 'end')\n",
        "    go_next_button.pack_forget()\n",
        "    remake_button.pack_forget()\n",
        "    correct_answer_button.pack_forget()\n",
        "    error_label.configure(text='')\n",
        "    mack_sfp()"
      ],
      "metadata": {
        "id": "fYRKbe43nIoF"
      },
      "execution_count": null,
      "outputs": []
    },
    {
      "cell_type": "markdown",
      "source": [
        "##Remake_task\n",
        "Функция отвечающая за кнопку перепройти."
      ],
      "metadata": {
        "id": "zYpiDc9CqMkr"
      }
    },
    {
      "cell_type": "code",
      "source": [
        "def remake_task():\n",
        "    button_submit['state'] = 'normal'\n",
        "    user_entry['state'] = 'normal'\n",
        "    user_entry.delete(0, 'end')\n",
        "    go_next_button.pack_forget()\n",
        "    remake_button.pack_forget()\n",
        "    correct_answer_button.pack_forget()\n",
        "    error_label.configure(text='')"
      ],
      "metadata": {
        "id": "-Y23BB-fqM3-"
      },
      "execution_count": null,
      "outputs": []
    },
    {
      "cell_type": "markdown",
      "source": [
        "##Show_correct_answer\n",
        "Функция отвечающая за кнопку показать ответ."
      ],
      "metadata": {
        "id": "7pQmxW9DqO3E"
      }
    },
    {
      "cell_type": "code",
      "source": [
        "def show_correct_answer():\n",
        "    player_vec = ''\n",
        "    tmp = vector_label.cget('text').split()\n",
        "    for i in range(0, len(tmp)):\n",
        "        player_vec += tmp[i]\n",
        "    error_label.configure(text=f'Правильный ответ - {dict_vector[player_vec][sfp]}', fg='green')\n",
        "    correct_answer_button.pack_forget()"
      ],
      "metadata": {
        "id": "k9cBFSh7qPSm"
      },
      "execution_count": null,
      "outputs": []
    },
    {
      "cell_type": "markdown",
      "source": [
        "##Open_child_root\n",
        "Открывает дополнительное окно(справака)."
      ],
      "metadata": {
        "id": "W5KN42guqZsg"
      }
    },
    {
      "cell_type": "code",
      "source": [
        "def open_child_root():\n",
        "    child_root = tk.Toplevel(root)\n",
        "    child_root.title('Справка')\n",
        "    child_root.geometry('550x350+100+100')\n",
        "    child_root.resizable(False, False)\n",
        "    child_root.grab_set()\n",
        "    ans = \"\\n\\nЕсли нет фиктивных или существенных переменных, то пишите 0\\n\"\n",
        "    ans += \"Пример ввода данных: \\n\\n\"\n",
        "    ans += \"Выберите существенные переменные для функции: 00101001\\n\\n\"\n",
        "    ans += \"Попыток осталось: n\\nВведите номер(а): 123\\n\\n\"\n",
        "    ans += \"Если у вас остались вопросы, то их можно задать разработчикам:\\n\\n\"\n",
        "    ans += \"https://vk.com/deltams4\\n\"\n",
        "    ans += \"https://vk.com/id212348723\\n\"\n",
        "    ans += \"https://vk.com/otza_to4ka_net\\n\\n\"\n",
        "    ans += \"Приятной игры ;)\\n\\n\\n\\n\"\n",
        "    label = tk.Label(child_root, text=ans, font=('Arial', 12, 'normal'), justify='left').pack()"
      ],
      "metadata": {
        "id": "VD8B5NYCqaC8"
      },
      "execution_count": null,
      "outputs": []
    },
    {
      "cell_type": "markdown",
      "source": [
        "##Draw_menu\n",
        "Выпадающее меню с настройкой кол-ва переменных."
      ],
      "metadata": {
        "id": "Is2UsAxcqXVm"
      }
    },
    {
      "cell_type": "code",
      "source": [
        "def draw_menu():\n",
        "    menu_bar = tk.Menu(root)\n",
        "    file_menu = tk.Menu(menu_bar, tearoff=0)\n",
        "    file_menu.add_radiobutton(label='1 переменная', value=1, variable=n_param, command=go_next)\n",
        "    file_menu.add_radiobutton(label='2 переменных', value=2, variable=n_param, command=go_next)\n",
        "    file_menu.add_radiobutton(label='3 переменных', value=3, variable=n_param, command=go_next)\n",
        "    file_menu.add_radiobutton(label='4 переменных', value=4, variable=n_param, command=go_next)\n",
        "    file_menu.add_radiobutton(label='5 переменных', value=5, variable=n_param, command=go_next)\n",
        "    menu_bar.add_cascade(label='Настройки', menu=file_menu)\n",
        "    root.configure(menu=menu_bar)"
      ],
      "metadata": {
        "id": "9ITSaBmEqYLw"
      },
      "execution_count": null,
      "outputs": []
    },
    {
      "cell_type": "markdown",
      "source": [
        "##Algorithm\n",
        "Выдаем случайно вектор пользователю и существенную или фиктивную переменную. Проверяем ввод пользователя, сравниваем с ответом."
      ],
      "metadata": {
        "id": "1VM_JYvBx7rO"
      }
    },
    {
      "cell_type": "markdown",
      "source": [
        "#Task6\n",
        " Игра. ДНФ. Система предлагает вектор функции. Пользователь вводит ДНФ. Система определяет правильно или нет.\n",
        "\n"
      ],
      "metadata": {
        "id": "-_blBTJwsxIl"
      }
    },
    {
      "cell_type": "markdown",
      "source": [
        "##Random_vector\n",
        "Создание рандомного вектора от ```vars_count``` переменных."
      ],
      "metadata": {
        "id": "hAb2imKStqX5"
      }
    },
    {
      "cell_type": "code",
      "source": [
        "def random_vector(vars_count):\n",
        "    len_vector = 2 ** vars_count\n",
        "    count_all_vectors = 2 ** len_vector\n",
        "    tmp = int(random.random() * (10 ** len(str(count_all_vectors)))) % count_all_vectors\n",
        "    vec = str(bin(tmp)[2:])\n",
        "    vec = \"0\" * (len_vector - len(vec)) + vec\n",
        "    ans = ''\n",
        "    for i in range(1, len(vec) + 1):\n",
        "        ans += vec[i - 1]\n",
        "        if i % 4 == 0:\n",
        "            ans += ' '\n",
        "    return ans"
      ],
      "metadata": {
        "id": "F-9U6YPitqs1"
      },
      "execution_count": null,
      "outputs": []
    },
    {
      "cell_type": "markdown",
      "source": [
        "###Algorithm_random_vector\n",
        "```len_vector```- длина вектора пользователя. \\\n",
        "```count_all_vectors``` - количество всех векторов. \\\n",
        "```tmp``` - рандомное число, которое ```< count_all_vectors```. \\\n",
        "1. Переводим ```tmp``` в двоичную с. с.\n",
        "2. Добавляем незначащие нули.\n",
        "3. Добавляем в вектор пробелов, чтоб было удобнее его читать.\n",
        "4. Возвращаем пользователю вектор."
      ],
      "metadata": {
        "id": "MEgDV7EkkP-L"
      }
    },
    {
      "cell_type": "markdown",
      "source": [
        "##String_standard2\n",
        "Заменяем буквы введные пользователем на переменные, которые используются внутри программы."
      ],
      "metadata": {
        "id": "62N1PliHvauW"
      }
    },
    {
      "cell_type": "code",
      "source": [
        "def string_standard2(player_string):\n",
        "    player_string = player_string.replace('x', 'x1')\n",
        "    player_string = player_string.replace('y', 'x2')\n",
        "    player_string = player_string.replace('z', 'x3')\n",
        "    player_string = player_string.replace('u', 'x4')\n",
        "    for i in range(1, 10):\n",
        "        player_string = player_string.replace(f'{1}{i}', f'{i}')\n",
        "    return player_string"
      ],
      "metadata": {
        "id": "8HFsw0icvbEe"
      },
      "execution_count": null,
      "outputs": []
    },
    {
      "cell_type": "markdown",
      "source": [
        "##String_standard\n",
        "Приводим значения пользователя в стандарт, в котором удобно работать внутри системы."
      ],
      "metadata": {
        "id": "iNR1KIwuv8mX"
      }
    },
    {
      "cell_type": "code",
      "source": [
        "def string_standard(player_string):\n",
        "    player_string = player_string.replace(' ', '').lower()\n",
        "    player_string = player_string.replace('&', '')\n",
        "    player_string = player_string.replace('*', '')\n",
        "    player_string = player_string.replace('(', '')\n",
        "    player_string = player_string.replace(')', '')\n",
        "    player_string = string_standard2(player_string)\n",
        "    player_string = player_string.replace('x', '')\n",
        "    player_string = player_string.split('v')\n",
        "    return player_string"
      ],
      "metadata": {
        "id": "ERG1_V8dv84X"
      },
      "execution_count": null,
      "outputs": []
    },
    {
      "cell_type": "markdown",
      "source": [
        "##What_degree_two\n",
        "Функция принимает число и возвращает в какой оно степени двойки находится. Если число не является степенью двойки, то возвращает значение -1."
      ],
      "metadata": {
        "id": "oHl9rypAwaVF"
      }
    },
    {
      "cell_type": "code",
      "source": [
        "def what_degree_two(number):  # В какую степень двойки возведено число; -1: не является степенью двойки\n",
        "    tmp = 1\n",
        "    ans = 0\n",
        "    while tmp < number:\n",
        "        tmp *= 2\n",
        "        ans += 1\n",
        "    if number == tmp:\n",
        "        return ans\n",
        "    else:\n",
        "        return -1"
      ],
      "metadata": {
        "id": "FOmhk9Bjwano"
      },
      "execution_count": null,
      "outputs": []
    },
    {
      "cell_type": "markdown",
      "source": [
        "###Algorithm_what_degree_two\n",
        "```number``` - целое число, которое нужно проверить для степени двойки. \\\n",
        "```tmp``` - целое число в степени двойки, которое постепенно увеличивается. \\\n",
        "```ans``` - целое число, степень двойки, в кторой находится ```tmp``` на данный момент. \\\n",
        "1. Запускаем цикл с условием ```tmp < number```.\n",
        "2. Внутри цикла увеличиваем ```tmp *= 2``` и ```ans += 1```.\n",
        "3. После завершения цикла мы поличим, что если ```tmp == number```, то \\\n",
        "```number``` является числом в степени двойки, возвращаем ответ, \\\n",
        "который хранится в ```ans```. Если условие не выполняется, то ```number``` не является степенью двойки."
      ],
      "metadata": {
        "id": "g8tmWalLLlt2"
      }
    },
    {
      "cell_type": "markdown",
      "source": [
        "##Dnf_check\n",
        "Проверяем введеные пользователем данные."
      ],
      "metadata": {
        "id": "f_KYvI9kwduW"
      }
    },
    {
      "cell_type": "code",
      "source": [
        "def dnf_check(player_string, vec):\n",
        "    global set_param\n",
        "\n",
        "    player_string = player_string.replace(' ', '').lower()\n",
        "\n",
        "    if len(player_string) == 0 or len(player_string) == 1 and 'x' != player_string[0]:\n",
        "        return False\n",
        "\n",
        "    # Проверка в начале есть ли недопустимый символ\n",
        "    if player_string[0] != '(' and player_string[0] != '-' and 'x' != player_string[0]:\n",
        "        return False\n",
        "\n",
        "    # Проверка в конце есть ли недопустимый символ\n",
        "    if player_string[-1] != ')' and '1' > player_string[-1] > '9':\n",
        "        return False\n",
        "\n",
        "    # Проверяет переменные, чтоб они не превышали допустимые значения\n",
        "    for char in player_string:\n",
        "        if '1' <= char <= '9':\n",
        "            if char > str(what_degree_two(len(vec))):\n",
        "                return False\n",
        "\n",
        "    for char in player_string:  # Проверка на допустимые символы\n",
        "        if char == '*' or char == 'v' \\\n",
        "                or char == '&' or 'x' == char \\\n",
        "                or char == '(' or char == ')' \\\n",
        "                or char == '-' or '1' <= char <= '9':\n",
        "            continue\n",
        "        return False\n",
        "\n",
        "    psp = 0\n",
        "    for char in player_string:  # Проверка ПСП (Если конечно скобки есть)\n",
        "        if char == '(':\n",
        "            psp += 1\n",
        "        elif char == ')':\n",
        "            psp -= 1\n",
        "            if psp < 0:\n",
        "                return False\n",
        "\n",
        "    player_string = player_string.replace('(', '')\n",
        "    player_string = player_string.replace(')', '')\n",
        "\n",
        "    for i in range(1, len(player_string)):  # Проверка повторов символов (Пример xx, **, &&, 11, 22, 12)\n",
        "        if player_string[i - 1] == player_string[i] \\\n",
        "                or ('1' <= player_string[i - 1] <= '9' and '1' <= player_string[i] <= '9'):\n",
        "            return False\n",
        "\n",
        "    player_string = player_string.replace('&', '')\n",
        "    player_string = player_string.replace('*', '')\n",
        "\n",
        "    stack_param = 0\n",
        "    for i in range(0, len(player_string)):  # Проверка на правильные переменные переменные\n",
        "        if player_string[i] == '-':\n",
        "            continue\n",
        "        elif '1' <= player_string[i] <= '9':\n",
        "            if stack_param == 0:\n",
        "                return False\n",
        "            stack_param -= 1\n",
        "        elif player_string[i] != 'v' \\\n",
        "                and player_string[i] == 'x':\n",
        "            stack_param = 1\n",
        "        else:\n",
        "            stack_param = 0\n",
        "        if stack_param < 0:\n",
        "            return False\n",
        "\n",
        "    return True"
      ],
      "metadata": {
        "id": "xUiEFBOvweD0"
      },
      "execution_count": null,
      "outputs": []
    },
    {
      "cell_type": "markdown",
      "source": [
        "###Algorithm_dnf_check\n",
        "1. Удаляем пробелы и приводим к строчным буквам.\n",
        "2. Проверяем, что строка не пустая и есть ли недопустимые символы.\n",
        "3. Проверяем есть недопустимые символы в начале строки.\n",
        "4. Проверяем есть недопустимые символы в конце строки.\n",
        "5. Проверяем переменные на то, что они не превышают допустимых значений.\n",
        "6. Проверяем строку на содержание только данных символов: ```['*', 'v', '&', 'x', '(', ')', '-', '1', '2', '3', '4', '5', '6', '7', '8', '9']```\n",
        "7. Проверяем, что выполняется условие [ПСП](https://ru.wikipedia.org/wiki/%D0%9F%D1%80%D0%B0%D0%B2%D0%B8%D0%BB%D1%8C%D0%BD%D0%B0%D1%8F_%D1%81%D0%BA%D0%BE%D0%B1%D0%BE%D1%87%D0%BD%D0%B0%D1%8F_%D0%BF%D0%BE%D1%81%D0%BB%D0%B5%D0%B4%D0%BE%D0%B2%D0%B0%D1%82%D0%B5%D0%BB%D1%8C%D0%BD%D0%BE%D1%81%D1%82%D1%8C)\n",
        "8. Можно избавиться от скобок.\n",
        "9. Проверка повторов символов. Пример: ```xx, **, &&, vv, 11, 22, 12```\n",
        "10. Можно избавиться от символов ```'*'``` и ```'&'```.\n",
        "11. Проверяем, что переменные были введены верно. Пример: ```x1x2x3```.\n",
        "\n"
      ],
      "metadata": {
        "id": "8twklhfzotUL"
      }
    },
    {
      "cell_type": "markdown",
      "source": [
        "##Dnf_true\n",
        "Проверяем правильность введеной ДНФ."
      ],
      "metadata": {
        "id": "1NIWj1qIwttg"
      }
    },
    {
      "cell_type": "code",
      "source": [
        "def dnf_true(player_string, vec):\n",
        "    param = string_standard(player_string)\n",
        "    vec_mass = []\n",
        "    vec_ans = []\n",
        "    for i in range(len(param)):\n",
        "        vec_mass.append(\"\")\n",
        "    for i in range(len(vec)):\n",
        "        vec_ans.append(\"0\")\n",
        "        t = str(bin(i)[2:])\n",
        "        t = \"0\" * (what_degree_two(len(vec)) - len(t)) + t\n",
        "        for tm in range(len(param)):\n",
        "            zn = 1\n",
        "            tmpp = 1\n",
        "            for j in param[tm]:\n",
        "                if j == '-':\n",
        "                    zn = -1\n",
        "                    continue\n",
        "                if t[int(j) - 1] == '1' and zn == -1:\n",
        "                    tmpp *= 0\n",
        "                elif t[int(j) - 1] == '0' and zn == -1:\n",
        "                    tmpp *= 1\n",
        "                else:\n",
        "                    tmpp *= int(t[int(j) - 1])\n",
        "                zn = 1\n",
        "            vec_mass[tm] += str(tmpp)\n",
        "\n",
        "    for string in range(len(vec_mass)):\n",
        "        for j in range(len(vec_mass[string])):\n",
        "            if vec_mass[string][j] == '1':\n",
        "                vec_ans[j] = '1'\n",
        "    return \"\".join(vec_ans)"
      ],
      "metadata": {
        "id": "-DrAt4CNwuAx"
      },
      "execution_count": null,
      "outputs": []
    },
    {
      "cell_type": "markdown",
      "source": [
        "###Algorithm_dnf_true\n",
        "1. Приводим строку к стандарту.\n",
        "2. Строим таблицу истинности.\n",
        "3. По талице проверяем наши значения в строке пользователя и получаем новый вектор, который необходимо сравнить с выданным пользователю.\n",
        "4. Возвращаем полученный вектор."
      ],
      "metadata": {
        "id": "H8iHDgSvyejX"
      }
    },
    {
      "cell_type": "markdown",
      "source": [
        "##Send_answer\n",
        "Проверка ответа пользователя и вывод результа."
      ],
      "metadata": {
        "id": "KymwXvH7wyOk"
      }
    },
    {
      "cell_type": "code",
      "source": [
        "def send_answer():\n",
        "    player_string = entry.get()\n",
        "    vec = ''\n",
        "    tmp = vector_label.cget('text').split()\n",
        "    for i in range(0, len(tmp)):\n",
        "        vec += tmp[i]\n",
        "    if dnf_check(string_standard2(player_string), vec):\n",
        "        ans_vec = dnf_true(player_string, vec)\n",
        "        if vec == ans_vec:\n",
        "            error_label.configure(text='Введеная ДНФ верная', fg='green')\n",
        "        else:\n",
        "            error_label.configure(text='Введеная ДНФ неверная!', fg='red')\n",
        "    elif len(player_string.replace(' ', '')) == 0 and vec.count('0') == len(vec):\n",
        "        error_label.configure(text='Введеная ДНФ верная', fg='green')\n",
        "    else:\n",
        "        error_label.configure(text='Неверный ввод!!!', fg='red')\n",
        "\n",
        "    button_submit['state'] = 'disabled'\n",
        "    entry['state'] = 'disabled'\n",
        "    go_next_button.pack(side='left', padx=5)\n",
        "    remake_button.pack(side='left', padx=5)"
      ],
      "metadata": {
        "id": "tqAtuw6Swyz8"
      },
      "execution_count": null,
      "outputs": []
    },
    {
      "cell_type": "markdown",
      "source": [
        "##Go_next\n",
        "Функция отвечающая за кнопку новое задание."
      ],
      "metadata": {
        "id": "enFsXMivw2nf"
      }
    },
    {
      "cell_type": "code",
      "source": [
        "def go_next():\n",
        "    button_submit['state'] = 'normal'\n",
        "    entry['state'] = 'normal'\n",
        "    entry.delete(0, 'end')\n",
        "    go_next_button.pack_forget()\n",
        "    remake_button.pack_forget()\n",
        "    error_label.configure(text='')\n",
        "    vector_label.configure(text=random_vector(n_param.get()))"
      ],
      "metadata": {
        "id": "kHPecBT1w270"
      },
      "execution_count": null,
      "outputs": []
    },
    {
      "cell_type": "markdown",
      "source": [
        "##Remake_task\n",
        "Функция отвечающая за кнопку перепройти."
      ],
      "metadata": {
        "id": "QKTC-uSqw3tC"
      }
    },
    {
      "cell_type": "code",
      "source": [
        "def remake_task():\n",
        "    button_submit['state'] = 'normal'\n",
        "    entry['state'] = 'normal'\n",
        "    entry.delete(0, 'end')\n",
        "    go_next_button.pack_forget()\n",
        "    remake_button.pack_forget()\n",
        "    error_label.configure(text='')"
      ],
      "metadata": {
        "id": "4QmsRyPDw35u"
      },
      "execution_count": null,
      "outputs": []
    },
    {
      "cell_type": "markdown",
      "source": [
        "##Open_child_root\n",
        "Открывает дополнительное окно(справака)."
      ],
      "metadata": {
        "id": "6ttQRTQgw5qR"
      }
    },
    {
      "cell_type": "code",
      "source": [
        "def open_child_root():\n",
        "    child_root = tk.Toplevel(root)\n",
        "    child_root.title('Справка')\n",
        "    child_root.geometry('550x350+100+100')\n",
        "    child_root.resizable(False, False)\n",
        "    child_root.grab_set()\n",
        "    ans = \"\\n\\nПример ввода данных:\\n\\n\"\n",
        "    ans += '(-x1*-x2&x3)v(-x1x2-x3)V(-x1x2x3)v(x1-x2-x3)v(x1-x2x3)v(x1x2-x3)\\n\\n\\n'\n",
        "    ans += '-x1*-x2&x3v-x1x2-x3V-x1x2x3vx1-x2-x3vx1-x2x3vx1x2-x3\\n\\n\\n'\n",
        "    ans += '-x1*-x2&x3v-x1x2-x3V-x1x2x3vx1-x2-x3vx1-x2x3vx1x2-x3\\n\\n\\n'\n",
        "    ans += '-x1*-x2&x3 v -x1x2-x3 V -x1x2x3 v x1-x2-x3 v x1-x2x3 v x1x2-x3\\n\\n\\n'\n",
        "    ans += \"Приятной игры ;)\\n\\n\\n\\n\"\n",
        "    label = tk.Label(child_root, text=ans, font=('Arial', 12, 'normal'), justify='left').pack()"
      ],
      "metadata": {
        "id": "GhTsIaCcw6PG"
      },
      "execution_count": null,
      "outputs": []
    },
    {
      "cell_type": "markdown",
      "source": [
        "##Draw_menu\n",
        "Выпадающее меню с настройкой кол-ва переменных."
      ],
      "metadata": {
        "id": "R-LR57yLw9ZI"
      }
    },
    {
      "cell_type": "code",
      "source": [
        "def draw_menu():\n",
        "    menu_bar = tk.Menu(root)\n",
        "    file_menu = tk.Menu(menu_bar, tearoff=0)\n",
        "    file_menu.add_radiobutton(label='1 переменная', value=1, variable=n_param, command=go_next)\n",
        "    file_menu.add_radiobutton(label='2 переменных', value=2, variable=n_param, command=go_next)\n",
        "    file_menu.add_radiobutton(label='3 переменных', value=3, variable=n_param, command=go_next)\n",
        "    file_menu.add_radiobutton(label='4 переменных', value=4, variable=n_param, command=go_next)\n",
        "    file_menu.add_radiobutton(label='5 переменных', value=5, variable=n_param, command=go_next)\n",
        "    menu_bar.add_cascade(label='Настройки', menu=file_menu)\n",
        "    root.configure(menu=menu_bar)"
      ],
      "metadata": {
        "id": "hzvkwntYw905"
      },
      "execution_count": null,
      "outputs": []
    },
    {
      "cell_type": "markdown",
      "source": [
        "##Algorithm\n",
        "Выдаем случайно вектор пользователю. Проверяем правильность ввода. Строим таблицу истенности и сравниваем с выданным вектором."
      ],
      "metadata": {
        "id": "NMazsUj1y5Hp"
      }
    },
    {
      "cell_type": "markdown",
      "source": [
        "#Task7\n",
        " Игра. КНФ. Система предлагает вектор функции. Пользователь вводит КНФ. Система определяет правильно или нет.\n"
      ],
      "metadata": {
        "id": "O2FVg9Qa2o7P"
      }
    },
    {
      "cell_type": "markdown",
      "source": [
        "##Random_vector\n",
        "Создание рандомного вектора от vars_count переменных."
      ],
      "metadata": {
        "id": "IGK5cRxo21v2"
      }
    },
    {
      "cell_type": "code",
      "source": [
        "def random_vector(vars_count):\n",
        "    global vec\n",
        "    len_vector = 2 ** vars_count\n",
        "    count_all_vectors = 2 ** len_vector\n",
        "    tmp = int(random.random() * (10 ** len(str(count_all_vectors)))) % count_all_vectors\n",
        "    vec = str(bin(tmp)[2:])\n",
        "    vec = \"0\" * (len_vector - len(vec)) + vec\n",
        "    ans = ''\n",
        "    for i in range(1, len(vec) + 1):\n",
        "        ans += vec[i - 1]\n",
        "        if i % 4 == 0:\n",
        "            ans += ' '\n",
        "    return ans"
      ],
      "metadata": {
        "id": "w5LOd0No22Ds"
      },
      "execution_count": null,
      "outputs": []
    },
    {
      "cell_type": "markdown",
      "source": [
        "###Algorithm_random_vector\n",
        "```len_vector```- длина вектора пользователя. \\\n",
        "```count_all_vectors``` - количество всех векторов. \\\n",
        "```tmp``` - рандомное число, которое ```< count_all_vectors```. \\\n",
        "1. Переводим ```tmp``` в двоичную с. с.\n",
        "2. Добавляем незначащие нули.\n",
        "3. Добавляем в вектор пробелов, чтоб было удобнее его читать.\n",
        "4. Возвращаем пользователю вектор."
      ],
      "metadata": {
        "id": "0r-WobCJnVlk"
      }
    },
    {
      "cell_type": "markdown",
      "source": [
        "##String_standard2\n",
        "Заменяем буквы введные пользователем на переменные, которые используются внутри программы."
      ],
      "metadata": {
        "id": "C_M6cVhL_O5t"
      }
    },
    {
      "cell_type": "code",
      "source": [
        "def string_standard2(player_string):\n",
        "    player_string = player_string.replace('x', 'x1')\n",
        "    player_string = player_string.replace('y', 'x2')\n",
        "    player_string = player_string.replace('z', 'x3')\n",
        "    player_string = player_string.replace('u', 'x4')\n",
        "    for i in range(1, 10):\n",
        "        player_string = player_string.replace(f'{1}{i}', f'{i}')\n",
        "    return player_string"
      ],
      "metadata": {
        "id": "LUJxXQl1_PNg"
      },
      "execution_count": null,
      "outputs": []
    },
    {
      "cell_type": "markdown",
      "source": [
        "##String_standard\n",
        "Приводим значения пользователя в стандарт, в котором удобно работать внутри системы."
      ],
      "metadata": {
        "id": "aIaG86_0_PrS"
      }
    },
    {
      "cell_type": "code",
      "source": [
        "def string_standard(player_string):\n",
        "    player_string = player_string.replace(' ', '').lower()\n",
        "    player_string = player_string.replace('&', '')\n",
        "    player_string = player_string.replace('*', '')\n",
        "    player_string = player_string.replace('(', '')\n",
        "    player_string = player_string.replace(')', '')\n",
        "    player_string = string_standard2(player_string)\n",
        "    player_string = player_string.replace('x', '')\n",
        "    ans = []\n",
        "    tmp = 1\n",
        "    string = ''\n",
        "    for i in player_string:\n",
        "        if i == '-' and tmp != 0:\n",
        "            string += '-'\n",
        "            continue\n",
        "        if i == 'v':\n",
        "            tmp = 1\n",
        "            continue\n",
        "        tmp -= 1\n",
        "        if tmp == -1:\n",
        "            ans.append(string)\n",
        "            string = i\n",
        "            if i == '-':\n",
        "                tmp = 1\n",
        "            else:\n",
        "                tmp = 0\n",
        "        else:\n",
        "            string += i\n",
        "    ans.append(string)\n",
        "    return ans"
      ],
      "metadata": {
        "id": "OVGm_LQC_P9c"
      },
      "execution_count": null,
      "outputs": []
    },
    {
      "cell_type": "markdown",
      "source": [
        "##What_degree_two\n",
        "Функция принимает число и возвращает в какой оно степени двойки находится. Если число не является степенью двойки, то возвращает значение -1."
      ],
      "metadata": {
        "id": "rnMmG3w-_QT-"
      }
    },
    {
      "cell_type": "code",
      "source": [
        "def what_degree_two(number):  # В какую степень двойки возведено число; -1: не является степенью двойки\n",
        "    tmp = 1\n",
        "    ans = 0\n",
        "    while tmp < number:\n",
        "        tmp *= 2\n",
        "        ans += 1\n",
        "    if number == tmp:\n",
        "        return ans\n",
        "    else:\n",
        "        return -1"
      ],
      "metadata": {
        "id": "xBoGIPfg_Qpj"
      },
      "execution_count": null,
      "outputs": []
    },
    {
      "cell_type": "markdown",
      "source": [
        "###Algorithm_what_degree_two\n",
        "```number``` - целое число, которое нужно проверить для степени двойки. \\\n",
        "```tmp``` - целое число в степени двойки, которое постепенно увеличивается. \\\n",
        "```ans``` - целое число, степень двойки, в кторой находится ```tmp``` на данный момент. \\\n",
        "1. Запускаем цикл с условием ```tmp < number```.\n",
        "2. Внутри цикла увеличиваем ```tmp *= 2``` и ```ans += 1```.\n",
        "3. После завершения цикла мы поличим, что если ```tmp == number```, то \\\n",
        "```number``` является числом в степени двойки, возвращаем ответ, \\\n",
        "который хранится в ```ans```. Если условие не выполняется, то ```number``` не является степенью двойки."
      ],
      "metadata": {
        "id": "YBL1LNQlLn7X"
      }
    },
    {
      "cell_type": "markdown",
      "source": [
        "##Knf_check\n",
        "Проверяем введеные пользователем данные."
      ],
      "metadata": {
        "id": "FbFG8cBt_YjL"
      }
    },
    {
      "cell_type": "code",
      "source": [
        "def knf_check(player_string, vec):\n",
        "    global set_param\n",
        "\n",
        "    player_string = player_string.replace(' ', '').lower()\n",
        "\n",
        "    if len(player_string) == 0 or len(player_string) == 1 and 'x' != player_string[0]:\n",
        "        return False\n",
        "\n",
        "    # Проверка в начале есть ли недопустимый символ\n",
        "    if player_string[0] != '(' and player_string[0] != '-' and 'x' != player_string[0]:\n",
        "        return False\n",
        "\n",
        "    # Проверка в конце есть ли недопустимый символ\n",
        "    if player_string[-1] != ')' and '1' > player_string[-1] > '9':\n",
        "        return False\n",
        "\n",
        "    # Проверяет переменные, чтоб они не превышали допустимые значения\n",
        "    for char in player_string:\n",
        "        if '1' <= char <= '9':\n",
        "            if char > str(what_degree_two(len(vec))):\n",
        "                return False\n",
        "\n",
        "    for char in player_string:  # Проверка на допустимые символы\n",
        "        if char == '*' or char == 'v' \\\n",
        "                or char == '&' or 'x' == char \\\n",
        "                or char == '(' or char == ')' \\\n",
        "                or char == '-' or '1' <= char <= '9':\n",
        "            continue\n",
        "        return False\n",
        "\n",
        "    psp = 0\n",
        "    for char in player_string:  # Проверка ПСП (Если конечно скобки есть)\n",
        "        if char == '(':\n",
        "            psp += 1\n",
        "        elif char == ')':\n",
        "            psp -= 1\n",
        "            if psp < 0:\n",
        "                return False\n",
        "\n",
        "    player_string = player_string.replace('(', '')\n",
        "    player_string = player_string.replace(')', '')\n",
        "\n",
        "    for i in range(1, len(player_string)):  # Проверка повторов символов (Перемер xx, **, &&, 11, 22, 12)\n",
        "        if player_string[i - 1] == player_string[i] \\\n",
        "                or ('1' <= player_string[i - 1] <= '9' \\\n",
        "                    and '1' <= player_string[i] <= '9'):\n",
        "            return False\n",
        "\n",
        "    player_string = player_string.replace('&', '')\n",
        "    player_string = player_string.replace('*', '')\n",
        "\n",
        "    stack_param = 0\n",
        "    for i in range(0, len(player_string)):  # Проверка на правильные переменные переменные\n",
        "        if player_string[i] == '-':\n",
        "            continue\n",
        "        elif '1' <= player_string[i] <= '9':\n",
        "            if stack_param == 0:\n",
        "                return False\n",
        "            stack_param -= 1\n",
        "        elif player_string[i] != 'v' \\\n",
        "                and player_string[i] == 'x':\n",
        "            stack_param += 1\n",
        "            if stack_param >= 3:\n",
        "                return False\n",
        "        else:\n",
        "            stack_param = 0\n",
        "        if stack_param < 0:\n",
        "            return False\n",
        "\n",
        "    return True"
      ],
      "metadata": {
        "id": "3dbDVMkw_Y1-"
      },
      "execution_count": null,
      "outputs": []
    },
    {
      "cell_type": "markdown",
      "source": [
        "###Algorithm_knf_check\n",
        "1. Удаляем пробелы и приводим к строчным буквам.\n",
        "2. Проверяем, что строка не пустая и есть ли недопустимые символы.\n",
        "3. Проверяем есть недопустимые символы в начале строки.\n",
        "4. Проверяем есть недопустимые символы в конце строки.\n",
        "5. Проверяем переменные на то, что они не превышают допустимых значений.\n",
        "6. Проверяем строку на содержание только данных символов: ```['*', 'v', '&', 'x', '(', ')', '-', '1', '2', '3', '4', '5', '6', '7', '8', '9']```\n",
        "7. Проверяем, что выполняется условие [ПСП](https://ru.wikipedia.org/wiki/%D0%9F%D1%80%D0%B0%D0%B2%D0%B8%D0%BB%D1%8C%D0%BD%D0%B0%D1%8F_%D1%81%D0%BA%D0%BE%D0%B1%D0%BE%D1%87%D0%BD%D0%B0%D1%8F_%D0%BF%D0%BE%D1%81%D0%BB%D0%B5%D0%B4%D0%BE%D0%B2%D0%B0%D1%82%D0%B5%D0%BB%D1%8C%D0%BD%D0%BE%D1%81%D1%82%D1%8C)\n",
        "8. Можно избавиться от скобок.\n",
        "9. Проверка повторов символов. Пример: ```xx, **, &&, vv, 11, 22, 12```\n",
        "10. Можно избавиться от символов ```'*'``` и ```'&'```.\n",
        "11. Проверяем, что переменные были введены верно. Пример: ```x1vx2vx3-x1vx2```."
      ],
      "metadata": {
        "id": "68DYbP761QVR"
      }
    },
    {
      "cell_type": "markdown",
      "source": [
        "##Knf_true\n",
        "Проверяем правильность введеной КНФ."
      ],
      "metadata": {
        "id": "GzLB6Gbq_ZTN"
      }
    },
    {
      "cell_type": "code",
      "source": [
        "def knf_true(player_string):\n",
        "    global vec\n",
        "    param = string_standard(player_string)\n",
        "    vec_mass = []\n",
        "    vec_ans = []\n",
        "    for i in range(len(param)):\n",
        "        vec_mass.append(\"\")\n",
        "    for i in range(len(vec)):\n",
        "        vec_ans.append(\"1\")\n",
        "        t = str(bin(i)[2:])\n",
        "        t = \"0\" * (what_degree_two(len(vec)) - len(t)) + t\n",
        "        for tm in range(len(param)):\n",
        "            zn = 1\n",
        "            tmpp = 0\n",
        "            for j in param[tm]:\n",
        "                if j == '-':\n",
        "                    zn = -1\n",
        "                    continue\n",
        "                if t[int(j) - 1] == '1' and zn == -1:\n",
        "                    tmpp += 0\n",
        "                elif t[int(j) - 1] == '0' and zn == -1:\n",
        "                    tmpp = 1\n",
        "                else:\n",
        "                    tmpp += int(t[int(j) - 1])\n",
        "                    if tmpp == 2:\n",
        "                        tmpp = 1\n",
        "                zn = 1\n",
        "            vec_mass[tm] += str(tmpp)\n",
        "\n",
        "    for string in range(len(vec_mass)):\n",
        "        for j in range(len(vec_mass[string])):\n",
        "            if vec_mass[string][j] == '0':\n",
        "                vec_ans[j] = '0'\n",
        "    return \"\".join(vec_ans)"
      ],
      "metadata": {
        "id": "pKu6sAVe_Zk8"
      },
      "execution_count": null,
      "outputs": []
    },
    {
      "cell_type": "markdown",
      "source": [
        "###Algorithm_knf_true\n",
        "1. Приводим строку к стандарту.\n",
        "2. Строим таблицу истинности.\n",
        "3. По талице проверяем наши значения в строке пользователя и получаем новый вектор, который необходимо сравнить с выданным пользователю.\n",
        "4. Возвращаем полученный вектор."
      ],
      "metadata": {
        "id": "Hmk2qLcJ2xZR"
      }
    },
    {
      "cell_type": "markdown",
      "source": [
        "##Send_answer\n",
        "Проверка ответа пользователя и вывод результа."
      ],
      "metadata": {
        "id": "kAEJMXVg_aNC"
      }
    },
    {
      "cell_type": "code",
      "source": [
        "def send_answer():\n",
        "    player_string = entry.get()\n",
        "    vec = ''\n",
        "    tmp = vector_label.cget('text').split()\n",
        "    for i in range(0, len(tmp)):\n",
        "        vec += tmp[i]\n",
        "    if knf_check(string_standard2(player_string), vec):\n",
        "        ans_vec = knf_true(player_string)\n",
        "        if vec == ans_vec:\n",
        "            error_label.configure(text='Введеная КНФ верная', fg='green')\n",
        "        else:\n",
        "            error_label.configure(text='Введеная КНФ неверная!', fg='red')\n",
        "    elif len(player_string.replace(' ', '')) == 0 and vec.count('1') == len(vec):\n",
        "        error_label.configure(text='Введеная КНФ верная', fg='green')\n",
        "    else:\n",
        "        error_label.configure(text='Неверный ввод!!!', fg='red')\n",
        "\n",
        "    button_submit['state'] = 'disabled'\n",
        "    entry['state'] = 'disabled'\n",
        "    go_next_button.pack(side='left', padx=5)\n",
        "    remake_button.pack(side='left', padx=5)"
      ],
      "metadata": {
        "id": "zT502MCG_ahi"
      },
      "execution_count": null,
      "outputs": []
    },
    {
      "cell_type": "markdown",
      "source": [
        "##Go_next\n",
        "Функция отвечающая за кнопку новое задание."
      ],
      "metadata": {
        "id": "Ox74hg_z_lys"
      }
    },
    {
      "cell_type": "code",
      "source": [
        "def go_next():\n",
        "    button_submit['state'] = 'normal'\n",
        "    entry['state'] = 'normal'\n",
        "    entry.delete(0, 'end')\n",
        "    go_next_button.pack_forget()\n",
        "    remake_button.pack_forget()\n",
        "    error_label.configure(text='')\n",
        "    vector_label.configure(text=random_vector(n_param.get()))"
      ],
      "metadata": {
        "id": "GIiLU5TV_mG9"
      },
      "execution_count": null,
      "outputs": []
    },
    {
      "cell_type": "markdown",
      "source": [
        "##Remake_task\n",
        "Функция отвечающая за кнопку перепройти."
      ],
      "metadata": {
        "id": "iJD-NOnI_oXQ"
      }
    },
    {
      "cell_type": "code",
      "source": [
        "def remake_task():\n",
        "    button_submit['state'] = 'normal'\n",
        "    entry['state'] = 'normal'\n",
        "    entry.delete(0, 'end')\n",
        "    go_next_button.pack_forget()\n",
        "    remake_button.pack_forget()\n",
        "    error_label.configure(text='')"
      ],
      "metadata": {
        "id": "NjC4JVBL_ooY"
      },
      "execution_count": null,
      "outputs": []
    },
    {
      "cell_type": "markdown",
      "source": [
        "##Open_child_root\n",
        "Открывает дополнительное окно(справака)."
      ],
      "metadata": {
        "id": "qd3l6duc_q0Y"
      }
    },
    {
      "cell_type": "code",
      "source": [
        "def open_child_root():\n",
        "    child_root = tk.Toplevel(root)\n",
        "    child_root.title('Справка')\n",
        "    child_root.geometry('550x350+100+100')\n",
        "    child_root.resizable(False, False)\n",
        "    child_root.grab_set()\n",
        "    ans = '\\n\\nПример ввода:\\n\\n'\n",
        "    ans += '(x1 v x2)*(x3 v -x4)\\n\\n'\n",
        "    ans += 'x1 v x2x3 v -x4\\n\\n'\n",
        "    ans += 'x1vx2x3v-x4\\n\\n'\n",
        "    ans += '(x1v-x2vx3)*(-x1vx2v-x3)&(-x1v-x2vx3)\\n\\n'\n",
        "    ans += \"Приятной игры ;)\\n\\n\\n\"\n",
        "    label = tk.Label(child_root, text=ans, font=('Arial', 14, 'normal'), justify='left').pack()"
      ],
      "metadata": {
        "id": "Km2_1TPL_rGz"
      },
      "execution_count": null,
      "outputs": []
    },
    {
      "cell_type": "markdown",
      "source": [
        "##Draw_menu\n",
        "Выпадающее меню с настройкой кол-ва переменных."
      ],
      "metadata": {
        "id": "6qp8cscj_uD7"
      }
    },
    {
      "cell_type": "code",
      "source": [
        "def draw_menu():\n",
        "    menu_bar = tk.Menu(root)\n",
        "    file_menu = tk.Menu(menu_bar, tearoff=0)\n",
        "    file_menu.add_radiobutton(label='1 переменная', value=1, variable=n_param, command=go_next)\n",
        "    file_menu.add_radiobutton(label='2 переменных', value=2, variable=n_param, command=go_next)\n",
        "    file_menu.add_radiobutton(label='3 переменных', value=3, variable=n_param, command=go_next)\n",
        "    file_menu.add_radiobutton(label='4 переменных', value=4, variable=n_param, command=go_next)\n",
        "    file_menu.add_radiobutton(label='5 переменных', value=5, variable=n_param, command=go_next)\n",
        "    menu_bar.add_cascade(label='Настройки', menu=file_menu)\n",
        "    root.configure(menu=menu_bar)"
      ],
      "metadata": {
        "id": "j50dkweI_uWk"
      },
      "execution_count": null,
      "outputs": []
    },
    {
      "cell_type": "markdown",
      "source": [
        "##Algorithm\n",
        "Выдаем случайно вектор пользователю. Проверяем правильность ввода. Строим таблицу истенности и сравниваем с выданным вектором."
      ],
      "metadata": {
        "id": "_QenVOKwC2zd"
      }
    },
    {
      "cell_type": "markdown",
      "source": [
        "#Task8\n",
        " Пользователь вводит вектор функции. Система строит СДНФ."
      ],
      "metadata": {
        "id": "sfnlD5EVDBzS"
      }
    },
    {
      "cell_type": "markdown",
      "source": [
        "##What_degree_two\n",
        "Функция принимает число и возвращает в какой оно степени двойки находится. Если число не является степенью двойки, то возвращает значение -1."
      ],
      "metadata": {
        "id": "m4gVBp2IDQfF"
      }
    },
    {
      "cell_type": "code",
      "source": [
        "def what_degree_two(number): # В какую степень двойки возведено число; -1: не является степенью двойки\n",
        "    tmp = 1\n",
        "    ans = 0\n",
        "    while tmp < number:\n",
        "        tmp *= 2\n",
        "        ans += 1\n",
        "    if number == tmp:\n",
        "        return ans\n",
        "    else:\n",
        "        return -1"
      ],
      "metadata": {
        "id": "29T1vi72DQxU"
      },
      "execution_count": null,
      "outputs": []
    },
    {
      "cell_type": "markdown",
      "source": [
        "###Algorithm_what_degree_two\n",
        "```number``` - целое число, которое нужно проверить для степени двойки. \\\n",
        "```tmp``` - целое число в степени двойки, которое постепенно увеличивается. \\\n",
        "```ans``` - целое число, степень двойки, в кторой находится ```tmp``` на данный момент. \\\n",
        "1. Запускаем цикл с условием ```tmp < number```.\n",
        "2. Внутри цикла увеличиваем ```tmp *= 2``` и ```ans += 1```.\n",
        "3. После завершения цикла мы поличим, что если ```tmp == number```, то \\\n",
        "```number``` является числом в степени двойки, возвращаем ответ, \\\n",
        "который хранится в ```ans```. Если условие не выполняется, то ```number``` не является степенью двойки."
      ],
      "metadata": {
        "id": "p3WD2mX5LpUE"
      }
    },
    {
      "cell_type": "markdown",
      "source": [
        "##Check_vector\n",
        "Проверяется, что вектор введен верно. \\\n",
        "Проверки:\n",
        "- Длина вектора (вектор не может быть < 2)\n",
        "- Состоит ли вектор только из \"0\" и \"1\""
      ],
      "metadata": {
        "id": "WZobyNKwEsT5"
      }
    },
    {
      "cell_type": "code",
      "source": [
        "def check_vector(vec):\n",
        "    if len(vec) < 2:\n",
        "        return False\n",
        "    for char in vec:\n",
        "        if \"0\"<= char <= \"1\":\n",
        "            continue\n",
        "        return False\n",
        "    return True"
      ],
      "metadata": {
        "id": "vJU0su2bEsmj"
      },
      "execution_count": null,
      "outputs": []
    },
    {
      "cell_type": "markdown",
      "source": [
        "###Algorithm_check_vector\n",
        "```vec``` - вектор(строка) передаваемый пользователем```(\"0110\")```.\n",
        "1. Вычисляем длину вектора и проверяем ее. \\\n",
        "2. Если длина меньше 2, то возвращаем, что вектор введен неврено. \\\n",
        "3. Проходим по всем символам вектора и проверяем, что он состоит только \\\n",
        "из ```\"0\"``` и ```\"1\"```, если есть сторонний символ, то возвращаем, вектор введен неверно.\n",
        "4. В остальных случаях возвращаем, что вектор введен верно."
      ],
      "metadata": {
        "id": "myW3cealMRbT"
      }
    },
    {
      "cell_type": "markdown",
      "source": [
        "##SDNF\n",
        "Построение СДНФ."
      ],
      "metadata": {
        "id": "CPUwvfVEEtcZ"
      }
    },
    {
      "cell_type": "code",
      "source": [
        "player_string = input(\"Введите вектор: \")\n",
        "player_string = player_string.replace(' ', '')\n",
        "\n",
        "if what_degree_two(len(player_string)) != -1 and check_vector(player_string):\n",
        "    tmp = 0\n",
        "    deg_t = what_degree_two(len(player_string))\n",
        "    ans = \"\"\n",
        "    for char in player_string:\n",
        "        if char == '1':\n",
        "            t = '0'*(deg_t - len(str(bin(tmp)[2:]))) + str(bin(tmp)[2:])\n",
        "            num_arg = 1\n",
        "            ans += \"(\"\n",
        "            for i in t:\n",
        "                if i == '0':\n",
        "                    ans += f\"-x{num_arg}\"\n",
        "                else:\n",
        "                    ans += f\"x{num_arg}\"\n",
        "                num_arg += 1\n",
        "            ans += \")v\"\n",
        "        tmp += 1\n",
        "    ans = ans[:len(ans)-1]\n",
        "    print(\"СДНФ: \"+ ans)\n",
        "else:\n",
        "    print(\"Ошибка при вводе вектора!\")"
      ],
      "metadata": {
        "id": "DpyEhNlVEttN"
      },
      "execution_count": null,
      "outputs": []
    },
    {
      "cell_type": "markdown",
      "source": [
        "##Algorithm\n",
        "Проходим по всему вектору, если находится единица, то смотрим по таблице истинности, где стоят нули заменить их на переменные с отрицанием, где стоят единицы заменить просто на переменные. Добавляем скобочки и знаки дизъюнкции, конъюнкции."
      ],
      "metadata": {
        "id": "SLC0zqGZEvTb"
      }
    },
    {
      "cell_type": "markdown",
      "source": [
        "#Task9\n",
        " Пользователь вводит вектор функции. Система строит СКНФ.\n"
      ],
      "metadata": {
        "id": "2bWj1BNYHZXF"
      }
    },
    {
      "cell_type": "markdown",
      "source": [
        "##What_degree_two\n",
        "Функция принимает число и возвращает в какой оно степени двойки находится. Если число не является степенью двойки, то возвращает значение -1."
      ],
      "metadata": {
        "id": "C1UyvvObIEgX"
      }
    },
    {
      "cell_type": "code",
      "source": [
        "def what_degree_two(number): # В какую степень двойки возведено число; -1: не является степенью двойки\n",
        "    tmp = 1\n",
        "    ans = 0\n",
        "    while tmp < number:\n",
        "        tmp *= 2\n",
        "        ans += 1\n",
        "    if number == tmp:\n",
        "        return ans\n",
        "    else:\n",
        "        return -1"
      ],
      "metadata": {
        "id": "5-4XwQiyIEuZ"
      },
      "execution_count": null,
      "outputs": []
    },
    {
      "cell_type": "markdown",
      "source": [
        "###Algorithm_what_degree_two\n",
        "```number``` - целое число, которое нужно проверить для степени двойки. \\\n",
        "```tmp``` - целое число в степени двойки, которое постепенно увеличивается. \\\n",
        "```ans``` - целое число, степень двойки, в кторой находится ```tmp``` на данный момент. \\\n",
        "1. Запускаем цикл с условием ```tmp < number```.\n",
        "2. Внутри цикла увеличиваем ```tmp *= 2``` и ```ans += 1```.\n",
        "3. После завершения цикла мы поличим, что если ```tmp == number```, то \\\n",
        "```number``` является числом в степени двойки, возвращаем ответ, \\\n",
        "который хранится в ```ans```. Если условие не выполняется, то ```number``` не является степенью двойки."
      ],
      "metadata": {
        "id": "5Wy5uD19LqvP"
      }
    },
    {
      "cell_type": "markdown",
      "source": [
        "##Check_vector\n",
        "Проверяется, что вектор введен верно. \\\n",
        "Проверки:\n",
        "- Длина вектора (вектор не может быть < 2)\n",
        "- Состоит ли вектор только из \"0\" и \"1\""
      ],
      "metadata": {
        "id": "-JiKV1jQIIbh"
      }
    },
    {
      "cell_type": "code",
      "source": [
        "def check_vector(vec):\n",
        "    if len(vec) < 2:\n",
        "        return False\n",
        "    for char in vec:\n",
        "        if \"0\"<= char <= \"1\":\n",
        "            continue\n",
        "        return False\n",
        "    return True"
      ],
      "metadata": {
        "id": "x0tUm43sII60"
      },
      "execution_count": null,
      "outputs": []
    },
    {
      "cell_type": "markdown",
      "source": [
        "###Algorithm_check_vector\n",
        "```vec``` - вектор(строка) передаваемый пользователем```(\"0110\")```.\n",
        "1. Вычисляем длину вектора и проверяем ее. \\\n",
        "2. Если длина меньше 2, то возвращаем, что вектор введен неврено. \\\n",
        "3. Проходим по всем символам вектора и проверяем, что он состоит только \\\n",
        "из ```\"0\"``` и ```\"1\"```, если есть сторонний символ, то возвращаем, вектор введен неверно.\n",
        "4. В остальных случаях возвращаем, что вектор введен верно."
      ],
      "metadata": {
        "id": "OVj7sEGjMaj7"
      }
    },
    {
      "cell_type": "markdown",
      "source": [
        "##SKNF\n",
        "Построение СКНФ."
      ],
      "metadata": {
        "id": "ocDS2RnEIQbM"
      }
    },
    {
      "cell_type": "code",
      "source": [
        "player_string = input(\"Введите вектор: \")\n",
        "player_string = player_string.replace(' ', '')\n",
        "\n",
        "if what_degree_two(len(player_string)) != -1 and check_vector(player_string):\n",
        "    tmp = 0\n",
        "    deg_t = what_degree_two(len(player_string))\n",
        "    ans = \"\"\n",
        "    for char in player_string:\n",
        "        if char == '0':\n",
        "            t = '0'*(deg_t - len(str(bin(tmp)[2:]))) + str(bin(tmp)[2:])\n",
        "            num_arg = 1\n",
        "            ans += \"(\"\n",
        "            for i in t:\n",
        "                if i == '1':\n",
        "                    ans += f\"-x{num_arg}\"\n",
        "                else:\n",
        "                    ans += f\"x{num_arg}\"\n",
        "                ans += \"v\"\n",
        "                num_arg += 1\n",
        "            ans = ans[:len(ans)-1]\n",
        "            ans += \")&\"\n",
        "        tmp += 1\n",
        "    ans = ans[:len(ans)-1]\n",
        "    print(\"СКНФ: \"+ ans)\n",
        "else:\n",
        "    print(\"Ошибка при вводе вектора!\")"
      ],
      "metadata": {
        "id": "ure58Z7zIQtq"
      },
      "execution_count": null,
      "outputs": []
    },
    {
      "cell_type": "markdown",
      "source": [
        "##Algorithm\n",
        "Проходим по всему вектору, если находится ноль, то смотрим по таблице истинности, где стоят нули заменить их на переменные, где стоят единицы заменить на переменные с отрицанием. Добавляем скобочки и знаки дизъюнкции, конъюнкции."
      ],
      "metadata": {
        "id": "GvbyBGm3IgRH"
      }
    },
    {
      "cell_type": "markdown",
      "source": [
        "#Task10\n",
        " Игра. Замкнутые классы б.ф. Система предлагает вектор функции. Пользователь должен\n",
        "выбрать замкнутые классы, которым эта функция принадлежит. Система определяет правильно\n",
        "выбраны классы или нет.\n",
        "\n"
      ],
      "metadata": {
        "id": "Iz0llUj4JRsM"
      }
    },
    {
      "cell_type": "markdown",
      "source": [
        "##Random_vector\n",
        "Создание рандомного вектора от vars_count переменных."
      ],
      "metadata": {
        "id": "j-wEudJBJkdC"
      }
    },
    {
      "cell_type": "code",
      "source": [
        "def random_vector(vars_count):\n",
        "    global vec\n",
        "    len_vector = 2 ** vars_count\n",
        "    count_all_vectors = 2 ** len_vector\n",
        "    tmp = int(random.random() * (10 ** len(str(count_all_vectors)))) % count_all_vectors\n",
        "    vec = str(bin(tmp)[2:])\n",
        "    vec = \"0\" * (len_vector - len(vec)) + vec\n",
        "    ans = ''\n",
        "    for i in range(1, len(vec) + 1):\n",
        "        ans += vec[i - 1]\n",
        "        if i % 4 == 0:\n",
        "            ans += ' '\n",
        "    return ans"
      ],
      "metadata": {
        "id": "6zSk7QhFJlKA"
      },
      "execution_count": null,
      "outputs": []
    },
    {
      "cell_type": "markdown",
      "source": [
        "###Algorithm_random_vector\n",
        "```len_vector```- длина вектора пользователя. \\\n",
        "```count_all_vectors``` - количество всех векторов. \\\n",
        "```tmp``` - рандомное число, которое ```< count_all_vectors```. \\\n",
        "1. Переводим ```tmp``` в двоичную с. с.\n",
        "2. Добавляем незначащие нули.\n",
        "3. Добавляем в вектор пробелов, чтоб было удобнее его читать.\n",
        "4. Возвращаем пользователю вектор."
      ],
      "metadata": {
        "id": "yr_q4JhEnZGM"
      }
    },
    {
      "cell_type": "markdown",
      "source": [
        "##What_degree_two\n",
        "Функция принимает число и возвращает в какой оно степени двойки находится. Если число не является степенью двойки, то возвращает значение -1."
      ],
      "metadata": {
        "id": "hitzeHg3J3Uc"
      }
    },
    {
      "cell_type": "code",
      "source": [
        "def what_degree_two(number):  # В какую степень двойки возведено число; -1: не является степенью двойки\n",
        "    tmp = 1\n",
        "    ans = 0\n",
        "    while tmp < number:\n",
        "        tmp *= 2\n",
        "        ans += 1\n",
        "    if number == tmp:\n",
        "        return ans\n",
        "    else:\n",
        "        return -1"
      ],
      "metadata": {
        "id": "nhG4sGg-J35q"
      },
      "execution_count": null,
      "outputs": []
    },
    {
      "cell_type": "markdown",
      "source": [
        "###Algorithm_what_degree_two\n",
        "```number``` - целое число, которое нужно проверить для степени двойки. \\\n",
        "```tmp``` - целое число в степени двойки, которое постепенно увеличивается. \\\n",
        "```ans``` - целое число, степень двойки, в кторой находится ```tmp``` на данный момент. \\\n",
        "1. Запускаем цикл с условием ```tmp < number```.\n",
        "2. Внутри цикла увеличиваем ```tmp *= 2``` и ```ans += 1```.\n",
        "3. После завершения цикла мы поличим, что если ```tmp == number```, то \\\n",
        "```number``` является числом в степени двойки, возвращаем ответ, \\\n",
        "который хранится в ```ans```. Если условие не выполняется, то ```number``` не является степенью двойки."
      ],
      "metadata": {
        "id": "qeuhmNutLtav"
      }
    },
    {
      "cell_type": "markdown",
      "source": [
        "##Check_t0\n",
        "Проверка на принадлежность классу ```Т0```."
      ],
      "metadata": {
        "id": "C6onQnlqJ4c4"
      }
    },
    {
      "cell_type": "code",
      "source": [
        "# Проверка на сохраняющую 0\n",
        "def check_t0(vec):\n",
        "    if vec[0] == '0':\n",
        "        return True\n",
        "    return False"
      ],
      "metadata": {
        "id": "EMlU0zfqJ4wQ"
      },
      "execution_count": null,
      "outputs": []
    },
    {
      "cell_type": "markdown",
      "source": [
        "###Algorithm_check_t0\n",
        "Если в начале строки содержится ноль, то принадлежит классу ```Т0```."
      ],
      "metadata": {
        "id": "yEbK73Aa3iTq"
      }
    },
    {
      "cell_type": "markdown",
      "source": [
        "##Check_t1\n",
        "Проверка на принадлежность классу ```Т1```."
      ],
      "metadata": {
        "id": "igEF5wgoJ9WF"
      }
    },
    {
      "cell_type": "code",
      "source": [
        "# Проверка на сохраняющую 1\n",
        "def check_t1(vec):\n",
        "    if vec[-1] == '1':\n",
        "        return True\n",
        "    return False"
      ],
      "metadata": {
        "id": "QAcWNnIwJ9ls"
      },
      "execution_count": null,
      "outputs": []
    },
    {
      "cell_type": "markdown",
      "source": [
        "###Algorithm_check_t1\n",
        "Если в конце строки содержится единица, то принадлежит классу ```Т1```."
      ],
      "metadata": {
        "id": "eRj3s4iA3mOj"
      }
    },
    {
      "cell_type": "markdown",
      "source": [
        "##Check_s\n",
        "Проверка на принадлежность классу ```S```."
      ],
      "metadata": {
        "id": "VOV1Tui7J-Cw"
      }
    },
    {
      "cell_type": "code",
      "source": [
        "# Проверка на самодвойственность\n",
        "def check_s(vec):\n",
        "    for char in range(int(len(vec) / 2)):\n",
        "        if vec[char] == vec[-1 - char]:\n",
        "            return False\n",
        "    return True"
      ],
      "metadata": {
        "id": "Nsdphjl6J-TK"
      },
      "execution_count": null,
      "outputs": []
    },
    {
      "cell_type": "markdown",
      "source": [
        "###Algorithm_check_s\n",
        "Проходим до половины вектора, если значения на противоположных наборах одинаковое, то вектор не принадлежит классу ```S```."
      ],
      "metadata": {
        "id": "BcvkemX-3oS5"
      }
    },
    {
      "cell_type": "markdown",
      "source": [
        "##Check_ln\n",
        "Проверка на принадлежность классу ```L```."
      ],
      "metadata": {
        "id": "u0sHp7IUJ-zq"
      }
    },
    {
      "cell_type": "code",
      "source": [
        "# Проверка на линейность\n",
        "def check_ln(vec):\n",
        "    param = what_degree_two(len(vec))\n",
        "    arr = [0] * (param + 1)  # Массив для проверки линейности\n",
        "    arr[0] = int(vec[0])\n",
        "    tmp = 1\n",
        "    for i in range(1, param + 1):\n",
        "        t = '0' * (param - len(str(tmp))) + str(tmp)\n",
        "        arr[-i] = (arr[0] + int(vec[int(t, 2)])) % 2\n",
        "        tmp *= 10\n",
        "    ans_vec = str(arr[0])\n",
        "    for i in range(1, len(vec)):\n",
        "        t = str(bin(i)[2:])\n",
        "        t = '0' * (param - len(t)) + t\n",
        "        var_tmp = 0\n",
        "        for j in range(1, len(arr)):\n",
        "            if arr[j] == 1:\n",
        "                var_tmp += int(t[j - 1])\n",
        "        ans_vec += str((var_tmp + arr[0]) % 2)\n",
        "    if ans_vec == vec:\n",
        "        return True\n",
        "    return False"
      ],
      "metadata": {
        "id": "fjYdPQPiJ_HM"
      },
      "execution_count": null,
      "outputs": []
    },
    {
      "cell_type": "markdown",
      "source": [
        "###Algorithm_check_ln\n",
        "Строим полином Жегалкина, но ищем только коэффициенты ```a0, a1, a2 ... a(n+1)```. \\\n",
        "Дальше строим таблицу истинности и создаем вектор из полученных данных. \\\n",
        "Пример для вектора ```10011001```: ```a0 = 1; a1 = 0; a2 = 1; a3 = 1```, как строится вектор ```a0 ⊕ a1*x1 ⊕ a2*x2 ⊕ a3*x3```, подставляем значения пулучим ```1 ⊕ x2 ⊕ x3```. Строим по этому выражению новый вектор, если совпадает с изначальным, то вектор является линейным."
      ],
      "metadata": {
        "id": "R31WzZs53rTv"
      }
    },
    {
      "cell_type": "markdown",
      "source": [
        "##Sum_vec_pp\n",
        "Посимвольное смещение единицы вектора влево. \\\n",
        "- Пример_1 \\\n",
        "inp: 0001 \\\n",
        "out: 0010\n",
        "- Пример_2 \\\n",
        "inp: 0101 \\\n",
        "out: 0110\n",
        "- Пример_3 \\\n",
        "inp: 0110 \\\n",
        "out: 1001\n",
        "- Пример_4 \\\n",
        "inp: 1100 \\\n",
        "out: 1100\n"
      ],
      "metadata": {
        "id": "GMB5F6LNJ_fS"
      }
    },
    {
      "cell_type": "code",
      "source": [
        "# Прибавляет 1 по \"обычному\"\n",
        "def sum_vec_pp(vec):\n",
        "    ans = list(vec)\n",
        "    check = False\n",
        "    t = -1\n",
        "    for i in range(len(vec) - 1, -1, -1):\n",
        "        if vec[i] == '1':\n",
        "            ans[i] = '0'\n",
        "            t += 1\n",
        "            check = True\n",
        "        if check:\n",
        "            if vec[i] == '0':\n",
        "                ans[i] = '1'\n",
        "                ans[i + 1] = '0'\n",
        "                check = False\n",
        "                break\n",
        "    if check == True:\n",
        "        return vec\n",
        "    for i in range(len(vec) - 1, -1, -1):\n",
        "        if t <= 0:\n",
        "            break\n",
        "        ans[i] = '1'\n",
        "        t -= 1\n",
        "    return \"\".join(ans)"
      ],
      "metadata": {
        "id": "EL-qbsGdJ_1m"
      },
      "execution_count": null,
      "outputs": []
    },
    {
      "cell_type": "markdown",
      "source": [
        "##Check_m\n",
        "Проверка на принадлежность классу ```M```."
      ],
      "metadata": {
        "id": "TyHMoYvGKMPD"
      }
    },
    {
      "cell_type": "code",
      "source": [
        "# Проверка на монотонность\n",
        "def check_m(vec):\n",
        "    param = what_degree_two(len(vec))\n",
        "    mp_ans = {}\n",
        "    for i in range(len(vec)):\n",
        "        t = str(bin(i)[2:])\n",
        "        t = '0' * (param - len(t)) + t\n",
        "        mp_ans[t] = int(vec[i])\n",
        "\n",
        "    for i in range(1, param + 1):\n",
        "        real = []\n",
        "        nach_str = '0' * (param - len('1' * i)) + '1' * i\n",
        "        while nach_str != sum_vec_pp(nach_str):\n",
        "            for j in range(len(nach_str)):\n",
        "                if mp_ans[nach_str[:j] + '0' + nach_str[j + 1:]] > mp_ans[nach_str]:\n",
        "                    return False\n",
        "            nach_str = sum_vec_pp(nach_str)\n",
        "        for j in range(len(nach_str)):\n",
        "            if mp_ans[nach_str[:j] + '0' + nach_str[j + 1:]] > mp_ans[nach_str]:\n",
        "                return False\n",
        "    return True"
      ],
      "metadata": {
        "id": "uKgeiz1MKMlo"
      },
      "execution_count": null,
      "outputs": []
    },
    {
      "cell_type": "markdown",
      "source": [
        "###Algorithm_check_m\n",
        "Для принадлежности вектора к классу монотонности должно выполняться условие: поднимаясь вверх от нулевого вектора следующие значения на векторе должны быть <= чем предыдущее. \\\n",
        "Пример для вектора от 3 переменных: \\\n",
        "![Task10.png](data:image/png;base64,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) \\\n",
        "Для вектора: 00110011 \\\n",
        "![Task10_1.png](data:image/png;base64,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) \\\n",
        "Если мы будем поднимать от вектора 000 к вектору 111, то видно, что нет позиций, где бы было противоречие условию.\\\n",
        "Рассмотрим еще один вектор: 00110001 \\\n",
        "![Task10_2.png](data:image/png;base64,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) \\\n",
        "На позициях ```010 <= 110``` не выполняется условие. Данный вектор не принадлежит к классу монотонности."
      ],
      "metadata": {
        "id": "13leD16w3uFb"
      }
    },
    {
      "cell_type": "markdown",
      "source": [
        "##Print_ans\n",
        "Подготовка правильного ответа и отправка его пользователю."
      ],
      "metadata": {
        "id": "D7hJWiRXKReb"
      }
    },
    {
      "cell_type": "code",
      "source": [
        "def print_ans():\n",
        "    vec = ''\n",
        "    tmp = vector_label.cget('text').split()\n",
        "    for i in range(len(tmp)):\n",
        "        vec += tmp[i]\n",
        "    tmp = [0, 0, 0, 0, 0]\n",
        "    tmp[0] = check_t0(vec)\n",
        "    tmp[1] = check_t1(vec)\n",
        "    tmp[2] = check_s(vec)\n",
        "    tmp[3] = check_ln(vec)\n",
        "    tmp[4] = check_m(vec)\n",
        "    t = tmp[0] + tmp[1] + tmp[2] + tmp[3] + tmp[4]\n",
        "    ans = 'Система функций '\n",
        "    if t == 1:\n",
        "        ans += 'принадлежит следующему классу: '\n",
        "    elif t == 0:\n",
        "        ans += 'является полной'\n",
        "    else:\n",
        "        ans += 'принадлежит следующим классам: '\n",
        "    if tmp[0] == 1:\n",
        "        ans += 'T0 '\n",
        "    if tmp[1] == 1:\n",
        "        ans += 'T1 '\n",
        "    if tmp[2] == 1:\n",
        "        ans += 'S '\n",
        "    if tmp[3] == 1:\n",
        "        ans += 'L '\n",
        "    if tmp[4] == 1:\n",
        "        ans += 'M '\n",
        "    error_label.configure(text=f'{ans}', fg='green')\n",
        "    ans_button.pack_forget()"
      ],
      "metadata": {
        "id": "RdIG6Rb_KR9r"
      },
      "execution_count": null,
      "outputs": []
    },
    {
      "cell_type": "markdown",
      "source": [
        "##Send_answer\n",
        "Системная проверка ответа пользователя и показ кнопок новое задание, показать ответ и перепройти."
      ],
      "metadata": {
        "id": "IkggcM6MKS4P"
      }
    },
    {
      "cell_type": "code",
      "source": [
        "def send_answer():\n",
        "    vec = ''\n",
        "    tmp = vector_label.cget('text').split()\n",
        "    check_false_ans = False\n",
        "    for i in range(len(tmp)):\n",
        "        vec += tmp[i]\n",
        "    if var1.get() == check_t0(vec) and var2.get() == check_t1(vec) and var3.get() == check_s(vec) and \\\n",
        "            var4.get() == check_ln(vec) and var5.get() == check_m(vec):\n",
        "        error_label.configure(text='Правильный ответ!', fg='green')\n",
        "\n",
        "        new_button.pack(side='left')\n",
        "    else:\n",
        "        error_label.configure(text='Неправильный ответ!', fg='red')\n",
        "        check_false_ans = True\n",
        "\n",
        "        new_button.pack(side='left', padx=5)\n",
        "        remake_task_button.pack(side='left', padx=5)\n",
        "        if check_false_ans:\n",
        "            ans_button.pack(padx=5)\n",
        "\n",
        "    button_submit['state'] = 'disabled'\n",
        "    c1['state'] = 'disabled'\n",
        "    c2['state'] = 'disabled'\n",
        "    c3['state'] = 'disabled'\n",
        "    c4['state'] = 'disabled'\n",
        "    c5['state'] = 'disabled'"
      ],
      "metadata": {
        "id": "AOYr8Bg-KTKX"
      },
      "execution_count": null,
      "outputs": []
    },
    {
      "cell_type": "markdown",
      "source": [
        "##Go_next\n",
        "Функция отвечающая за кнопку новое задание."
      ],
      "metadata": {
        "id": "0rUwefvJKW8u"
      }
    },
    {
      "cell_type": "code",
      "source": [
        "def go_next():\n",
        "    button_submit['state'] = 'normal'\n",
        "    c1['state'] = 'normal'\n",
        "    c2['state'] = 'normal'\n",
        "    c3['state'] = 'normal'\n",
        "    c4['state'] = 'normal'\n",
        "    c5['state'] = 'normal'\n",
        "    vector_label.configure(text=random_vector(n_param.get()))\n",
        "\n",
        "    c1.deselect()\n",
        "    c2.deselect()\n",
        "    c3.deselect()\n",
        "    c4.deselect()\n",
        "    c5.deselect()\n",
        "\n",
        "    error_label.configure(text='')\n",
        "    new_button.pack_forget()\n",
        "    remake_task_button.pack_forget()\n",
        "    ans_button.pack_forget()"
      ],
      "metadata": {
        "id": "wXZbqM5WKXQa"
      },
      "execution_count": null,
      "outputs": []
    },
    {
      "cell_type": "markdown",
      "source": [
        "##Remake_task\n",
        "Функция отвечающая за кнопку перепройти."
      ],
      "metadata": {
        "id": "XpVFHCZwKZ6D"
      }
    },
    {
      "cell_type": "code",
      "source": [
        "def remake_task():\n",
        "    button_submit['state'] = 'normal'\n",
        "    c1['state'] = 'normal'\n",
        "    c2['state'] = 'normal'\n",
        "    c3['state'] = 'normal'\n",
        "    c4['state'] = 'normal'\n",
        "    c5['state'] = 'normal'\n",
        "\n",
        "    c1.deselect()\n",
        "    c2.deselect()\n",
        "    c3.deselect()\n",
        "    c4.deselect()\n",
        "    c5.deselect()\n",
        "\n",
        "    error_label.configure(text='')\n",
        "    new_button.pack_forget()\n",
        "    remake_task_button.pack_forget()\n",
        "    ans_button.pack_forget()"
      ],
      "metadata": {
        "id": "eDMkvn3wKaQh"
      },
      "execution_count": null,
      "outputs": []
    },
    {
      "cell_type": "markdown",
      "source": [
        "##Open_child_root\n",
        "Открывает дополнительное окно(справака)."
      ],
      "metadata": {
        "id": "bBKNWGhiKdOX"
      }
    },
    {
      "cell_type": "code",
      "source": [
        "def open_child_root():\n",
        "    child_root = tk.Toplevel(root)\n",
        "    child_root.title('Справка')\n",
        "    child_root.geometry('550x350+100+100')\n",
        "    child_root.resizable(False, False)\n",
        "    child_root.grab_set()\n",
        "    ans = \"\\nЕсли вы считаете утверждение верным - нажмите на флажок\\n\"\n",
        "    ans += \"\\nЕсли верных ответов нет - оставьте флажок пустым\\n\"\n",
        "    label = tk.Label(child_root, text=ans, font=('Arial', 12, 'normal'), justify='left').pack()"
      ],
      "metadata": {
        "id": "378K4dg-Kdgy"
      },
      "execution_count": null,
      "outputs": []
    },
    {
      "cell_type": "markdown",
      "source": [
        "##Draw_menu\n",
        "Выпадающее меню с настройкой кол-ва переменных."
      ],
      "metadata": {
        "id": "PuoUrPd0Kgyu"
      }
    },
    {
      "cell_type": "code",
      "source": [
        "# Выпадающие меню\n",
        "def draw_menu():\n",
        "    menu_bar = tk.Menu(root)\n",
        "    file_menu = tk.Menu(menu_bar, tearoff=0)\n",
        "    file_menu.add_radiobutton(label='1 переменная', value=1, variable=n_param, command=go_next,\n",
        "                              font=('Arial', 12, 'normal'))\n",
        "    file_menu.add_radiobutton(label='2 переменных', value=2, variable=n_param, command=go_next,\n",
        "                              font=('Arial', 12, 'normal'))\n",
        "    file_menu.add_radiobutton(label='3 переменных', value=3, variable=n_param, command=go_next,\n",
        "                              font=('Arial', 12, 'normal'))\n",
        "    file_menu.add_radiobutton(label='4 переменных', value=4, variable=n_param, command=go_next,\n",
        "                              font=('Arial', 12, 'normal'))\n",
        "    file_menu.add_radiobutton(label='5 переменных', value=5, variable=n_param, command=go_next,\n",
        "                              font=('Arial', 12, 'normal'))\n",
        "    menu_bar.add_cascade(label='Настройки', menu=file_menu)\n",
        "    root.configure(menu=menu_bar)"
      ],
      "metadata": {
        "id": "8VMmqp8XKhI-"
      },
      "execution_count": null,
      "outputs": []
    },
    {
      "cell_type": "markdown",
      "source": [
        "##Algorithm\n",
        "Выдаем случайно выбранный вектор пользователю. После нажатия на кнопку ответить, проверяем галочки, где пользователь их поставил и сравниваем с системной проверкой на принадлежность классам: \\\n",
        "```[T0, T1, S, L, M]``` \\\n",
        " Если совпало, то ответ верный."
      ],
      "metadata": {
        "id": "mgUe4MvXKsPk"
      }
    },
    {
      "cell_type": "markdown",
      "source": [
        "#Task11\n",
        " Игра. Полные системы б.ф. Система предлагает набор векторов функций. Пользователь\n",
        "определяет полным или нет является набор функций. Если система б.ф. неполна, то пользователь\n",
        "должен указать замкнутый класс, которому набор функций принадлежит."
      ],
      "metadata": {
        "id": "UNSq2KdkZwOP"
      }
    },
    {
      "cell_type": "markdown",
      "source": [
        "##Return_norm_vec\n",
        "Удаление пробелов в записи вектора и запись его с определенного символа."
      ],
      "metadata": {
        "id": "ev-CM0SGZ-Bu"
      }
    },
    {
      "cell_type": "code",
      "source": [
        "def return_norm_vec(svec, start):\n",
        "    ans = ''\n",
        "    for i in range(start, len(svec)):\n",
        "        ans += svec[i]\n",
        "    return ans.replace(' ', '')"
      ],
      "metadata": {
        "id": "5ITsate7aWyc"
      },
      "execution_count": null,
      "outputs": []
    },
    {
      "cell_type": "markdown",
      "source": [
        "##Vec_split\n",
        "Добавляет через каждые 4 символа пробел в вектор."
      ],
      "metadata": {
        "id": "eBkTKd9GaXrm"
      }
    },
    {
      "cell_type": "code",
      "source": [
        "def vec_split(vec):\n",
        "    tmp = ''\n",
        "    for i in range(1, len(vec) + 1):\n",
        "        tmp += vec[i - 1]\n",
        "        if i % 4 == 0:\n",
        "            tmp += ' '\n",
        "    return tmp"
      ],
      "metadata": {
        "id": "uKj6kL08aYCQ"
      },
      "execution_count": null,
      "outputs": []
    },
    {
      "cell_type": "markdown",
      "source": [
        "##Random_vector\n",
        "Создание рандомного вектора от vars_count переменных."
      ],
      "metadata": {
        "id": "OqCK4IuwaYto"
      }
    },
    {
      "cell_type": "code",
      "source": [
        "def random_vector(vars_count):\n",
        "    len_vector = 2 ** vars_count\n",
        "    count_all_vectors = 2 ** len_vector\n",
        "    tmp = int(random.random() * (10 ** len(str(count_all_vectors)))) % count_all_vectors\n",
        "    vec = str(bin(tmp)[2:])\n",
        "    vec = \"0\" * (len_vector - len(vec)) + vec\n",
        "    return vec_split(vec)"
      ],
      "metadata": {
        "id": "p8i9knTBaY-_"
      },
      "execution_count": null,
      "outputs": []
    },
    {
      "cell_type": "markdown",
      "source": [
        "###Algorithm_random_vector\n",
        "```len_vector```- длина вектора пользователя. \\\n",
        "```count_all_vectors``` - количество всех векторов. \\\n",
        "```tmp``` - рандомное число, которое ```< count_all_vectors```. \\\n",
        "1. Переводим ```tmp``` в двоичную с. с.\n",
        "2. Добавляем незначащие нули.\n",
        "4. Возвращаем пользователю вектор."
      ],
      "metadata": {
        "id": "Zv2vyC2_nbqt"
      }
    },
    {
      "cell_type": "markdown",
      "source": [
        "##Random_vector2\n",
        "Усовершенствованный рандомайзер вектора. Есть 6 вариантов события: \\\n",
        "1. Система векторов будет принадлежать классу T0\n",
        "2. Система векторов будет принадлежать классу T1\n",
        "3. Система векторов будет принадлежать классу S\n",
        "4. Система векторов будет принадлежать классу L\n",
        "5. Система векторов будет принадлежать классу M\n",
        "6. Система векторов будет рандомно задана"
      ],
      "metadata": {
        "id": "kXIqasQdaZPi"
      }
    },
    {
      "cell_type": "code",
      "source": [
        "def random_vector2(vars_count):\n",
        "    ans = []\n",
        "    # Выбор к какому классу будет принадлежать\n",
        "    r = int(random.random() * 10) % 6  \n",
        "    if r == 0: #T0\n",
        "        while len(ans) < 4:\n",
        "            v = random_vector(vars_count)\n",
        "            if check_t0(return_norm_vec(v, 0)):\n",
        "                ans.append(v)\n",
        "    elif r == 1: #T1\n",
        "        while len(ans) < 4:\n",
        "            v = random_vector(vars_count)\n",
        "            if check_t1(return_norm_vec(v, 0)):\n",
        "                ans.append(v)\n",
        "    elif r == 2: #S\n",
        "        while len(ans) < 4:\n",
        "            ans_s1 = ''\n",
        "            ans_s2 = ''\n",
        "            for i in range(2**(vars_count-1)):\n",
        "                if int(random.random()*10) % 2 == 0:\n",
        "                    ans_s1 += '0'\n",
        "                    ans_s2 = '1' + ans_s2\n",
        "                else:\n",
        "                    ans_s1 += '1'\n",
        "                    ans_s2 = '0' + ans_s2\n",
        "            ans.append(vec_split(ans_s1 + ans_s2))\n",
        "    elif r == 3: #L\n",
        "        while len(ans) < 4:\n",
        "            ans_ln = ''\n",
        "            tmp = [0]*(vars_count+1)\n",
        "            tmp[0] = int(random.random()*10) % 2\n",
        "            for i in range(1, vars_count+1):\n",
        "                if int(random.random()*10) % 3 != 0:\n",
        "                    tmp[i] = 1\n",
        "            for i in range(2**vars_count):\n",
        "                vec = str(bin(i)[2:])\n",
        "                vec = \"0\" * (vars_count - len(vec)) + vec\n",
        "                tans = tmp[0]\n",
        "                for j in range(len(vec)):\n",
        "                    if tmp[j+1] == 1 and vec[j] == '1':\n",
        "                        tans += 1\n",
        "                ans_ln += str(tans % 2)\n",
        "            ans.append(vec_split(ans_ln))\n",
        "    elif r == 4: #M\n",
        "        while len(ans) < 4:\n",
        "            ans_m = ''\n",
        "            t_mp = {'0'*vars_count: '0'}\n",
        "            if int(random.random()*100) % 13 == 0:\n",
        "                t_mp['0'*vars_count] = '1'\n",
        "            ans_m += t_mp['0'*vars_count]\n",
        "            for i in range(1, 2**vars_count):\n",
        "                vec = str(bin(i)[2:])\n",
        "                vec = \"0\" * (vars_count - len(vec)) + vec\n",
        "                for j in range(len(vec)):\n",
        "                    if vec[j] == '1':\n",
        "                        tmp = vec[:j] + '0' + vec[j+1:]\n",
        "                        if t_mp[tmp] == '1':\n",
        "                            t_mp[vec] = '1'\n",
        "                            break\n",
        "                        else:\n",
        "                            if int(random.random()*10) % 7 != 0:\n",
        "                                t_mp[vec] = '0'\n",
        "                            else:\n",
        "                                t_mp[vec] = '1'\n",
        "                                break\n",
        "                ans_m += t_mp[vec]\n",
        "            ans.append(vec_split(ans_m))           \n",
        "    else: # random\n",
        "        while len(ans) < 4:\n",
        "            v = random_vector(vars_count)\n",
        "            ans.append(v)\n",
        "    return ans"
      ],
      "metadata": {
        "id": "3B2pUGQgaZik"
      },
      "execution_count": null,
      "outputs": []
    },
    {
      "cell_type": "markdown",
      "source": [
        "###Algorithm_random_vector2\n",
        "1. Случайно выбирается одно из 6 событий, которые были описаны в блоке ```Random_vector2```.\n",
        "2. Если выбрано событие ```T0```: рандомно задается 4 вектора принадлежащие классу ```T0```.\n",
        "3. Если выбрано событие ```T1```: рандомно задается 4 вектора принадлежащие классу ```T1```.\n",
        "4. Если выбрано событие ```S```: проходим до половины вектора и случайно берем одно число, если оно делится нацело на 2, то записываем 0 и в противоположный набор 1. Если не делится нацело на 2, то записываем 1 и в противоположный набор 0. Создаем четыре вектора.\n",
        "5. Если выбрано событие ```L```: строим через полином Жегалкина 4 вектора. Значение ```a0``` заполняем с вероятностью 50% нулем или единицей. Дальше нужно заполнить ```a1, a2, ..., an```, где ```n``` кол-во переменных. Если число делится нацело на 3, то мы записываем 1, иначе 0.\n",
        "Через таблицу истинности строим вектор.\n",
        "6. Если выбрано событие ```M```: стартуем с нулевого вектора и выбираем случайно число, если оно делится целочисленно на 13, то нулевой вектор будет равен 1, иначе 0. \\\n",
        "Дальше проходим по векторам и смотрим предыдущие, если на них значение 1, то и вектор, на котором мы находимся тоже будет равен 1, иначе выбираем случайно число, если оно целочисленно делится на 7, то вектор, на котором мы находимся, принимает значение 1, иначе 0. Повторяем 4 раза.\n",
        "7. Если не выбрано одно из событий ```T0, T1, S, L, M```, то система векторов задается случайно из функции ```random_vector```\n",
        "\n"
      ],
      "metadata": {
        "id": "wBtdG2svjr6v"
      }
    },
    {
      "cell_type": "markdown",
      "source": [
        "##What_degree_two\n",
        "Функция принимает число и возвращает в какой оно степени двойки находится. Если число не является степенью двойки, то возвращает значение -1."
      ],
      "metadata": {
        "id": "LOw_0QqXaZzs"
      }
    },
    {
      "cell_type": "code",
      "source": [
        "def what_degree_two(number):  # В какую степень двойки возведено число; -1: не является степенью двойки\n",
        "    tmp = 1\n",
        "    ans = 0\n",
        "    while tmp < number:\n",
        "        tmp *= 2\n",
        "        ans += 1\n",
        "    if number == tmp:\n",
        "        return ans\n",
        "    else:\n",
        "        return -1"
      ],
      "metadata": {
        "id": "uPHI6w3XaaJ9"
      },
      "execution_count": null,
      "outputs": []
    },
    {
      "cell_type": "markdown",
      "source": [
        "###Algorithm_what_degree_two\n",
        "```number``` - целое число, которое нужно проверить для степени двойки. \\\n",
        "```tmp``` - целое число в степени двойки, которое постепенно увеличивается. \\\n",
        "```ans``` - целое число, степень двойки, в кторой находится ```tmp``` на данный момент. \\\n",
        "1. Запускаем цикл с условием ```tmp < number```.\n",
        "2. Внутри цикла увеличиваем ```tmp *= 2``` и ```ans += 1```.\n",
        "3. После завершения цикла мы поличим, что если ```tmp == number```, то \\\n",
        "```number``` является числом в степени двойки, возвращаем ответ, \\\n",
        "который хранится в ```ans```. Если условие не выполняется, то ```number``` не является степенью двойки."
      ],
      "metadata": {
        "id": "NW4MZzGsLvOP"
      }
    },
    {
      "cell_type": "markdown",
      "source": [
        "##Check_t0\n",
        "Проверка на принадлежность классу ```Т0```."
      ],
      "metadata": {
        "id": "Fz66K1FMaamH"
      }
    },
    {
      "cell_type": "code",
      "source": [
        "# Проверка на сохраняющую 0\n",
        "def check_t0(vec):\n",
        "    if vec[0] == '0':\n",
        "        return True\n",
        "    return False"
      ],
      "metadata": {
        "id": "8ibkz8ZGaa32"
      },
      "execution_count": null,
      "outputs": []
    },
    {
      "cell_type": "markdown",
      "source": [
        "###Algorithm_check_t0\n",
        "Если в начале строки содержится ноль, то принадлежит классу ```Т0```."
      ],
      "metadata": {
        "id": "8-WrGGZ8jEl8"
      }
    },
    {
      "cell_type": "markdown",
      "source": [
        "##Check_t1\n",
        "Проверка на принадлежность классу ```Т1```."
      ],
      "metadata": {
        "id": "MKOYw8w6abHM"
      }
    },
    {
      "cell_type": "code",
      "source": [
        "# Проверка на сохраняющую 1\n",
        "def check_t1(vec):\n",
        "    if vec[-1] == '1':\n",
        "        return True\n",
        "    return False"
      ],
      "metadata": {
        "id": "MFybp5lvabc1"
      },
      "execution_count": null,
      "outputs": []
    },
    {
      "cell_type": "markdown",
      "source": [
        "###Algorithm_check_t1\n",
        "Если в конце строки содержится единица, то принадлежит классу ```Т1```."
      ],
      "metadata": {
        "id": "pls32ZSBjN98"
      }
    },
    {
      "cell_type": "markdown",
      "source": [
        "##Check_s\n",
        "Проверка на принадлежность классу ```S```."
      ],
      "metadata": {
        "id": "Ifhcpcugab9W"
      }
    },
    {
      "cell_type": "code",
      "source": [
        "# Проверка на самодвойственность\n",
        "def check_s(vec):\n",
        "    for char in range(int(len(vec) / 2)):\n",
        "        if vec[char] == vec[-1 - char]:\n",
        "            return False\n",
        "    return True"
      ],
      "metadata": {
        "id": "YHuD3oOsacM-"
      },
      "execution_count": null,
      "outputs": []
    },
    {
      "cell_type": "markdown",
      "source": [
        "###Algorithm_check_s\n",
        "Проходим до половины вектора, если значения на противоположных наборах одинаковое, то вектор не принадлежит классу ```S```."
      ],
      "metadata": {
        "id": "H5Kw7wUgjJ7J"
      }
    },
    {
      "cell_type": "markdown",
      "source": [
        "##Check_ln\n",
        "Проверка на принадлежность классу ```L```."
      ],
      "metadata": {
        "id": "NJTiKxunbAC9"
      }
    },
    {
      "cell_type": "code",
      "source": [
        "# Проверка на линейность\n",
        "def check_ln(vec):\n",
        "    param = what_degree_two(len(vec))\n",
        "    arr = [0] * (param + 1)  # Массив для проверки линейности\n",
        "    arr[0] = int(vec[0])\n",
        "    tmp = 1\n",
        "    for i in range(1, param + 1):\n",
        "        t = '0' * (param - len(str(tmp))) + str(tmp)\n",
        "        arr[-i] = (arr[0] + int(vec[int(t, 2)])) % 2\n",
        "        tmp *= 10\n",
        "    ans_vec = str(arr[0])\n",
        "    for i in range(1, len(vec)):\n",
        "        t = str(bin(i)[2:])\n",
        "        t = '0' * (param - len(t)) + t\n",
        "        var_tmp = 0\n",
        "        for j in range(1, len(arr)):\n",
        "            if arr[j] == 1:\n",
        "                var_tmp += int(t[j - 1])\n",
        "        ans_vec += str((var_tmp + arr[0]) % 2)\n",
        "    if ans_vec == vec:\n",
        "        return True\n",
        "    return False"
      ],
      "metadata": {
        "id": "MFTCUNknbAUq"
      },
      "execution_count": null,
      "outputs": []
    },
    {
      "cell_type": "markdown",
      "source": [
        "###Algorithm_check_ln\n",
        "Строим полином Жегалкина, но ищем только коэффициенты ```a0, a1, a2 ... a(n+1)```. \\\n",
        "Дальше строим таблицу истинности и создаем вектор из полученных данных. \\\n",
        "Пример для вектора ```10011001```: ```a0 = 1; a1 = 0; a2 = 1; a3 = 1```, как строится вектор ```a0 ⊕ a1*x1 ⊕ a2*x2 ⊕ a3*x3```, подставляем значения пулучим ```1 ⊕ x2 ⊕ x3```. Строим по этому выражению новый вектор, если совпадает с изначальным, то вектор является линейным."
      ],
      "metadata": {
        "id": "ScQ2hTW-jUVi"
      }
    },
    {
      "cell_type": "markdown",
      "source": [
        "##Sum_vec_pp\n",
        "Посимвольное смещение единицы вектора влево. \\\n",
        "- Пример_1 \\\n",
        "inp: 0001 \\\n",
        "out: 0010\n",
        "- Пример_2 \\\n",
        "inp: 0101 \\\n",
        "out: 0110\n",
        "- Пример_3 \\\n",
        "inp: 0110 \\\n",
        "out: 1001"
      ],
      "metadata": {
        "id": "F0nHRaTebAo1"
      }
    },
    {
      "cell_type": "code",
      "source": [
        "# Прибавляет 1 по \"обычному\"\n",
        "def sum_vec_pp(vec):\n",
        "    ans = list(vec)\n",
        "    check = False\n",
        "    t = -1\n",
        "    for i in range(len(vec) - 1, -1, -1):\n",
        "        if vec[i] == '1':\n",
        "            ans[i] = '0'\n",
        "            t += 1\n",
        "            check = True\n",
        "        if check:\n",
        "            if vec[i] == '0':\n",
        "                ans[i] = '1'\n",
        "                ans[i + 1] = '0'\n",
        "                check = False\n",
        "                break\n",
        "    if check == True:\n",
        "        return vec\n",
        "    for i in range(len(vec) - 1, -1, -1):\n",
        "        if t <= 0:\n",
        "            break\n",
        "        ans[i] = '1'\n",
        "        t -= 1\n",
        "    return \"\".join(ans)"
      ],
      "metadata": {
        "id": "BdPItNNsbA7a"
      },
      "execution_count": null,
      "outputs": []
    },
    {
      "cell_type": "markdown",
      "source": [
        "##Check_m\n",
        "Проверка на принадлежность классу ```M```."
      ],
      "metadata": {
        "id": "qsqrDmedbBOi"
      }
    },
    {
      "cell_type": "code",
      "source": [
        "# Проверка на монотонность\n",
        "def check_m(vec):\n",
        "    param = what_degree_two(len(vec))\n",
        "    mp_ans = {}\n",
        "    for i in range(len(vec)):\n",
        "        t = str(bin(i)[2:])\n",
        "        t = '0' * (param - len(t)) + t\n",
        "        mp_ans[t] = int(vec[i])\n",
        "\n",
        "    for i in range(1, param + 1):\n",
        "        real = []\n",
        "        nach_str = '0' * (param - len('1' * i)) + '1' * i\n",
        "        while nach_str != sum_vec_pp(nach_str):\n",
        "            for j in range(len(nach_str)):\n",
        "                if mp_ans[nach_str[:j] + '0' + nach_str[j + 1:]] > mp_ans[nach_str]:\n",
        "                    return False\n",
        "            nach_str = sum_vec_pp(nach_str)\n",
        "        for j in range(len(nach_str)):\n",
        "            if mp_ans[nach_str[:j] + '0' + nach_str[j + 1:]] > mp_ans[nach_str]:\n",
        "                return False\n",
        "    return True"
      ],
      "metadata": {
        "id": "NZBV_GvCbBjR"
      },
      "execution_count": null,
      "outputs": []
    },
    {
      "cell_type": "markdown",
      "source": [
        "###Algorithm_check_m\n",
        "Для принадлежности вектора к классу монотонности должно выполняться условие: поднимаясь вверх от нулевого вектора следующие значения на векторе должны быть <= чем предыдущее. \\\n",
        "Пример для вектора от 3 переменных: \\\n",
        "![Task10.png](data:image/png;base64,iVBORw0KGgoAAAANSUhEUgAAAQcAAAE8CAIAAABCdOOeAAAAAXNSR0IArs4c6QAAAARnQU1BAACxjwv8YQUAAAAJcEhZcwAAEnQAABJ0Ad5mH3gAABuhSURBVHhe7dq/buRG1sbhkW3YAw8Mw/mEvgpFDn0ZjhT7UhRssPkGewcKDGzy4buLTu3Q8RoD2F6q63dafNnFJtmsKlaR50EH1nmL9a+reiRZ7/52zim/Fc4N+a1wbshvRW6n56fHd52nFwpD6xu4xPxWZHM6vTw9no/z2fWZXt/A5eG3Io+XJ47yxeBMr2/gsvFbkQdn+vHpKXz3M3boVzRw2fityOP08vxyOr3+x3P8TK9v4LLxW5HZ5Jle38Cl5rciM78VDfJbkZnfigb5rcjMb0WD/FZk5reiQX4rMvNb0SC/FZn5rWiQ34rM/FY0yG9FZn4rGuS3wrkhvxXODfmtcG7Ib4VzQ34rNvbZw8NXDw9fPjzwtauA34ot/fD+698/fh9eP3349s9ffyNwm/JbsZn+lQivn7/5jsxtym/FNrpvnAZXIrzevfN3ZHv+HmygO/rdzxKD+xBe5/9d52/KxvwNKC2c++7H68F9CK+QdmjttuC7XxRH/qz78XpwJboX2RnPuOJ868vhsJuPn3/R/XjdvxI/vv9AZnjSleX7XgjHfDmedwX5ppfAAVfX9RstXUm+49lxtFU0ihaDELkyfLvz4lArspFb0eFrReby873OiOOsyM4oGapnlBSZy8w3OhcOsiIzVA1VQ1WRuZx8l7PgCCuyHgJDtYdAkblsfIvT4/AqMkVmqCoyReby8P1NjGOryK4QG6pXiBWZy8A3NyUOrCKLoYWhGkMLReZS851NhqOqyEbQyFAdQSNF5pLybU2DQ6rIxtHOUB1HO0Xm0vE9TYDjqchuoqmhehNNFZlLxDd0LQ6mIptCa0N1Cq0VmUvBd3MVjqQim4EHDNUZeECRudV8K+/HYVRk8/CMoToPzygyt47v4504hopsNh4zVGfjMUXmVvBNvAcHUJEtwZOG6hI8qcjcvXwHF+PoKbKFeNhQXYiHFZm7i2/fMhw6RbYczxuqy/G8InPL+d4twHFTZHehC0P1LnShyNxCvnFzcdAU2b3oxVC9F70oMreE79osHDFFtgIdGaor0JEic7P5lk3jcCmydejLUF2HvhSZm8f3awLHSpGtRneG6mp0p8jcDL5Zt3CgFFkK9GiopkCPisxN8Z0axVFSZInQqaGaCJ0qMneTb1Mch0iRpUO/hmo69KvI3DjfowiOjyJLiq4N1aToWpG5Eb5BQxwcRZYavRuqqdG7InMxvjuCI6PIMmAAQzUDBlBk7opvzRsOiyLLgzEM1TwYQ5E55fsCjokiy4ZhDNVsGEaRuR7flFccEEWWEyMZqjkxkiJzxndky4PCYIZqZgymyNzZ0beDQ6HI8mM8QzU/xlNk7uC3guOgyIpgSEO1CIZUZId33I3gICiyUhjVUC2FURXZsR10FzgCiqwgBjZUC2JgRXZgR9wC3nxFVhZjG6plMbYiO6rDrZ+3XZEVx/CGanEMr8gO6ViL5w1XZFtgBobqFpiBIjueA62ct1qRbYRJGKobYRKK7GCOsmzeZEW2HeZhqG6HeSiyIznEmnl7FdmmmIqhuimmosgOY/8L5o1VZFtjNobq1piNIjuGna+Wt1SRVYAJGaoVYEKK7AD2vFTeTEVWB+ZkqNaBOSmyvdvtOnkbFVk1mJahWg2mpch2bZ+L5A1UZDVhZoZqTZiZItuvHa6Qt06RVYbJGaqVYXKKbKf2tjzeNEVWH+ZnqNaH+SmyPdrV2ni7FFmVmKKhWiWmqMh2Zz8L441SZLViloZqrZilItuXnayKt0iRVYyJGqoVY6KKbEf2sCTeHEVWN+ZqqNaNuSqyvWh+Pbwtiqx6TNdQrR7TVWS70PZieEMUWQuYsaHaAmasyNrX8Ep4KxRZI5i0odoIJq3IGtfqMngTFFk7mLeh2g7mrcha1uQa2H5F1hSmbqg2hakrsma1twA2XpG1htkbqq1h9oqsTY3Nni1XZA1iAYZqg1iAImtQS1NnsxVZm1iDodom1qDIWtPMvNlmRdYslmGoNotlKLKmtDFpNliRtYyVGKotYyWKrB0NzJitVWSNYzGGauNYjCJrRO3TZVMVWftYj6HaPtajyFpQ9VzZTkW2CyzJUH1zen56fA2eXij0nF66EE/PLyfKA7d6yOp10Ctk1at3omykItsLVmWodk6nl+7IU46c6S4lunjURlM9FMDQiqxulc6SLVRkO8LCDNWXJ76+GJzpS4PXfyS6fzL46q3ZZA+lMLoiq1iNU2TzFNm+sDZDlTP9+PRk/yLImT49U3185tumyyWwdhM9FBXGHyCrVXXzY9sU2e6wPEO1+4nh5fR64C/nX8603YHLpbguTfRQWpjCAFmV6pocG6bI9ogVGqoX0TMdK44e/jpuRSfMYoCsPhXNjK1SZDvFIg3Vi+iZjvxT8dawX3xVza3ohIkMkFWmlmmxSYpsv1inoXqxr1vRCXMZIKtJFXNiexTZrrFUQ/Xi5q3oF0cPf2W3ohOmM0BWje0nxMYosr1jtYbqRfRMx4qxfz/O6rsVnTCjAbI6bDwbtkSRHQALNlQv4mf6+h+L8bNf5a3ohEkNkFXgeiqTfyOw/s8Q8NrJFbJj6Nb72cPDVw8PXz48RNY+cqYv1yL803CKfU+FWm9FJ8xrgGxKor92GW3Qm8fk3wis/zOEHhoossP44f3Xv3/8Prx++vDtx8+/IAjGzvSlLmJbXfGt6ISpDZCNS/DXLlMNbBKXz5uLQdP5Dcb+DKGHSJEdxqf/+//LlQivn7/5Tvbhxpm2jzl0xyL6gVn3reiE2Q2QRU0es/Un+epWjP+NwESDy/ZffuC7DD4ck7IiO46//hpcifBathunM75oVVjyANnQjGO29iS/suEn/0Zg/Z8hnHVf97+TDsiOpNuBwX0IL3bkYHvCmk04IX9/+kT8ZsYxW3uSX13t/nhTRBvEite17r8nvpM+hm4fug+Fyz70X+cNA62PgTXrCfnjX//+89ffaNGZd8wwGpjxBoluRezfhUvDS7G/4PD67z/+GaLjCHvS6T4UBrvRvcgMzxxDt96JEzLvmOG+k3xW8FaMfCd9bnsUYUOC7t/J7sfr/lb8+P4DWQ9P7l230u4bp/5uXF606DR6K/rFQcO//vhjsNrw6hqcm+9f2I0BMkNVke1XWObYz1o06sw4Zm/uO8lniW5FrDi82J8+DVYbXqHRucWehWUOkCkyRbZHrHD8Zy3adeYcs4v7TvJZolsRucWRdt0PT4MFd6/QqEOjPWKFiiyGFopsX1ibif6sRdNXs44Z7jzJr1Ldirf5hjsb/TOEP3/97fZ30rTbF9amyMbRTpHtBavquf5Z69Mv/6H12ZxjhhpuxVtdDHuhPI52e8GqFNkUWiuy9rGem2jaN++Yvbr7JKe8FZ0Zf4ZAdBNN28d6FNk8PKPIWsZK1HU9NB5K9dcuC27Fejf/DCFM4+K6EoTGTWMlimwJnlRkbWINKhqFYtzNY7ZS6f1luSZaDELUKNagyJbjeUXWGmavyEaOR3mlB2a5huqR3vj70IsiawfzVmRnlAzV4koPzHIN1TNKiqwdzFuRrUNfiqwFzFiRGaqGanGlB2a5hqqhqshawIwVWQr0qMjqxlwVWQ+BoVpc6YFZrqHaQ6DI6sZcFVk69KvIasUsFZkiM1SLKz0wyzVUFZkiqxWzVGSp0bsiqw/zU2RXiA3V4koPzHIN1SvEiqw+zE+R5cEYiqwmzEyRxdDCUC2u9MAs11CNoYUiqwkzU2Q5MZIiqwNzUmQjaGSoFld6YJZrqI6gkSKrA3NSZPkxniLbGrNRZONoZ6gWV3pglmuojqOdItsas1FkpTCqItsO81BkN9HUUC1u43eR6k00VWTbYR6KrCzGVmRbYAaKbAqtDdXiSg/Mcg3VKbRWZFtgBopsC8xAkZXF2IpsBh4wVIsrPTDLNVRn4AFFVhZjK7LtMA9FVgqjKrJ5eMZQLW7jjaM6D88oslIYVZFtjdkosvwYT5HNxmOGanEbnyqqs/GYIsuP8RRZHZiTIsuJkRTZEjxpqBZXemCWa6guwZOKLCdGUmQ1YWaKLA/GUGQL8bChWlzpgVmuoboQDyuyPBhDkdWH+Smy1OhdkS3H84ZqcaUHZrmG6nI8r8hSo3dFVitmqcjSoV9Fdhe6MFSLKz0wyzVU70IXiiwd+lVkdWOuiiwFelRk96IXQ7W40gOzXEP1XvSiyFKgR0XWAmasyNahL0W2Ah0ZqsWVHpjlGqor0JEiW4e+FFk7mLciuxe9KLJ16MtQLa70wCzXUF2HvhTZvehFkbWG2Suy5Xheka1Gd4ZqcaUHZrmG6mp0p8iW43lF1ibWoMiW4ElFlgI9GqrFlR6Y5RqqKdCjIluCJxVZy1iJIpuHZxRZInRqqBZXemCWa6gmQqeKbB6eUWTtYz2KbAqtFVk69GuoFld6YJZrqKZDv4psCq0V2V6wKkU2jnaKLCm6NlSLKz0wyzVUk6JrRTaOdopsX1ibIouhhSJLjd4N1eJKD8xyDdXU6F2RxdBCke0RK1RkikyRZcAAhmpxpQdmuYZqBgygyBSZItsv1qnIDFVFlgdjGKrFlR6Y5RqqeTCGIjNUFdnesVpFttHOMIyhWlzpgVmuoZoNwyiyjd74qrBmdaOeGyMZqsWVHpjlGqo5MZK6UT8aVj6F1pkxmKFaXOmBWa6hmhmDTaH18bD+cbTLj/EM1eIOcSs6jDeOdkfFLsTQogiGNFSLO8qt6DBkDC2Ojb1QZKUwqqFa3LGWzaiK7NjYixhaFMGQhmpxB7oVDBlDi6NiF8bRLj/GM1SLO8qtYLxxtDse1j+F1pkxmKFa3CFuBYNNofWRsHJ1o54bIxmqxZUemOUaqjkxkrpRPw7WrMg22h+GMVSLKz0wyzVUs2EYRbbRG18JVqvIDFVFlgdjGKrFlR6Y5RqqeTCGIjNUFdl+sU5FpsgUWQYMYKgWV3pglmuoZsAAikyRKbI9YoWKLIYWiiw1ejdUiys9MMs1VFOjd0UWQwtFti+sTZGNo50iS4quDdXiSg/Mcg3VpOhakY2jnSLbC1alyKbQWpGlQ7+GanGlB2a5hmo69KvIptBakbWP9SiyeXhGkSVCp4ZqcaUHZrmGaiJ0qsjm4RlF1jJWosiW4ElFlgI9GqrFlR6Y5RqqKdCjIluCJxVZm1iDIluO5xXZanRnqBZXemCWa6iuRneKbDmeV2StYfaK7F70osjWoS9DtbjSA7NcQ3Ud+lJk96IXRdYO5q3I1qEvRbYCHRmqxZUemOUaqivQkSJbh74UWQuYsSJLgR4V2b3oxVAtrvTALNdQvRe9KLIU6FGR1Y25KrJ06FeR3YUuDNXiSg/Mcg3Vu9CFIkuHfhVZrZilIkuN3hXZcjxvqBZXemCWa6gux/OKLDV6V2T1YX6KLA/GUGQL8bChWlzpgVmuoboQDyuyPBhDkdWEmSmynBhJkS3Bk4ZqcaUHZrmG6hI8qchyYiRFVgfmpMjyYzxFNhuPGarFlR6Y5Rqqs/GYIsuP8RTZ1piNIiuFURXZPDxjqBa38cZRnYdnFFkpjKrItsM8FFlZjK3IZuABQ7W4jU8V1Rl4QJGVxdiKbAvMQJFtgRkosim0NlSLKz0wyzVUp9BakW2BGSiyshhbkW2HeSiym2hqqBZXemCWa6jeRFNFth3mochKYVRFtjVmo8jG0c5QLW7jN5LqONopsq0xG0WWH+MpsjowJ0U2gkaGanGlB2a5huoIGimyOjAnRZYTIymymjAzRRZDC0O1uNIDs1xDNYYWiqwmzEyR5cEYiqw+zE+RXSE2VIsrPTDLNVSvECuy+jA/RZYavSuyWjFLRabIDNXiSg/Mcg1VRabIasUsFVk69KvI6sZcFVkPgaFaXOmBWa6h2kOgyOrGXBVZCvSoyFrAjBWZoWqoFld6YJZrqBqqiqwFzFiRrUNfiqwdzFuRnVEyVIsrPTDLNVTPKCmydjBvRXYvelFkrWH2iuzm8Sip9MAs11A90hu/FM8rsjaxBhWNQrG80gOzXBMtBiFqFGtQZEvwpCJrGStR1/XQuLzSA7Ncc10JQuOmsRJFNg/PKLL2sZ6baFpc6YFZ7k00bR/rUWRTaK3I9oJVjaNdcdXdCtrtBatSZONop8j2hbWNoFFxdd0KGu0La1NkMbRQZHvECmNoUdw2t+Kzh4evHh6+fHgIXwa02CNWqMgUmSLbL9Z51j8bxMVdD3x6fnp8nd3TC4We00sX4un55UT5zWSDruMf3n/9+8fvw+unD99+/PyLDddfzOuWXiEzVBXZ3oXFDs7Gn7/+RlxWb9NPp5fuRIfZda5uRZcSXTxKo8kGnf6yw+vnb74j2zv2RJEd+0oE9ZwN2/eXJ96Hi8F5vjR4/Teg+xeBr96aTTbo/PXXYNnhRXoA7InqtuX6+8kOzxxETWdjcCsen57sA19uxemZ6uMz3xVdLkFoN9ng1V9//DFYc3gRHwO7YqLfT3ZofRhVnQ3b/e4HgpfT63m+HG+5FXbEL2d+WJpscPbp02DN4dU1osExhH3pRL9n6Oq0O5Lun8rBVoQXcVlXb0D0VsSKUptsYP74178Hy+5eoRktjqFb72cLz8HkbzLOVv2yZCuvE373rvuncrAV3YsWZc27FZGP/beGr8XJBubPX3/77z/+2V/2j+8/hGYdGh1D97NEfx8uL2I1/ZuM1b8s2QqTefeu++6x+6eyvxWffvkPjc7W/wr07NYHR1D6VvSFdIDsCEa+nyTts+2d/lXHxeAtn+xhI0xDkakEvwKd+uC4WHYr+kVpONlgRGgwQHYA0e8nyd5cf7xcbTeFu39Zsg2moMgGLvOd/Fy4+4OjZ96tiBVtlPNGTzYYFxoNkO1d9/3k7e8ZziIbOSyt/WXJBsLwA2RDk7d6ssGlMPbBIebdiusxhu0mG9wS2g2Q7R2rNVT7Yhs5urnRYFEPRYShB8gi7HSN3urJBt2Cb39wiJm34u3Uh0G6b9D42ppNNriNxops11iqodo3fHtfXd6lfvFV9O1b1EN+YdwBsqjYoqQ22aBvNHgz91a81UVsFmJ85Cs8ocj2i3Uaqn37uhVh0AGyMZPzX79Favat6NhvtND9gD/Yz8kGU3hQke0UizRU++wtj34EDd+laLCoh5zCiANkN2x/KyadzvgiZrLBTWHCA2R7xAoN1b7Yuxg7BmfRt3xRD9mE8QbIbpu81ZMN+kaDNzUeuDDnAbLdYXmGqrh+z8ff2HiypIc8wmADZJNik5VbPdmgb8bSKz1tYdoDZPvC2gxVdTnU4R2+9ZuMkbd8QQ8ZMJYim+V6uoN1TjboafdWdMLMB8h2hIUZqgOXN1LE3tWxt3x+D6kxlCKbbfJWTzZ40/St6ITJD5DtBasyVK/N/E3Gjbd89e9C7sBYimyRyVs9/9q3fis6Yf4DZLvAkgzVMet+k/FqfQ+zsSRFdodUvwLdwa3ohCUMkLWP9Riq7WM9imyNyVs92WCGNt4GNlWRNY7FGKqNYzGKrAXNzJWtVWQtYyWGastYiSJrRFM3OIasWSzDUG0Wy1Bk7WjtEseQtYk1GKptYg2KrCkN3uMYsgaxAEO1QSxAkbWmzascQ9YaZm+otobZK7IG+duwMaZuqDaFqSuyNrV8oWPI2sG8DdV2MG9F1qzG73QMWSOYtKHaCCatyFrW/rWOIWsBMzZUW8CMFVnjdnGzY8iqx3QN1eoxXUXWvr1c7hiyujFXQ7VuzFWR7cKO7ncMWcWYqKFaMSaqyPZiX1c8hqxWzNJQrRWzVGQ7srtbHkNWJaZoqFaJKSqyfdnjRY8hqw/zM1Trw/wU2e7s9K7HkFWGyRmqlWFyimyP9nvdY8hqwswM1ZowM0W2U7u+8TFk1WBahmo1mJYi26+9X/oYsjowJ0O1DsxJke3aAe59DFkFmJChWgEmpMj27hhXP4Zsa8zGUN0as1FkB3CY2x9DtimmYqhuiqkosmM40gdADNl2mIehuh3mocgO42CfATFkG2EShupGmIQiO5LjfQzEkG2BGRiqW2AGiuxgDvlJEENWHMMbqsUxvCI7nqN+GMSQlcXYhmpZjK3IDunAnwcxZAUxsKFaEAMrsqM69kdCDFkpjGqolsKoiuzADv+pEENWBEMaqkUwpCI7Nt+FjQ8H4xmq+TGeIjs834hXHApFlhmDGaqZMZgic34rLjgaiiwnRjJUc2IkRebOfDvecEAUWTYMY6hmwzCKzBnfEcExUWR5MIahmgdjKDLX45syxGFRZBkwgKGaAQMoMqd8XyI4MoosNXo3VFOjd0XmrvjWxHFwFFlSdG2oJkXXiszF+O6M4vgosnTo11BNh34VmRvhG3QLh0iRJUKnhmoidKrI3DjfowkcJUWWAj0aqinQoyJzN/k2TeNAKbLV6M5QXY3uFJmb4js1C8dKka1DX4bqOvSlyNwMvllzcbgU2Qp0ZKiuQEeKzM3j+7UAR0yR3YteDNV70Ysic7P5li3DQVNkd6ELQ/UudKHI3BK+a4tx3BTZcjxvqC7H84rMLeQbdw8OnSJbiIcN1YV4WJG55Xzv7sTRU2RL8KShugRPKjJ3F9+++3EAFdlsPGaozsZjiszdy3dwFY6hIpuHZwzVeXhGkbkVfBPX4jAqshl4wFCdgQcUmVvH9zEBjqQim0JrQ3UKrRWZW823Mg0OpiK7iaaG6k00VWQuBd/NZDieimwc7QzVcbRTZC4R39CUOKSKbASNDNURNFJkLh3f08Q4qooshhaGagwtFJlLyrc1PQ6sIrtCbKheIVZkLjXf2Sw4topMkRmqikyRuQx8c3Ph8CqyHgJDtYdAkbk8fH8z4ggrMkPVUDVUFZnLxrc4Lw6yIjujZKieUVJkLiff5ew4zops/FbwtSJzmflGl8ChVtEoWgxC5ArwvS6Eo62u6zdaumJ8u8vhgF/57OHhq4eHLx8e+PoKz7tSfMeL4pj3/PD+698/fh9eP3349uPnXxAYnnQF+aaXxmE/61+J8Pr5m+/IznjGleX7voFw4rtvnAZXIrxC2qG1K863fhvdoe9+lhjch/DyK7E53/3NdD9eD+5DePmV2Jy/AVvqfrweXInuRea247diS3/++lv343X/Snz65T9kbjt+K7YXfpDo8LXbmr8Tzg35rXBuyG+Fc0N+K5wb8luRy+nl+ekRT88vJ8pv1jdwmfityOLl6ZHfK108Pr0QvlrfwOXjtyKDl6fLOX5+6T7w+erd5VSvb+By8luR3OmZT/nHZ77puZzxcKjXN3B5+a1Izk7w5UgPS+sbuLz8VqR2+aDvfaxLbX0Dl5nfitRin+qXM/1aXN/AZea3IjW/Fe3zW5GanenR73/WN3CZ+a1ILXZ+5dN/fQOXmd+K5K4/6gfHfH0Dl5ffivQuhzp8sJ+uDvn6Bi4rvxUZXD7ZRe9Er2/gcvJbkcfpWf6O6fFp+Md96xu4bPxW5HQ644uY9Q1cBn4rnBvyW+Gc+vvv/wEpIoKtwsi4hwAAAABJRU5ErkJggg==) \\\n",
        "Для вектора: 00110011 \\\n",
        "![Task10_1.png](data:image/png;base64,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) \\\n",
        "Если мы будем поднимать от вектора 000 к вектору 111, то видно, что нет позиций, где бы было противоречие условию.\\\n",
        "Рассмотрим еще один вектор: 00110001 \\\n",
        "![Task10_2.png](data:image/png;base64,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) \\\n",
        "На позициях ```010 <= 110``` не выполняется условие. Данный вектор не принадлежит к классу монотонности."
      ],
      "metadata": {
        "id": "AvdWmdMWjbH_"
      }
    },
    {
      "cell_type": "markdown",
      "source": [
        "##Check_completeness\n",
        "Создается массив ответов на принадлежность к классам: ```[T0, T1, S, L, M]``` \\"
      ],
      "metadata": {
        "id": "CyXwMwIsbB71"
      }
    },
    {
      "cell_type": "code",
      "source": [
        "# Проверка системы на полноту\n",
        "def check_completeness(vec):\n",
        "    ans = [1, 1, 1, 1, 1]\n",
        "    for v in vec:\n",
        "        if not check_t0(v):\n",
        "            ans[0] = 0\n",
        "        if not check_t1(v):\n",
        "            ans[1] = 0\n",
        "        if not check_s(v):\n",
        "            ans[2] = 0\n",
        "        if not check_ln(v):\n",
        "            ans[3] = 0\n",
        "        if not check_m(v):\n",
        "            ans[4] = 0\n",
        "    return ans"
      ],
      "metadata": {
        "id": "ov1_SmoZbCPW"
      },
      "execution_count": null,
      "outputs": []
    },
    {
      "cell_type": "markdown",
      "source": [
        "##Print_ans\n",
        "Подготовка правильного ответа и отправка его пользователю."
      ],
      "metadata": {
        "id": "A1gQ_YQnbCiC"
      }
    },
    {
      "cell_type": "code",
      "source": [
        "def print_ans():\n",
        "    vec1 = return_norm_vec(vector_label1.cget('text').split(), 1)\n",
        "    vec2 = return_norm_vec(vector_label2.cget('text').split(), 1)\n",
        "    vec3 = return_norm_vec(vector_label3.cget('text').split(), 1)\n",
        "    vec4 = return_norm_vec(vector_label4.cget('text').split(), 1)\n",
        "\n",
        "    tmp = check_completeness([vec1, vec2, vec3, vec4])\n",
        "    t = 0\n",
        "    for i in tmp:\n",
        "        if i == 1:\n",
        "            t += 1\n",
        "    ans = 'Система функций '\n",
        "    if t == 1:\n",
        "        ans += 'принадлежит следующему классу: '\n",
        "    elif t == 0:\n",
        "        ans += 'является полной'\n",
        "    else:\n",
        "        ans += 'принадлежит следующим классам: '\n",
        "    if tmp[0] == 1:\n",
        "        ans += 'T0 '\n",
        "    if tmp[1] == 1:\n",
        "        ans += 'T1 '\n",
        "    if tmp[2] == 1:\n",
        "        ans += 'S '\n",
        "    if tmp[3] == 1:\n",
        "        ans += 'L '\n",
        "    if tmp[4] == 1:\n",
        "        ans += 'M '\n",
        "    error_label.configure(text=f'{ans}', fg='green')\n",
        "    ans_button.pack_forget()"
      ],
      "metadata": {
        "id": "1DQBd6GlbC1O"
      },
      "execution_count": null,
      "outputs": []
    },
    {
      "cell_type": "markdown",
      "source": [
        "##Send_answer\n",
        "Системная проверка ответа пользователя и показ кнопок новое задание, показать ответ и перепройти."
      ],
      "metadata": {
        "id": "dF2qShjQbggx"
      }
    },
    {
      "cell_type": "code",
      "source": [
        "# Проверка ответа пользователя\n",
        "def send_answer():\n",
        "    vec1 = return_norm_vec(vector_label1.cget('text').split(), 1)\n",
        "    vec2 = return_norm_vec(vector_label2.cget('text').split(), 1)\n",
        "    vec3 = return_norm_vec(vector_label3.cget('text').split(), 1)\n",
        "    vec4 = return_norm_vec(vector_label4.cget('text').split(), 1)\n",
        "\n",
        "    ans = check_completeness([vec1, vec2, vec3, vec4])\n",
        "    p_sis = 1\n",
        "    for i in ans:\n",
        "        if i == 1:\n",
        "            p_sis = 0\n",
        "            break\n",
        "    check_false_ans = False\n",
        "    if (var1.get() == True and p_sis == 1) or (var1.get() == False and p_sis == 0):\n",
        "        error_label.configure(text='Неправильный ответ!', fg='red')\n",
        "        check_false_ans = True\n",
        "\n",
        "        new_button.pack(side='left', padx=5)\n",
        "        remake_task_button.pack(side='left', padx=5)\n",
        "        if check_false_ans:\n",
        "            ans_button.pack(side='left', padx=5)\n",
        "    elif var1.get() == False and p_sis == 1:\n",
        "        error_label.configure(text='Правильный ответ!', fg='green')\n",
        "\n",
        "        new_button.pack(side='left')\n",
        "    elif var4_t0.get() == ans[0] and var4_t1.get() == ans[1] and var4_s.get() == ans[2] and \\\n",
        "            var4_ln.get() == ans[3] and var4_m.get() == ans[4]:\n",
        "        error_label.configure(text='Правильный ответ!', fg='green')\n",
        "\n",
        "        new_button.pack(side='left')\n",
        "    else:\n",
        "        error_label.configure(text='Неправильный ответ!', fg='red')\n",
        "        check_false_ans = True\n",
        "\n",
        "        new_button.pack(side='left', padx=5)\n",
        "        remake_task_button.pack(side='left', padx=5)\n",
        "\n",
        "        if check_false_ans:\n",
        "            ans_button.pack(side='left', padx=5)\n",
        "\n",
        "    button_submit['state'] = 'disabled'\n",
        "    cb1['state'] = 'disabled'\n",
        "    cb4_t0['state'] = 'disabled'\n",
        "    cb4_t1['state'] = 'disabled'\n",
        "    cb4_s['state'] = 'disabled'\n",
        "    cb4_ln['state'] = 'disabled'\n",
        "    cb4_m['state'] = 'disabled'"
      ],
      "metadata": {
        "id": "H2ewLrAKbgyy"
      },
      "execution_count": null,
      "outputs": []
    },
    {
      "cell_type": "markdown",
      "source": [
        "##Open_child_root\n",
        "Открывает дополнительное окно(справака)."
      ],
      "metadata": {
        "id": "iZ8nBKJMbhLF"
      }
    },
    {
      "cell_type": "code",
      "source": [
        "def open_child_root():\n",
        "    child_root = tk.Toplevel(root)\n",
        "    child_root.title('Справка')\n",
        "    child_root.geometry('550x350+100+100')\n",
        "    child_root.resizable(False, False)\n",
        "    child_root.grab_set()\n",
        "    ans = \"\\nЕсли вы считаете утверждение верным - нажмите на флажок\\n\"\n",
        "    label_ch1 = tk.Label(child_root, text=ans, font=('Arial', 12, 'normal'), justify='left').pack()\n",
        "    ans = \"\\nЕсли верных ответов нет - оставьте флажок пустым\\n\"\n",
        "    label_ch2 = tk.Label(child_root, text=ans, font=('Arial', 12, 'normal'), justify='left').pack()"
      ],
      "metadata": {
        "id": "xyADBzbBbhaM"
      },
      "execution_count": null,
      "outputs": []
    },
    {
      "cell_type": "markdown",
      "source": [
        "##Open_cb1 and close_cb1\n",
        "Показ и скрытие замкнутых классов ```[T0, T1, S, L, M]```"
      ],
      "metadata": {
        "id": "3r8f1KQAbnPa"
      }
    },
    {
      "cell_type": "code",
      "source": [
        "def open_cb1():\n",
        "    cb4_t0.pack(side='left')\n",
        "    cb4_t1.pack(side='left')\n",
        "    cb4_s.pack(side='left')\n",
        "    cb4_ln.pack(side='left')\n",
        "    cb4_m.pack(side='left')\n",
        "    cb1.configure(command=close_cb1)\n",
        "\n",
        "\n",
        "def close_cb1():\n",
        "    cb4_t0.pack_forget()\n",
        "    cb4_t1.pack_forget()\n",
        "    cb4_s.pack_forget()\n",
        "    cb4_ln.pack_forget()\n",
        "    cb4_m.pack_forget()\n",
        "    cb1.configure(command=open_cb1)"
      ],
      "metadata": {
        "id": "USGvik-LbnsN"
      },
      "execution_count": null,
      "outputs": []
    },
    {
      "cell_type": "markdown",
      "source": [
        "##Go_next\n",
        "Функция отвечающая за кнопку новое задание."
      ],
      "metadata": {
        "id": "ylQzshGtbn_h"
      }
    },
    {
      "cell_type": "code",
      "source": [
        "def go_next():\n",
        "    button_submit['state'] = 'normal'\n",
        "    cb1['state'] = 'normal'\n",
        "    cb4_t0['state'] = 'normal'\n",
        "    cb4_t1['state'] = 'normal'\n",
        "    cb4_s['state'] = 'normal'\n",
        "    cb4_ln['state'] = 'normal'\n",
        "    cb4_m['state'] = 'normal'\n",
        "    vec = random_vector2(n_param.get())\n",
        "    vector_label1.configure(text=f'1. {vec[0]}')\n",
        "    vector_label2.configure(text=f'2. {vec[1]}')\n",
        "    vector_label3.configure(text=f'3. {vec[2]}')\n",
        "    vector_label4.configure(text=f'4. {vec[3]}')\n",
        "\n",
        "    cb1.deselect()\n",
        "\n",
        "    cb4_t0.deselect()\n",
        "    cb4_t1.deselect()\n",
        "    cb4_s.deselect()\n",
        "    cb4_ln.deselect()\n",
        "    cb4_m.deselect()\n",
        "\n",
        "    close_cb1()\n",
        "    error_label.configure(text='')\n",
        "    new_button.pack_forget()\n",
        "    remake_task_button.pack_forget()\n",
        "    ans_button.pack_forget()"
      ],
      "metadata": {
        "id": "LEHfVhogboUH"
      },
      "execution_count": null,
      "outputs": []
    },
    {
      "cell_type": "markdown",
      "source": [
        "##Remake_task\n",
        "Функция отвечающая за кнопку перепройти."
      ],
      "metadata": {
        "id": "mT52Xm-bbyBu"
      }
    },
    {
      "cell_type": "code",
      "source": [
        "def remake_task():\n",
        "    button_submit['state'] = 'normal'\n",
        "    cb1['state'] = 'normal'\n",
        "    cb4_t0['state'] = 'normal'\n",
        "    cb4_t1['state'] = 'normal'\n",
        "    cb4_s['state'] = 'normal'\n",
        "    cb4_ln['state'] = 'normal'\n",
        "    cb4_m['state'] = 'normal'\n",
        "\n",
        "    cb1.deselect()\n",
        "    cb4_t0.deselect()\n",
        "    cb4_t1.deselect()\n",
        "    cb4_s.deselect()\n",
        "    cb4_ln.deselect()\n",
        "    cb4_m.deselect()\n",
        "    close_cb1()\n",
        "\n",
        "    error_label.configure(text='')\n",
        "    new_button.pack_forget()\n",
        "    remake_task_button.pack_forget()\n",
        "    ans_button.pack_forget()"
      ],
      "metadata": {
        "id": "qaHRRRzGbyV4"
      },
      "execution_count": null,
      "outputs": []
    },
    {
      "cell_type": "markdown",
      "source": [
        "##Draw_menu\n",
        "Выпадающее меню с настройкой кол-ва переменных."
      ],
      "metadata": {
        "id": "ynMu_RG0b0yz"
      }
    },
    {
      "cell_type": "code",
      "source": [
        "# Выпадающие меню\n",
        "def draw_menu():\n",
        "    menu_bar = tk.Menu(root)\n",
        "    file_menu = tk.Menu(menu_bar, tearoff=0)\n",
        "    file_menu.add_radiobutton(label='1 переменная', value=1, variable=n_param, command=go_next,\n",
        "                              font=('Arial', 12, 'normal'))\n",
        "    file_menu.add_radiobutton(label='2 переменных', value=2, variable=n_param, command=go_next,\n",
        "                              font=('Arial', 12, 'normal'))\n",
        "    file_menu.add_radiobutton(label='3 переменных', value=3, variable=n_param, command=go_next,\n",
        "                              font=('Arial', 12, 'normal'))\n",
        "    file_menu.add_radiobutton(label='4 переменных', value=4, variable=n_param, command=go_next,\n",
        "                              font=('Arial', 12, 'normal'))\n",
        "    file_menu.add_radiobutton(label='5 переменных', value=5, variable=n_param, command=go_next,\n",
        "                              font=('Arial', 12, 'normal'))\n",
        "    menu_bar.add_cascade(label='Настройки', menu=file_menu)\n",
        "    root.configure(menu=menu_bar)"
      ],
      "metadata": {
        "id": "Ik90nGrVb1UU"
      },
      "execution_count": null,
      "outputs": []
    },
    {
      "cell_type": "markdown",
      "source": [
        "##Algorithm\n",
        "Выдаем случайно систему векторов пользователю. После нажатия на кнопку ответить, проверяем галочки, где пользователь их поставил и сравниваем с системной проверкой на принадлежность классам: \\\n",
        "```[T0, T1, S, L, M]``` \\\n",
        " Если совпало, то ответ верный. \\"
      ],
      "metadata": {
        "id": "G6Z3fb_Ti1p1"
      }
    },
    {
      "cell_type": "markdown",
      "source": [
        "#Task12_V1\n",
        "Реализация алгоритмов построения ДНФ."
      ],
      "metadata": {
        "id": "vnRNAwIBjGg9"
      }
    },
    {
      "cell_type": "markdown",
      "source": [
        "##Algorithm\n",
        "По вектору функции строится СДНФ, затем используя операции ```¬x ∨ x = 1``` и ```x ∨ x = x``` получаем минимальный ДНФ."
      ],
      "metadata": {
        "id": "vABV0T5gjWM_"
      }
    },
    {
      "cell_type": "markdown",
      "source": [
        "##String_standard\n",
        "Приводим значения пользователя в стандарт, в котором удобно работать внутри системы."
      ],
      "metadata": {
        "id": "FsOf_ybqoQvr"
      }
    },
    {
      "cell_type": "code",
      "source": [
        "def string_standard(player_string):\n",
        "    player_string = player_string.replace(' ', '').lower()\n",
        "    player_string = player_string.replace('&', '')\n",
        "    player_string = player_string.replace('*', '')\n",
        "    player_string = player_string.replace('(', '')\n",
        "    player_string = player_string.replace(')', '')\n",
        "    player_string = player_string.replace('x', '')\n",
        "    player_string = player_string.split('v')\n",
        "    return player_string"
      ],
      "metadata": {
        "id": "Fs_kLfbmoPiT"
      },
      "execution_count": null,
      "outputs": []
    },
    {
      "cell_type": "markdown",
      "source": [
        "##What_degree_two\n",
        "Функция принимает число и возвращает в какой оно степени двойки находится. Если число не является степенью двойки, то возвращает значение -1."
      ],
      "metadata": {
        "id": "C5882OVQoZh-"
      }
    },
    {
      "cell_type": "code",
      "source": [
        "def what_degree_two(number): # В какую степень двойки возведено число; -1: не является степенью двойки\n",
        "    tmp = 1\n",
        "    ans = 0\n",
        "    while tmp < number:\n",
        "        tmp *= 2\n",
        "        ans += 1\n",
        "    if number == tmp:\n",
        "        return ans\n",
        "    else:\n",
        "        return -1"
      ],
      "metadata": {
        "id": "OC-RzLI9oZ3n"
      },
      "execution_count": null,
      "outputs": []
    },
    {
      "cell_type": "markdown",
      "source": [
        "###Algorithm_what_degree_two\n",
        "```number``` - целое число, которое нужно проверить для степени двойки. \\\n",
        "```tmp``` - целое число в степени двойки, которое постепенно увеличивается. \\\n",
        "```ans``` - целое число, степень двойки, в кторой находится ```tmp``` на данный момент. \\\n",
        "1. Запускаем цикл с условием ```tmp < number```.\n",
        "2. Внутри цикла увеличиваем ```tmp *= 2``` и ```ans += 1```.\n",
        "3. После завершения цикла мы поличим, что если ```tmp == number```, то \\\n",
        "```number``` является числом в степени двойки, возвращаем ответ, \\\n",
        "который хранится в ```ans```. Если условие не выполняется, то ```number``` не является степенью двойки."
      ],
      "metadata": {
        "id": "Akq0rZyGLxDL"
      }
    },
    {
      "cell_type": "markdown",
      "source": [
        "##SDNF\n",
        "Построение СДНФ по вектору."
      ],
      "metadata": {
        "id": "GrZc0UE5oaQ_"
      }
    },
    {
      "cell_type": "code",
      "source": [
        "def sdnf(player_string, ):\n",
        "    tmp = 0\n",
        "    deg_t = what_degree_two(len(player_string))\n",
        "    ans = \"\"\n",
        "    for char in player_string:\n",
        "        if char == '1':\n",
        "            t = '0'*(deg_t - len(str(bin(tmp)[2:]))) + str(bin(tmp)[2:])\n",
        "            num_arg = 1\n",
        "            ans += \"(\"\n",
        "            for i in t:\n",
        "                if i == '0':\n",
        "                    ans += f\"-x{num_arg}\"\n",
        "                else:\n",
        "                    ans += f\"x{num_arg}\"\n",
        "                num_arg += 1\n",
        "            ans += \")v\"\n",
        "        tmp += 1\n",
        "    ans = ans[:len(ans)-1]\n",
        "    return ans"
      ],
      "metadata": {
        "id": "V9LuvcOuoajh"
      },
      "execution_count": null,
      "outputs": []
    },
    {
      "cell_type": "markdown",
      "source": [
        "##Check_vector\n",
        "Проверяется, что вектор введен верно. \\\n",
        "Проверки:\n",
        "- Длина вектора (вектор не может быть < 2)\n",
        "- Является ли длина вектора степенью двойки\n",
        "- Состоит ли вектор только из \"0\" и \"1\""
      ],
      "metadata": {
        "id": "_FaFp-CVoe4P"
      }
    },
    {
      "cell_type": "code",
      "source": [
        "def check_vector(vec):\n",
        "    if len(vec) < 2:\n",
        "        return False\n",
        "    if what_degree_two(len(vec)) == -1:\n",
        "        return False\n",
        "    for char in vec:\n",
        "        if \"0\"<= char <= \"1\":\n",
        "            continue\n",
        "        return False\n",
        "    return True"
      ],
      "metadata": {
        "id": "4ZrURGDPofai"
      },
      "execution_count": null,
      "outputs": []
    },
    {
      "cell_type": "markdown",
      "source": [
        "###Algorithm_check_vector\n",
        "```vec``` - вектор(строка) передаваемый пользователем```(\"0110\")```.\n",
        "1. Вычисляем длину вектора и проверяем ее. \\\n",
        "2. Если длина меньше 2, то возвращаем, что вектор введен неврено. \\\n",
        "3. Проверяем длину вектора на степень двойки, если не соответствует, \\\n",
        "то вектор введен неверно. \\\n",
        "4. Проходим по всем символам вектора и проверяем, что он состоит только \\\n",
        "из ```\"0\"``` и ```\"1\"```, если есть сторонний символ, то возвращаем, вектор введен неверно.\n",
        "5. В остальных случаях возвращаем, что вектор введен верно."
      ],
      "metadata": {
        "id": "H_Ml0R0RMn_7"
      }
    },
    {
      "cell_type": "markdown",
      "source": [
        "##Reduction\n",
        "Сокращение СДНФ, используются операции ```¬x ∨ x = 1``` и ```x ∨ x = x```"
      ],
      "metadata": {
        "id": "8jRGMfslohVZ"
      }
    },
    {
      "cell_type": "code",
      "source": [
        "def reduction(player_string, rek):\n",
        "    s = player_string\n",
        "    for q in range(rek):\n",
        "        ans = set()\n",
        "        tmp_ans = []\n",
        "        for ti in range(len(s)):\n",
        "            tmp_ans.append(0)\n",
        "        for ti in range(len(s)):\n",
        "            map_tmp1 = []\n",
        "            zn = 1\n",
        "            for char in s[ti]:\n",
        "                if char == '-':\n",
        "                    zn = -1\n",
        "                    continue\n",
        "                map_tmp1.append(zn*int(char))\n",
        "                zn = 1\n",
        "            #print(map_tmp1)\n",
        "            for tj in range(ti+1,len(s), 1):\n",
        "                map_tmp2 = []\n",
        "                zn = 1\n",
        "                for char in s[tj]:\n",
        "                    if char == '-':\n",
        "                        zn = -1\n",
        "                        continue\n",
        "                    map_tmp2.append(zn*int(char))\n",
        "                    zn = 1\n",
        "                if len(map_tmp2) == len(map_tmp1):\n",
        "                    razl = 0\n",
        "                    for i in range(len(map_tmp1)):\n",
        "                        if abs(map_tmp2[i]) != abs(map_tmp1[i]):\n",
        "                            razl = -1\n",
        "                            break\n",
        "                        if map_tmp2[i] != map_tmp1[i]:\n",
        "                            razl += 1\n",
        "                    if razl == 1:\n",
        "                        s1 = \"\"\n",
        "                        for i in range(len(map_tmp1)):\n",
        "                            if map_tmp2[i] != map_tmp1[i]:\n",
        "                                continue\n",
        "                            s1 += str(map_tmp1[i])\n",
        "                        tmp_ans[ti] = 1\n",
        "                        tmp_ans[tj] = 1\n",
        "                        ans.add(s1)\n",
        "        for i in range(len(s)):\n",
        "            if 0 == tmp_ans[i]:\n",
        "                ans.add(s[i])\n",
        "        s = list(ans)\n",
        "    ans_string = \"\"\n",
        "    for i in range(len(s)):\n",
        "        zn = \"\"\n",
        "        ans_string += \"(\"\n",
        "        for j in s[i]:\n",
        "            if j == '-':\n",
        "                zn = \"-\"\n",
        "                continue\n",
        "            ans_string += zn + \"x\" + j\n",
        "            zn = \"\"\n",
        "        ans_string += \")\"\n",
        "        ans_string += \"v\"\n",
        "    return ans_string[:len(ans_string)-1]"
      ],
      "metadata": {
        "id": "mwQdDptTohm6"
      },
      "execution_count": null,
      "outputs": []
    },
    {
      "cell_type": "markdown",
      "source": [
        "##Main\n",
        "Основная программа. Проверяет входные данные, приводит их к стандарту и использует сокращение и выводит ответ пользователю."
      ],
      "metadata": {
        "id": "ezmC6o3KolSe"
      }
    },
    {
      "cell_type": "code",
      "source": [
        "player_string = input(\"Введите вектор: \")\n",
        "player_string = player_string.replace(' ', '')\n",
        "\n",
        "if check_vector(player_string):\n",
        "    s = string_standard(sdnf(player_string))\n",
        "    ans = reduction(s, what_degree_two(len(player_string)))\n",
        "    print(ans)  \n",
        "else:\n",
        "    print(\"Ошибка при вводе вектора!\")"
      ],
      "metadata": {
        "id": "pY7_HIo7ongB"
      },
      "execution_count": null,
      "outputs": []
    },
    {
      "cell_type": "markdown",
      "source": [
        "#Task12_V2\n",
        "Реализация алгоритмов построения ДНФ."
      ],
      "metadata": {
        "id": "euAMTkC3jV4x"
      }
    },
    {
      "cell_type": "markdown",
      "source": [
        "##Algorithm\n",
        "Строится таблица из всех возможных вариантов переменных. Пример таблицы(от трех переменных). \\\n",
        "Вектор функции: 00010001\n",
        "```\n",
        "==========================================================\n",
        "| -x1-x2-x3 | -x1-x2 | -x1-x3 | -x2-x3 | -x1 | -x2 | -x3 | 0\n",
        "----------------------------------------------------------\n",
        "| -x1-x2x3  | -x1-x2 | -x1x3  | -x2x3  | -x1 | -x2 | x3  | 0\n",
        "----------------------------------------------------------\n",
        "| -x1x2-x3  | -x1x2  | -x1-x3 | x2-x3  | -x1 | x2  | -x3 | 0\n",
        "----------------------------------------------------------\n",
        "|  -x1x2x3  | -x1x2  | -x1x3  |  x2x3  | -x1 | x2  | x3  | 1\n",
        "----------------------------------------------------------\n",
        "| x1-x2-x3  | x1-x2  | x1-x3  | -x2-x3 | x1  | -x2 | -x3 | 0\n",
        "----------------------------------------------------------\n",
        "|  x1-x2x3  | x1-x2  |  x1x3  | -x2x3  | x1  | -x2 | x3  | 0\n",
        "----------------------------------------------------------\n",
        "|  x1x2-x3  |  x1x2  | x1-x3  | x2-x3  | x1  | x2  | -x3 | 0\n",
        "----------------------------------------------------------\n",
        "|  x1x2x3   |  x1x2  |  x1x3  |  x2x3  | x1  | x2  | x3  | 1\n",
        "==========================================================\n",
        "```\n",
        "Где стоят нули проходим построчно и убираем значения по столбцам, которые совпали со значением в данной клетке:\n",
        "```\n",
        "==========================================================\n",
        "|    -1     |   -1   |   -1   |   -1   | -1  | -1  | -1  |\n",
        "----------------------------------------------------------\n",
        "|    -1     |   -1   |   -1   |   -1   | -1  | -1  | -1  |\n",
        "----------------------------------------------------------\n",
        "|    -1     |   -1   |   -1   |   -1   | -1  | -1  | -1  |\n",
        "----------------------------------------------------------\n",
        "|  -x1x2x3  |   -1   |   -1   |  x2x3  | -1  | -1  | -1  |\n",
        "----------------------------------------------------------\n",
        "|    -1     |   -1   |   -1   |   -1   | -1  | -1  | -1  |\n",
        "----------------------------------------------------------\n",
        "|    -1     |   -1   |   -1   |   -1   | -1  | -1  | -1  |\n",
        "----------------------------------------------------------\n",
        "|    -1     |   -1   |   -1   |   -1   | -1  | -1  | -1  |\n",
        "----------------------------------------------------------\n",
        "|  x1x2x3   |   -1   |   -1   |  x2x3  | -1  | -1  | -1  |\n",
        "==========================================================\n",
        "```\n",
        "Перебираем все возможные значения и получаем минимальную ДНФ. \\\n",
        "Минимальная ДНФ для примера: ```x2x3```\n",
        "\n"
      ],
      "metadata": {
        "id": "otcZ-pNkjgQ7"
      }
    },
    {
      "cell_type": "markdown",
      "source": [
        "##What_degree_two\n",
        "Функция принимает число и возвращает в какой оно степени двойки находится. Если число не является степенью двойки, то возвращает значение -1."
      ],
      "metadata": {
        "id": "ucVJObG3ormn"
      }
    },
    {
      "cell_type": "code",
      "source": [
        "def what_degree_two(number): # В какую степень двойки возведено число; -1: не является степенью двойки\n",
        "    tmp = 1\n",
        "    ans = 0\n",
        "    while tmp < number:\n",
        "        tmp *= 2\n",
        "        ans += 1\n",
        "    if number == tmp:\n",
        "        return ans\n",
        "    else:\n",
        "        return -1"
      ],
      "metadata": {
        "id": "lk_EsaLLor44"
      },
      "execution_count": null,
      "outputs": []
    },
    {
      "cell_type": "markdown",
      "source": [
        "###Algorithm_what_degree_two\n",
        "```number``` - целое число, которое нужно проверить для степени двойки. \\\n",
        "```tmp``` - целое число в степени двойки, которое постепенно увеличивается. \\\n",
        "```ans``` - целое число, степень двойки, в кторой находится ```tmp``` на данный момент. \\\n",
        "1. Запускаем цикл с условием ```tmp < number```.\n",
        "2. Внутри цикла увеличиваем ```tmp *= 2``` и ```ans += 1```.\n",
        "3. После завершения цикла мы поличим, что если ```tmp == number```, то \\\n",
        "```number``` является числом в степени двойки, возвращаем ответ, \\\n",
        "который хранится в ```ans```. Если условие не выполняется, то ```number``` не является степенью двойки."
      ],
      "metadata": {
        "id": "2626VqUUL0GW"
      }
    },
    {
      "cell_type": "markdown",
      "source": [
        "##Check_vector\n",
        "Проверяется, что вектор введен верно. \\\n",
        "Проверки:\n",
        "- Длина вектора (вектор не может быть < 2)\n",
        "- Является ли длина вектора степенью двойки\n",
        "- Состоит ли вектор только из \"0\" и \"1\""
      ],
      "metadata": {
        "id": "c0zAzdVaoviv"
      }
    },
    {
      "cell_type": "code",
      "source": [
        "def check_vector(vec):\n",
        "    if len(vec) < 2:\n",
        "        return False\n",
        "    if what_degree_two(len(vec)) == -1:\n",
        "        return False\n",
        "    for char in vec:\n",
        "        if \"0\"<= char <= \"1\":\n",
        "            continue\n",
        "        return False\n",
        "    return True"
      ],
      "metadata": {
        "id": "WmzTc1MBozqm"
      },
      "execution_count": null,
      "outputs": []
    },
    {
      "cell_type": "markdown",
      "source": [
        "###Algorithm_check_vector\n",
        "```vec``` - вектор(строка) передаваемый пользователем```(\"0110\")```.\n",
        "1. Вычисляем длину вектора и проверяем ее. \\\n",
        "2. Если длина меньше 2, то возвращаем, что вектор введен неврено. \\\n",
        "3. Проверяем длину вектора на степень двойки, если не соответствует, \\\n",
        "то вектор введен неверно. \\\n",
        "4. Проходим по всем символам вектора и проверяем, что он состоит только \\\n",
        "из ```\"0\"``` и ```\"1\"```, если есть сторонний символ, то возвращаем, вектор введен неверно.\n",
        "5. В остальных случаях возвращаем, что вектор введен верно."
      ],
      "metadata": {
        "id": "dKdeguvgMp1E"
      }
    },
    {
      "cell_type": "markdown",
      "source": [
        "##Next_znach\n",
        "Получение следующего значения из числа сочетаний."
      ],
      "metadata": {
        "id": "0SfKeRw8oy67"
      }
    },
    {
      "cell_type": "code",
      "source": [
        "#Получение числа сочетаний\n",
        "#Входные данные: 123, 4; 124, 4\n",
        "#Выходные данные: 124;   134\n",
        "def next_znach(tmp, mx):\n",
        "    id_i = 0\n",
        "    if len(tmp) == 1 and mx == int(tmp):\n",
        "        return tmp\n",
        "    for i in range(len(tmp)-1, 0, -1):\n",
        "        if int(tmp[i]) < mx:\n",
        "            tmp = tmp[:i] + str(int(tmp[i])+1) + tmp[i+1:]\n",
        "            return tmp\n",
        "        else:\n",
        "            while i >= 0 and int(tmp[i]) == mx:\n",
        "                mx -= 1\n",
        "                i -= 1\n",
        "            if i < 0:\n",
        "                return tmp\n",
        "            else:\n",
        "                id_i = i\n",
        "                break\n",
        "    t = tmp[:id_i] + str(int(tmp[id_i])+1)\n",
        "    for i in range(id_i, len(tmp)-1):\n",
        "        t += str(int(t[i])+1)\n",
        "    return t"
      ],
      "metadata": {
        "id": "DTZgiheDo0MY"
      },
      "execution_count": null,
      "outputs": []
    },
    {
      "cell_type": "markdown",
      "source": [
        "##Iterating_values\n",
        "Преобразование входной строки в массив значений(перебор всех перестановок без повторений)."
      ],
      "metadata": {
        "id": "MzMUdLEuo1IZ"
      }
    },
    {
      "cell_type": "code",
      "source": [
        "#Вид входной строки: '-x1x2x3' и 'x1x2'\n",
        "#Вид выходного массива: ['-x1x2', '-x1x3', 'x2x3', '-x1', 'x2', 'x3'] и ['x1', 'x2']\n",
        "#Использовать до x9\n",
        "def iterating_values(string):\n",
        "    ans = []\n",
        "    tmp = ''\n",
        "    for i in range(len(string)):\n",
        "        tmp += string[i]\n",
        "        if '1' <= string[i] <= '9':\n",
        "            ans.append(tmp)\n",
        "            tmp = ''\n",
        "    len_param = string.count('x')\n",
        "    tmp_ans = []\n",
        "    tmp_ans.append(string)\n",
        "    for q in range(len_param-1):\n",
        "        tmp = ''\n",
        "        for i in range(0, len_param-1-q):\n",
        "            tmp += str(i+1)\n",
        "        i = len(tmp)-1\n",
        "        mx = len_param\n",
        "        tmp_ans.append(tmp)\n",
        "        while next_znach(tmp, mx) != tmp:\n",
        "            tmp = next_znach(tmp, mx)\n",
        "            tmp_ans.append(tmp)\n",
        "    for i in range(1, len(tmp_ans)):\n",
        "        t = ''\n",
        "        for j in range(len(tmp_ans[i])):\n",
        "            t += ans[int(tmp_ans[i][j])-1]\n",
        "        tmp_ans[i] = t\n",
        "    return tmp_ans"
      ],
      "metadata": {
        "id": "ZhOYeaMuo1jl"
      },
      "execution_count": null,
      "outputs": []
    },
    {
      "cell_type": "markdown",
      "source": [
        "##Pask_tr\n",
        "Выдает строку стоящую на n-ой позиции. Пример: ```n = 5 ans = [1, 5, 10, 10, 5, 1]```"
      ],
      "metadata": {
        "id": "P7nSN907o6fO"
      }
    },
    {
      "cell_type": "code",
      "source": [
        "#Треугольник паскаля по номеру начиная с 0 [1]\n",
        "def pask_tr(number):\n",
        "    ans = [1]\n",
        "    for i in range(number):\n",
        "        tmp = [1]\n",
        "        for j in range(len(ans)-1):\n",
        "            tmp.append(ans[j]+ans[j+1])\n",
        "        tmp.append(1)\n",
        "        ans = tmp\n",
        "    return ans"
      ],
      "metadata": {
        "id": "1v1XiMEoo65G"
      },
      "execution_count": null,
      "outputs": []
    },
    {
      "cell_type": "markdown",
      "source": [
        "##Print_table\n",
        "Печатает в консоль таблицу."
      ],
      "metadata": {
        "id": "oB9s5amVo_O1"
      }
    },
    {
      "cell_type": "code",
      "source": [
        "#Красивый вывод в таблицу\n",
        "def print_table(table):\n",
        "    count_param = what_degree_two(len(table[0]) + 1)\n",
        "    sp = pask_tr(count_param)\n",
        "    mx = 1\n",
        "    for i in range(0 , len(sp)-1):\n",
        "        mx += (3 * (count_param-i) + 3)*sp[i]\n",
        "    div = '='*mx\n",
        "    mini_div = '-'*mx\n",
        "    print(div)\n",
        "    for i in range(len(table)):\n",
        "        s = '|'\n",
        "        id_sp = 0\n",
        "        tmp_sp = sp.copy()\n",
        "        for j in range(len(table[i])):\n",
        "            space = int(((3 * (count_param-id_sp) + 2) - len(table[i][j]))/2)\n",
        "            s += ' '*space + table[i][j]\n",
        "            space = (3 * (count_param-id_sp) + 2) - (space + len(table[i][j]))\n",
        "            s += ' '*space + '|'\n",
        "            tmp_sp[id_sp] -= 1\n",
        "            if tmp_sp[id_sp] == 0:\n",
        "                id_sp += 1\n",
        "        print(s)\n",
        "        if i + 1 != len(table):\n",
        "            print(mini_div)\n",
        "    print(div)"
      ],
      "metadata": {
        "id": "XzrW9grto_kc"
      },
      "execution_count": null,
      "outputs": []
    },
    {
      "cell_type": "markdown",
      "source": [
        "##Creating_table\n",
        "Создает таблицу всех значений."
      ],
      "metadata": {
        "id": "zb_cLvFHpDTG"
      }
    },
    {
      "cell_type": "code",
      "source": [
        "# Создание таблицы для дальнейшей работы с ней\n",
        "def creating_table(vec_player):\n",
        "    len_vec_player = len(vec_player)\n",
        "    ans_table = []\n",
        "    for i in range(len_vec_player):\n",
        "        vec = str(bin(i)[2:])\n",
        "        vec = \"0\" * (what_degree_two(len_vec_player) - len(vec)) + vec\n",
        "        \n",
        "        #Проходим по таблице истинности\n",
        "        tmp = ''\n",
        "        for j in range(1, len(vec)+1):\n",
        "            if vec[j-1] == '0':\n",
        "                tmp += f'-x{j}'\n",
        "            else:\n",
        "                tmp += f'x{j}'\n",
        "        ans_table.append(iterating_values(tmp))\n",
        "    return ans_table"
      ],
      "metadata": {
        "id": "aJBIfUQqpD2J"
      },
      "execution_count": null,
      "outputs": []
    },
    {
      "cell_type": "markdown",
      "source": [
        "##Reduction_table\n",
        "Сокращение таблицы. Убирает те значения, где вектор принимает значение 0."
      ],
      "metadata": {
        "id": "s9JqTpjDpGLL"
      }
    },
    {
      "cell_type": "code",
      "source": [
        "# Сокращение в таблице\n",
        "def reduction_table(table, vec):\n",
        "    for q in range(len(vec)):\n",
        "        if vec[q] == '0':\n",
        "            for i in range(len(table[q])):\n",
        "                for j in range(len(table)):\n",
        "                    if q != j and table[q][i] == table[j][i]:\n",
        "                        table[j][i] = '-1'\n",
        "                table[q][i] = '-1'\n",
        "    return table"
      ],
      "metadata": {
        "id": "VSVxB9kqpGsO"
      },
      "execution_count": null,
      "outputs": []
    },
    {
      "cell_type": "markdown",
      "source": [
        "##Copy_table\n",
        "Возвращает копию переданной таблицы."
      ],
      "metadata": {
        "id": "FbkmrXfx599S"
      }
    },
    {
      "cell_type": "code",
      "source": [
        "#Создание копии талицы\n",
        "def copy_table(table):\n",
        "    table2 = []\n",
        "    for i in range(len(table)):\n",
        "        ans = []\n",
        "        for j in range(len(table[i])):\n",
        "            ans.append(table[i][j])\n",
        "        table2.append(ans)\n",
        "    return table2"
      ],
      "metadata": {
        "id": "U5vlnVaR5-UO"
      },
      "execution_count": null,
      "outputs": []
    },
    {
      "cell_type": "markdown",
      "source": [
        "##Min_DNF2\n",
        "Находит минимальную ДНФ перебором всех значений."
      ],
      "metadata": {
        "id": "IEUnOCxz56Q_"
      }
    },
    {
      "cell_type": "code",
      "source": [
        "#Перебор всех значений в таблице и выбор минимальной ДНФ\n",
        "min_ans = ['0']*10000\n",
        "def min_DNF2(table2, ans2):\n",
        "    global min_ans\n",
        "    if len(min_ans) > len(ans2):    \n",
        "        for i in range(len(table2)):\n",
        "            for j in range(len(table2[i])-1, -1, -1):\n",
        "                if table2[i][j] != '-1':\n",
        "                    ans = []\n",
        "                    for q in range(len(ans2)):\n",
        "                        ans.append(ans2[q])\n",
        "                    table = copy_table(table2)\n",
        "                    for qi in range(len(table)):\n",
        "                        if i != qi and table[i][j] == table[qi][j]:\n",
        "                            for qj in range(len(table[qi])):\n",
        "                                table[qi][qj] = '-1'\n",
        "                    ans.append(table[i][j])\n",
        "                    for qj in range(len(table[i])):\n",
        "                        table[i][qj] = '-1'\n",
        "                    if check_table(table):\n",
        "                        min_DNF2(copy_table(table), ans.copy())\n",
        "                    else:\n",
        "                        if len(min_ans) > len(ans):\n",
        "                            min_ans = ans"
      ],
      "metadata": {
        "id": "Y5DIQR0E56pI"
      },
      "execution_count": null,
      "outputs": []
    },
    {
      "cell_type": "markdown",
      "source": [
        "##Printf_DNF\n",
        "Превращает массив с ответом в строку, которую выводим пользователю."
      ],
      "metadata": {
        "id": "RV6fvg-75W-N"
      }
    },
    {
      "cell_type": "code",
      "source": [
        "#Перевод из массива в строку для пользователя                        \n",
        "def printf_DNF(ans):\n",
        "    ret_ans = ''\n",
        "    for string in ans:\n",
        "        ret_ans += f'({string})v'\n",
        "    ret_ans = ret_ans[:len(ret_ans)-1]\n",
        "    return ret_ans"
      ],
      "metadata": {
        "id": "vlMBq-Le5XYW"
      },
      "execution_count": null,
      "outputs": []
    },
    {
      "cell_type": "markdown",
      "source": [
        "##Check_table\n",
        "Проверяет таблицу на наличие еще не использованных функций."
      ],
      "metadata": {
        "id": "CVL5mhw03Xyu"
      }
    },
    {
      "cell_type": "code",
      "source": [
        "# Есть ли в таблице еще значения?\n",
        "def check_table(table):\n",
        "    for i in range(len(table)):\n",
        "        for j in range(len(table[i])):\n",
        "            if table[i][j] != '-1':\n",
        "                return True\n",
        "    return False"
      ],
      "metadata": {
        "id": "-tIggOeV3YM_"
      },
      "execution_count": null,
      "outputs": []
    },
    {
      "cell_type": "markdown",
      "source": [
        "##Min_DNF\n",
        "Вспомогающая функции для нахождения минимальной ДНФ."
      ],
      "metadata": {
        "id": "G7Mr_qe4pJZJ"
      }
    },
    {
      "cell_type": "code",
      "source": [
        "#Упаковывающая функции для вызова минимальной ДНФ\n",
        "def min_DNF(table):\n",
        "    global min_ans\n",
        "    min_ans = ['0']*10000\n",
        "    min_DNF2(table, [])\n",
        "    return printf_DNF(min_ans)"
      ],
      "metadata": {
        "id": "yxgKIjpNpJ3y"
      },
      "execution_count": null,
      "outputs": []
    },
    {
      "cell_type": "markdown",
      "source": [
        "##Main\n",
        "Основная программа. Создаем таблицу от вектора, сокращаем ее по значению вектора, выбираем из таблицы минимальную ДНФ."
      ],
      "metadata": {
        "id": "DBxqYxFdpKqB"
      }
    },
    {
      "cell_type": "code",
      "source": [
        "player_string = input(\"Введите вектор: \")\n",
        "player_string = player_string.replace(' ', '')\n",
        "        \n",
        "if check_vector(player_string):\n",
        "    table = creating_table(player_string)\n",
        "    table = reduction_table(table, player_string)\n",
        "    print_table(table)\n",
        "    print(min_DNF(table))\n",
        "else:\n",
        "    print(\"Ошибка при вводе вектора!\")"
      ],
      "metadata": {
        "id": "Hn3c4Su4pLWs"
      },
      "execution_count": null,
      "outputs": []
    },
    {
      "cell_type": "markdown",
      "source": [
        "#Menu\n",
        "Помогает в навигации между заданиями."
      ],
      "metadata": {
        "id": "QFDVbZK3zVV0"
      }
    },
    {
      "cell_type": "markdown",
      "source": [
        "##Read_file\n",
        "Считывание информации с ```save.txt```.\n",
        "- ```save.txt``` - хранит информацию, что приложение запущено(1) в данный момент или нет(0)"
      ],
      "metadata": {
        "id": "-7GWUEVFzmL9"
      }
    },
    {
      "cell_type": "code",
      "source": [
        "def read_file():\n",
        "    s = ''\n",
        "    file = os.path.abspath(os.path.join('seve.txt',\"../..\")) + '\\seve.txt'\n",
        "    with open(file, 'r') as f:\n",
        "        s = f.readline()\n",
        "        s = s.replace(' ', '').split(',')\n",
        "    return s"
      ],
      "metadata": {
        "id": "K66z_QdwzmoP"
      },
      "execution_count": null,
      "outputs": []
    },
    {
      "cell_type": "markdown",
      "source": [
        "##Write_file\n",
        "Записывает информацию в ```save.txt```.\n",
        "- ```save.txt``` - хранит информацию, что приложение запущено(1) в данный момент или нет(0)"
      ],
      "metadata": {
        "id": "WZSsn45SFUQR"
      }
    },
    {
      "cell_type": "code",
      "source": [
        "def write_file(s):\n",
        "    file = os.path.abspath(os.path.join('seve.txt',\"../..\")) + '\\seve.txt'\n",
        "    with open(file, 'w') as f:\n",
        "        ans = ''\n",
        "        for i in s:\n",
        "            ans += i + ', '\n",
        "        ans = ans[:len(ans)-2]\n",
        "        f.write(ans)"
      ],
      "metadata": {
        "id": "KdgSIghaFUr0"
      },
      "execution_count": null,
      "outputs": []
    },
    {
      "cell_type": "markdown",
      "source": [
        "##Task4_desktop\n",
        "Запускает приложение BoolGame4."
      ],
      "metadata": {
        "id": "1j7u6w24FXCE"
      }
    },
    {
      "cell_type": "code",
      "source": [
        "def task4_desktop():\n",
        "    s = read_file()\n",
        "    if s[0] != '1':\n",
        "        s[0] = '1'\n",
        "        write_file(s)\n",
        "        file = os.path.abspath(os.path.join('BoolGame4.exe',\"../../..\")) + '\\\\task4\\dist\\BoolGame4.exe'\n",
        "        os.startfile(file)"
      ],
      "metadata": {
        "id": "AmimC4h-FXUy"
      },
      "execution_count": null,
      "outputs": []
    },
    {
      "cell_type": "markdown",
      "source": [
        "##Task5_desktop\n",
        "Запускает приложение BoolGame5."
      ],
      "metadata": {
        "id": "1il8TFl7FZgq"
      }
    },
    {
      "cell_type": "code",
      "source": [
        "def task5_desktop():\n",
        "    s = read_file()\n",
        "    if s[1] != '1':\n",
        "        s[1] = '1'\n",
        "        write_file(s)\n",
        "        file = os.path.abspath(os.path.join('BoolGame5.exe',\"../../..\")) + '\\\\task5\\dist\\BoolGame5.exe'\n",
        "        os.startfile(file)"
      ],
      "metadata": {
        "id": "Uf7QQKS9FZyB"
      },
      "execution_count": null,
      "outputs": []
    },
    {
      "cell_type": "markdown",
      "source": [
        "##Task6_desktop\n",
        "Запускает приложение BoolGame6."
      ],
      "metadata": {
        "id": "Ir8Oc7SoFaMY"
      }
    },
    {
      "cell_type": "code",
      "source": [
        "def task6_desktop():\n",
        "    s = read_file()\n",
        "    if s[2] != '1':\n",
        "        s[2] = '1'\n",
        "        write_file(s)\n",
        "        file = os.path.abspath(os.path.join('BoolGame6.exe',\"../../..\")) + '\\\\task6\\dist\\BoolGame6.exe'\n",
        "        os.startfile(file)"
      ],
      "metadata": {
        "id": "-rsv2CM0Faei"
      },
      "execution_count": null,
      "outputs": []
    },
    {
      "cell_type": "markdown",
      "source": [
        "##Task7_desktop\n",
        "Запускает приложение BoolGame7."
      ],
      "metadata": {
        "id": "GCJwGJDUFbBp"
      }
    },
    {
      "cell_type": "code",
      "source": [
        "def task7_desktop():\n",
        "    s = read_file()\n",
        "    if s[3] != '1':\n",
        "        s[3] = '1'\n",
        "        write_file(s)\n",
        "        file = os.path.abspath(os.path.join('BoolGame7.exe',\"../../..\")) + '\\\\task7\\dist\\BoolGame7.exe'\n",
        "        os.startfile(file)"
      ],
      "metadata": {
        "id": "ruQ-Qn6fFbVX"
      },
      "execution_count": null,
      "outputs": []
    },
    {
      "cell_type": "markdown",
      "source": [
        "##Task10_desktop\n",
        "Запускает приложение BoolGame10."
      ],
      "metadata": {
        "id": "q03RQimrFcXY"
      }
    },
    {
      "cell_type": "code",
      "source": [
        "def task10_desktop():\n",
        "    s = read_file()\n",
        "    if s[4] != '1':\n",
        "        s[4] = '1'\n",
        "        write_file(s)\n",
        "        file = os.path.abspath(os.path.join('BoolGame10.exe',\"../../..\")) + '\\\\task10\\dist\\BoolGame10.exe'\n",
        "        os.startfile(file)"
      ],
      "metadata": {
        "id": "xnl0avMFFcur"
      },
      "execution_count": null,
      "outputs": []
    },
    {
      "cell_type": "markdown",
      "source": [
        "##Task11_desktop\n",
        "Запускает приложение BoolGame11."
      ],
      "metadata": {
        "id": "mdNgXQ8PFdPx"
      }
    },
    {
      "cell_type": "code",
      "source": [
        "def task11_desktop():\n",
        "    s = read_file()\n",
        "    if s[5] != '1':\n",
        "        s[5] = '1'\n",
        "        write_file(s)\n",
        "        file = os.path.abspath(os.path.join('BoolGame11.exe',\"../../..\")) + '\\\\task11\\dist\\BoolGame11.exe'\n",
        "        os.startfile(file)"
      ],
      "metadata": {
        "id": "GBSBM2mtFdkG"
      },
      "execution_count": null,
      "outputs": []
    },
    {
      "cell_type": "markdown",
      "source": [
        "##Draw_menu\n",
        "Выпадающее меню с настройкой кол-ва переменных."
      ],
      "metadata": {
        "id": "k3j3JFILFmSZ"
      }
    },
    {
      "cell_type": "code",
      "source": [
        "def draw_menu():\n",
        "    menu_bar = tk.Menu(root)\n",
        "    menu_bar.add_cascade(label='Узнать имя функции  ', command=task4_desktop)\n",
        "    menu_bar.add_cascade(label='Сущ. фик. переменные ', command=task5_desktop)\n",
        "    menu_bar.add_cascade(label='Построение ДНФ ', command=task6_desktop)\n",
        "    menu_bar.add_cascade(label='Построение КНФ ', command=task7_desktop)\n",
        "    menu_bar.add_cascade(label='Замкнутые классы б. ф. ', command=task10_desktop)\n",
        "    menu_bar.add_cascade(label='Полные системы б. ф.', command=task11_desktop)\n",
        "    root.configure(menu=menu_bar)"
      ],
      "metadata": {
        "id": "x9RP7JrJFmn_"
      },
      "execution_count": null,
      "outputs": []
    },
    {
      "cell_type": "markdown",
      "source": [
        "##Next_text\n",
        "Случайный выбор текста для пользователя ЯРДИАР."
      ],
      "metadata": {
        "id": "Su-xenUbFq4H"
      }
    },
    {
      "cell_type": "code",
      "source": [
        "def next_text():\n",
        "    global const_ardiaro\n",
        "    global const_ardiar1\n",
        "    global const_ardiar2\n",
        "    global const_ardiar3\n",
        "    r = int(random.random()*100) % 7\n",
        "    s = const_ardiaro\n",
        "    if r == 0:\n",
        "        r = int(random.random()*100)%3\n",
        "        if r == 0:\n",
        "            s = const_ardiar1\n",
        "        elif r == 1:\n",
        "            s = const_ardiar2\n",
        "        else:\n",
        "            s = const_ardiar3\n",
        "    root.after(150, lambda:ardiar())\n",
        "    return s"
      ],
      "metadata": {
        "id": "fYzqyyJpFrgU"
      },
      "execution_count": null,
      "outputs": []
    },
    {
      "cell_type": "markdown",
      "source": [
        "##Ardiar\n",
        "Вывод пользователю на экран текста."
      ],
      "metadata": {
        "id": "jp0zTixUFtts"
      }
    },
    {
      "cell_type": "code",
      "source": [
        "def ardiar():\n",
        "    greet_label.configure(text=next_text())"
      ],
      "metadata": {
        "id": "Zip9_m4bFuRX"
      },
      "execution_count": null,
      "outputs": []
    },
    {
      "cell_type": "markdown",
      "source": [
        "##Next_collor\n",
        "Переключение между цветами, для текста."
      ],
      "metadata": {
        "id": "FcI3XmnQFwX9"
      }
    },
    {
      "cell_type": "code",
      "source": [
        "def next_collor():\n",
        "    global lst\n",
        "    global lst_put\n",
        "    shag = 17\n",
        "    if lst_put == 2:\n",
        "        lst[1] += shag\n",
        "        if lst[1] >= lst[0]:\n",
        "            lst_put = -1\n",
        "    elif lst_put == -1:\n",
        "        lst[0] -= shag\n",
        "        if lst[0] <= 11:\n",
        "            lst_put = 3\n",
        "    elif lst_put == 3:\n",
        "        lst[2] += shag\n",
        "        if lst[2] >= lst[1]:\n",
        "            lst_put = -2\n",
        "    elif lst_put == -2:\n",
        "        lst[1] -= shag\n",
        "        if lst[1] <= 11:\n",
        "            lst_put = 1\n",
        "    elif lst_put == 1:\n",
        "        lst[0] += shag\n",
        "        if lst[0] >= lst[2]:\n",
        "            lst_put = -3\n",
        "    elif lst_put == -3:\n",
        "        lst[2] -= 1\n",
        "        if lst[2] <= 11:\n",
        "            lst_put = 2\n",
        "    ch1 = '0'*(2 - len(str(hex(lst[0]%256)[2:]))) + str(hex(lst[0]%256)[2:])\n",
        "    ch2 = '0'*(2 - len(str(hex(lst[1]%256)[2:]))) + str(hex(lst[1]%256)[2:])\n",
        "    ch3 = '0'*(2 - len(str(hex(lst[2]%256)[2:]))) + str(hex(lst[2]%256)[2:])\n",
        "    root.after(10, lambda:my_mainloop())\n",
        "    return f'#{ch1}{ch2}{ch3}'"
      ],
      "metadata": {
        "id": "rPMGWeyXFwsY"
      },
      "execution_count": null,
      "outputs": []
    },
    {
      "cell_type": "markdown",
      "source": [
        "##My_mainloop\n",
        "Вывод цвета текста пользователю на экран."
      ],
      "metadata": {
        "id": "qhJnh6udGvxb"
      }
    },
    {
      "cell_type": "code",
      "source": [
        "def my_mainloop():\n",
        "    greet_label.configure(fg=next_collor())"
      ],
      "metadata": {
        "id": "_8CKaxhkGwFq"
      },
      "execution_count": null,
      "outputs": []
    },
    {
      "cell_type": "markdown",
      "source": [
        "#Read_Me\n",
        "Если возникли вопросы, то их можно задать им: \\\n",
        "- https://vk.com/deltams4\n",
        "- https://vk.com/otza_to4ka_net\n",
        "- https://vk.com/id212348723\n",
        "\n",
        "Приятной игры ; )"
      ],
      "metadata": {
        "id": "Y42dfzT8NRAe"
      }
    }
  ]
}