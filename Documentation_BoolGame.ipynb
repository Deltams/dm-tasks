{
  "nbformat": 4,
  "nbformat_minor": 0,
  "metadata": {
    "colab": {
      "name": "Documentation_BoolGame.ipynb",
      "provenance": [],
      "collapsed_sections": [],
      "toc_visible": true
    },
    "kernelspec": {
      "name": "python3",
      "display_name": "Python 3"
    },
    "language_info": {
      "name": "python"
    }
  },
  "cells": [
    {
      "cell_type": "markdown",
      "source": [
        "#Task1\n",
        "На вход число n, на выход функция от n аргументов."
      ],
      "metadata": {
        "id": "H8RTvrJliEq-"
      }
    },
    {
      "cell_type": "code",
      "source": [
        "var_ch = 2**n #Длина вектора\n",
        "for i in range(0, 2**2**n): #Перебираем все варианты векторов\n",
        "    t = str(bin(i)[2:])\n",
        "    print((var_ch-len(t))*'0' + t)"
      ],
      "metadata": {
        "id": "0h8CZmdsiZvj"
      },
      "execution_count": null,
      "outputs": []
    },
    {
      "cell_type": "markdown",
      "source": [
        "##Algorithm\n",
        "Вычисляем кол-во всех вариантов векторов. Проходим диапазон чисел [0; 2^2^n), переводим число в двоичную систему счисления, добавляем незначащие нули."
      ],
      "metadata": {
        "id": "XdrY-yG0Mb_O"
      }
    },
    {
      "cell_type": "markdown",
      "source": [
        "##Terms of Use\n",
        "- n >= 0 и n - целое число"
      ],
      "metadata": {
        "id": "sEaxXzzui37p"
      }
    },
    {
      "cell_type": "markdown",
      "source": [
        "##Input data and output data\n",
        "Inp: 2 \\\n",
        "Out: \\\n",
        "0000 \\\n",
        "0001\\\n",
        "0010\\\n",
        "0011\\\n",
        "0100\\\n",
        "0101\\\n",
        "0110\\\n",
        "0111\\\n",
        "1000\\\n",
        "1001\\\n",
        "1010\\\n",
        "1011\\\n",
        "1100\\\n",
        "1101\\\n",
        "1110\\\n",
        "1111"
      ],
      "metadata": {
        "id": "YNJwhwZ6lJUc"
      }
    },
    {
      "cell_type": "markdown",
      "source": [
        "#Task2\n",
        "На вход вектор функции, 0 или 1, номер аргумента, на выход соответствующая остаточная."
      ],
      "metadata": {
        "id": "5uE3S1Psj6C4"
      }
    },
    {
      "cell_type": "markdown",
      "source": [
        "##Check_vector\n",
        "Проверяется, что вектор введен верно. \\\n",
        "Проверки:\n",
        "- Длина вектора (вектор не может быть < 2)\n",
        "- Является ли длина вектора степенью двойки\n",
        "- Состоит ли вектор только из \"0\" и \"1\""
      ],
      "metadata": {
        "id": "I5_RwIJvkToc"
      }
    },
    {
      "cell_type": "code",
      "source": [
        "def check_vector(vec): # Проверка введенных данных пользователя\n",
        "    if len(vec) < 2:\n",
        "        return False\n",
        "    if what_degree_two(len(vec)) == -1:\n",
        "        return False\n",
        "    for char in vec:\n",
        "        if \"0\"<= char <= \"1\":\n",
        "            continue\n",
        "        return False\n",
        "    return True"
      ],
      "metadata": {
        "id": "_mePILhMkEG3"
      },
      "execution_count": null,
      "outputs": []
    },
    {
      "cell_type": "markdown",
      "source": [
        "##What_degree_two\n",
        "Функция принимает число и возвращает в какой оно степени двойки находится. Если число не является степенью двойки, то возвращает значение -1."
      ],
      "metadata": {
        "id": "SN3eezO2kc5Q"
      }
    },
    {
      "cell_type": "code",
      "source": [
        "def what_degree_two(number): # В какую степень двойки возведено число; -1: не является степенью двойки\n",
        "    tmp = 1\n",
        "    ans = 0\n",
        "    while tmp < number:\n",
        "        tmp *= 2\n",
        "        ans += 1\n",
        "    if number == tmp:\n",
        "        return ans\n",
        "    else:\n",
        "        return -1"
      ],
      "metadata": {
        "id": "uZfx3YDqkbz9"
      },
      "execution_count": null,
      "outputs": []
    },
    {
      "cell_type": "markdown",
      "source": [
        "##Residual\n",
        "В данную функцию подаются следующие данные: \\\n",
        "- Вектор пользователя (vec)\n",
        "- Единичная или нулевая остаточная (k)\n",
        "- По какой переменной интересует остаточная (n)\n"
      ],
      "metadata": {
        "id": "WZXubnTkkbRZ"
      }
    },
    {
      "cell_type": "code",
      "source": [
        "def residual(vec, k, n): #Остаточная по вектору; vec - vector; k - какая остаточная; n - переменная\n",
        "    ans = \"\"\n",
        "    tmp = len(vec) / 2**n\n",
        "    i = k * tmp\n",
        "    while i < len(vec):\n",
        "        ans = ans + vec[int(i):int(i)+int(tmp)]\n",
        "        i = i + tmp*2\n",
        "    return ans"
      ],
      "metadata": {
        "id": "a9G5yy3KkT9E"
      },
      "execution_count": null,
      "outputs": []
    },
    {
      "cell_type": "markdown",
      "source": [
        "##Algorithm\n",
        "Вычисляем размер коробочки для передвижения по вектору. Проходим по вектору с шагом равным размеру коробочки умноженой на два. Записываем все значения, которые находились в диапазоне коробочки. \\\n",
        "Пример с вычислением размера коробочки: \\\n",
        "![Task2_p.png](data:image/png;base64,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)"
      ],
      "metadata": {
        "id": "_ghP7ed1orFt"
      }
    },
    {
      "cell_type": "markdown",
      "source": [
        "##Terms of Use\n",
        "- Вектор, состоит только из нулей и едениц\n",
        "- k - принимает значения от 0 до 1\n",
        "- n - принимает значения от 1 до количества переменных используемых для построения вектора\n"
      ],
      "metadata": {
        "id": "q9TqhL6T2iQX"
      }
    },
    {
      "cell_type": "markdown",
      "source": [
        "##Input data and output data\n",
        "Inp: 00111010 1 1 \\\n",
        "Out: 1010 \\"
      ],
      "metadata": {
        "id": "HQPJJK0a1ujI"
      }
    },
    {
      "cell_type": "markdown",
      "source": [
        "#Task3\n",
        "На вход два вектора функции (это нулевая и единичная остаточные), номер аргумента,\n",
        "на выход соответствующая функция.\n"
      ],
      "metadata": {
        "id": "qMRbE7yZ2aV4"
      }
    },
    {
      "cell_type": "markdown",
      "source": [
        "##What_degree_two\n",
        "Функция принимает число и возвращает в какой оно степени двойки находится. Если число не является степенью двойки, то возвращает значение -1."
      ],
      "metadata": {
        "id": "L9kCV3ONB94Z"
      }
    },
    {
      "cell_type": "code",
      "source": [
        "def what_degree_two(number): # В какую степень двойки возведено число; -1: не является степенью двойки\n",
        "    tmp = 1\n",
        "    ans = 0\n",
        "    while tmp < number:\n",
        "        tmp *= 2\n",
        "        ans += 1\n",
        "    if number == tmp:\n",
        "        return ans\n",
        "    else:\n",
        "        return -1"
      ],
      "metadata": {
        "id": "XfgmRlJMB8rZ"
      },
      "execution_count": null,
      "outputs": []
    },
    {
      "cell_type": "markdown",
      "source": [
        "##My_pow\n",
        "Функция возведения в степень. \\\n",
        "- a - число возводимое в степень\n",
        "- p - степень, в кторую нужно возвести"
      ],
      "metadata": {
        "id": "UgkNORnUCCc-"
      }
    },
    {
      "cell_type": "code",
      "source": [
        "def my_pow(a, p):\n",
        "    if p == 0:\n",
        "        return 1\n",
        "    if p % 2 == 0:\n",
        "        return my_pow(a*a, p / 2)\n",
        "    return a * my_pow(a, p-1)"
      ],
      "metadata": {
        "id": "DG6twRJ9B-cv"
      },
      "execution_count": null,
      "outputs": []
    },
    {
      "cell_type": "markdown",
      "source": [
        "##Check_vector\n",
        "Проверяется, что вектор введен верно. \\\n",
        "Проверки:\n",
        "- Длина вектора (вектор не может быть < 1)\n",
        "- Является ли длина вектора степенью двойки\n",
        "- Состоит ли вектор только из \"0\" и \"1\""
      ],
      "metadata": {
        "id": "wAV_nvxRCC2t"
      }
    },
    {
      "cell_type": "code",
      "source": [
        "def check_vector(vec):\n",
        "    if len(vec) < 1:\n",
        "        return False\n",
        "    if what_degree_two(len(vec)) == -1:\n",
        "        return False\n",
        "    for char in vec:\n",
        "        if \"0\"<= char <= \"1\":\n",
        "            continue\n",
        "        return False\n",
        "    return True"
      ],
      "metadata": {
        "id": "yDh1e0xzCB0G"
      },
      "execution_count": null,
      "outputs": []
    },
    {
      "cell_type": "markdown",
      "source": [
        "##Restoration_of_residual\n",
        "Выдает собранный вектор из нулевой и единичной остаточной по заданной переменной.\n",
        "- v1 - вектор нулевой остаточной \n",
        "- v2 - вектор единичной остаточной\n",
        "- n - переменная, по которой восстанавливается вектор"
      ],
      "metadata": {
        "id": "cC4NzYaVCR6v"
      }
    },
    {
      "cell_type": "code",
      "source": [
        "def restoration_of_residual(v1, v2, n):\n",
        "    ans = ''\n",
        "    tmp = int(len(v1)*2 / my_pow(2, n))\n",
        "    for i in range(0,len(v1), tmp):\n",
        "        for j in range(i, i + tmp):\n",
        "            ans += v1[j]\n",
        "        for j in range(i, i + tmp):\n",
        "            ans += v2[j]\n",
        "    return ans"
      ],
      "metadata": {
        "id": "yT46l4iyCRsg"
      },
      "execution_count": null,
      "outputs": []
    },
    {
      "cell_type": "markdown",
      "source": [
        "##Algorithm\n",
        "Вычисляем размер коробочки, проходим по длине одной из остаточных(можнов взять любую т. к. длина у них одинаковая) с шагом равным коробочке. Записываем значения, которые входят в коробочку нулевой остаточной, затем значения, которые входят в коробочку единичной остаточной. \\\n",
        "Пример с вычислением размера коробочки: \\\n",
        "![Task3_p.png](data:image/png;base64,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)"
      ],
      "metadata": {
        "id": "ErKIST8MH1lG"
      }
    },
    {
      "cell_type": "markdown",
      "source": [
        "##Terms of Use\n",
        "- Вектор, состоит только из нулей и едениц\n",
        "- v1 и v2 - строки, имеют одинаковую длину\n",
        "- n - целое число, не должна превышать кол-во переменных, используемых для построения вектора и n >= 1\n"
      ],
      "metadata": {
        "id": "_YaEixRZK5cC"
      }
    },
    {
      "cell_type": "markdown",
      "source": [
        "##Input data and output data\n",
        "Inp: 0011 1010 1 \\\n",
        "Out: 00111010 \\"
      ],
      "metadata": {
        "id": "1TqdMxQjMDRX"
      }
    },
    {
      "cell_type": "markdown",
      "source": [
        "#Task4\n",
        "Игра. Узнать имя функции от 2-х аргументов. Система предлагает вектор функции, пользователь выбирает «имя» (одно из 16)."
      ],
      "metadata": {
        "id": "COn6X6OPNiAB"
      }
    },
    {
      "cell_type": "markdown",
      "source": [
        "Таблица со значениями векторов\n",
        "```\n",
        "map_vector = {}     Правильные ответы\n",
        "player_vector = []  Для перемешивания вектора и выдачи пользователю\n",
        "vec = 0             Вектор, который выдается пользователю\n",
        "table_p = [\n",
        "    \"Константа нуля\",                  0000\n",
        "    \"Конъюкция\",                       0001\n",
        "    \"Отрицание импликации от х1 к х2\", 0010\n",
        "    \"Переменная x1\",                   0011\n",
        "    \"Отрицание импликации от х2 к х1\", 0100\n",
        "    \"Переменная x2\",                   0101\n",
        "    \"Сложение по модулю 2(xor)\",       0110\n",
        "    \"Дизъюнкция\",                      0111\n",
        "    \"Стрелка Пирса\",                   1000\n",
        "    \"Эквивалентность\",                 1001\n",
        "    \"Отрицание x2\",                    1010\n",
        "    \"Импликация от x2 к x1\",           1011\n",
        "    \"Отрицание x1\",                    1100\n",
        "    \"Импликация от x1 к x2\",           1101\n",
        "    \"Штрих Шеффера\",                   1110\n",
        "    \"Константа единицы\"                1111\n",
        "]\n",
        "```"
      ],
      "metadata": {
        "id": "RizP4mWGN2Pf"
      }
    },
    {
      "cell_type": "markdown",
      "source": [
        "Заполняем свою базу данных. \\\n",
        "- map_vector - ключ равен номеру в диапазоне ```[1; 16]``` \\\n",
        "- map_vector - значение равно вектору от двух переменных \\\n",
        "- player_vector - массив пар, которых сохраняет информацию о \\\n",
        "  ключе для map_vector и значение из таблицы table_p\n"
      ],
      "metadata": {
        "id": "-j5Jwqj3Pxqn"
      }
    },
    {
      "cell_type": "code",
      "source": [
        "for i in range(16):\n",
        "    tmp = bin(i)[2:]\n",
        "    map_vector[i + 1] = \"0\" * (4 - len(tmp)) + str(tmp)\n",
        "    player_vector.append([i + 1, table_p[i]])"
      ],
      "metadata": {
        "id": "7Eq6TDqmQNB4"
      },
      "execution_count": null,
      "outputs": []
    },
    {
      "cell_type": "markdown",
      "source": [
        "##Shuffle\n",
        "Рандомно перемешивает player_vector"
      ],
      "metadata": {
        "id": "7NvFdWUmS23d"
      }
    },
    {
      "cell_type": "code",
      "source": [
        "def shuffle(player_vector):  # Перемешивает вектор с данными\n",
        "    tmp = len(player_vector)\n",
        "    for i in range(tmp):\n",
        "        a = player_vector[i].copy()\n",
        "        rand = int(random.random() * 100) % tmp\n",
        "        player_vector[i] = player_vector[rand]\n",
        "        player_vector[rand] = a"
      ],
      "metadata": {
        "id": "uYeHKugVVIX3"
      },
      "execution_count": null,
      "outputs": []
    },
    {
      "cell_type": "markdown",
      "source": [
        "##Help\n",
        "Выводит пользователю на экран таблицу с данными"
      ],
      "metadata": {
        "id": "UbU3Lf61WG-B"
      }
    },
    {
      "cell_type": "code",
      "source": [
        "def help():  # Для вывода пользователю на экран таблицу с данными\n",
        "    global player_vector\n",
        "    global vec\n",
        "    vec = int(random.random() * 100) % len(player_vector)\n",
        "    shuffle(player_vector)\n",
        "    ans = \"Выберите имя для функции: \" + map_vector[player_vector[vec][0]] + \"\\n\"\n",
        "    for i in range(1, 17):\n",
        "        ans += str(i) + \") \" + player_vector[i - 1][1] + \"\\n\"\n",
        "    return ans"
      ],
      "metadata": {
        "id": "CBadc8A7WHSO"
      },
      "execution_count": null,
      "outputs": []
    },
    {
      "cell_type": "markdown",
      "source": [
        "##Btn_func\n",
        "Функция отвечает за проверку ответа пользователя и кнопки ответить, перепройти, новое задание и показать ответ."
      ],
      "metadata": {
        "id": "BRSV79WfWYGi"
      }
    },
    {
      "cell_type": "code",
      "source": [
        "def btn_func():\n",
        "    user_entry = entry.get()\n",
        "    if user_entry:\n",
        "        try:\n",
        "            if map_vector[player_vector[vec][0]] == map_vector[player_vector[int(user_entry) - 1][0]]:\n",
        "                ans_label.configure(text=\"Ваш ответ верный\", fg='green')\n",
        "\n",
        "                go_next_button.pack(side='left', padx=5)\n",
        "            else:\n",
        "                ans_label.configure(text=\"Ваш ответ неверный\", fg='red')\n",
        "\n",
        "                go_next_button.pack(side='left', padx=5)\n",
        "                remake_button.pack(side='left', padx=5)\n",
        "                ans_button.pack(side='left', padx=5)\n",
        "\n",
        "        except IndexError:\n",
        "            ans_label.configure(text=\"Вводите числа от 1 до 16!\", fg='red')\n",
        "\n",
        "            go_next_button.pack(side='left', padx=5)\n",
        "            remake_button.pack(side='left', padx=5)\n",
        "            ans_button.pack(side='left', padx=5)\n",
        "    else:\n",
        "        ans_label.configure(text=\"Вы ввели некорректные данные!\", fg='red')\n",
        "\n",
        "        go_next_button.pack(side='left', padx=5)\n",
        "        remake_button.pack(side='left', padx=5)\n",
        "        ans_button.pack(side='left', padx=5)\n",
        "    button_submit['state'] = 'disabled'\n",
        "    entry['state'] = 'disabled'"
      ],
      "metadata": {
        "id": "SARZC_0YWiaT"
      },
      "execution_count": null,
      "outputs": []
    },
    {
      "cell_type": "markdown",
      "source": [
        "##Print_ans\n",
        "Функция отвечающая за кнопку показать ответ."
      ],
      "metadata": {
        "id": "vn62mYdlXMx6"
      }
    },
    {
      "cell_type": "code",
      "source": [
        "def print_ans():\n",
        "    global player_vector\n",
        "    global vec\n",
        "    ans = table_p[player_vector[vec][0] - 1]\n",
        "    ans_label.configure(text=f'{ans}', fg='green')\n",
        "    ans_button.pack_forget()"
      ],
      "metadata": {
        "id": "H22Ej2W8XNv3"
      },
      "execution_count": null,
      "outputs": []
    },
    {
      "cell_type": "markdown",
      "source": [
        "##Go_next\n",
        "Функция отвечающая за кнопку новое задание"
      ],
      "metadata": {
        "id": "yMircIk4XQ8v"
      }
    },
    {
      "cell_type": "code",
      "source": [
        "def go_next():\n",
        "    button_submit['state'] = 'normal'\n",
        "    entry['state'] = 'normal'\n",
        "\n",
        "    greet_label.configure(text=help())\n",
        "    ans_label.configure(text='')\n",
        "    entry.delete(0, 'end')\n",
        "\n",
        "    go_next_button.pack_forget()\n",
        "    remake_button.pack_forget()\n",
        "    ans_button.pack_forget()"
      ],
      "metadata": {
        "id": "GuVN_5IMXRXb"
      },
      "execution_count": null,
      "outputs": []
    },
    {
      "cell_type": "markdown",
      "source": [
        "##Remake_button\n",
        "Функция отвечающая за кнопку перепройти"
      ],
      "metadata": {
        "id": "ivhk6Mf7XU3a"
      }
    },
    {
      "cell_type": "code",
      "source": [
        "def remake_button():\n",
        "    button_submit['state'] = 'normal'\n",
        "    entry['state'] = 'normal'\n",
        "    ans_label.configure(text='')\n",
        "    entry.delete(0, 'end')\n",
        "    go_next_button.pack_forget()\n",
        "    remake_button.pack_forget()\n",
        "    ans_button.pack_forget()"
      ],
      "metadata": {
        "id": "oo8QMtfnXVZl"
      },
      "execution_count": null,
      "outputs": []
    },
    {
      "cell_type": "markdown",
      "source": [
        "##Algorithm\n",
        "Заполняем данными массив пар(player_vector) и словарь(map_vector).\n",
        "Перемешиваем рандомно массив и выдаем пользователю. Сравниваем ответ."
      ],
      "metadata": {
        "id": "mZjp1sEcYD24"
      }
    },
    {
      "cell_type": "markdown",
      "source": [
        "#Task5\n",
        "Игра. Существенные и фиктивные переменные. Система предлагает вектор функции. Пользователь выбирает существенные и фиктивные переменные."
      ],
      "metadata": {
        "id": "WDJ6WC0kYrG1"
      }
    },
    {
      "cell_type": "markdown",
      "source": [
        "```\n",
        "dict_vector = {}  # Словарь ответов для пользователя; Автоматически заполняется в all_vector\n",
        "list_vector = [] # Массив с векторами\n",
        "```"
      ],
      "metadata": {
        "id": "z4vh-6OGgOaF"
      }
    },
    {
      "cell_type": "markdown",
      "source": [
        "##Residual\n",
        "В данную функцию подаются следующие данные: \\\n",
        "- Вектор пользователя (vec)\n",
        "- Единичная или нулевая остаточная (k)\n",
        "- По какой переменной интересует остаточная (n)"
      ],
      "metadata": {
        "id": "wRv3PGiTZA0v"
      }
    },
    {
      "cell_type": "code",
      "source": [
        "def residual(vec, k, n):  # остаточная по вектору; vec - vector; k - какая остаточная; n - переменная\n",
        "    ans = \"\"\n",
        "    tmp = len(vec) / 2 ** n  # размер коробки\n",
        "    i = k * tmp\n",
        "    while i < len(vec):\n",
        "        ans = ans + vec[int(i):int(i) + int(tmp)]\n",
        "        i = i + tmp * 2\n",
        "    return ans"
      ],
      "metadata": {
        "id": "4pIGKa4Af1iS"
      },
      "execution_count": null,
      "outputs": []
    },
    {
      "cell_type": "markdown",
      "source": [
        "##All_vector\n",
        "Заполняет базу данных векторами.\n",
        "- dict_vector - ключ: вектор, значение: существенная фиктивная переменная\n",
        "-  list_vector - сохраняем вектора в массив"
      ],
      "metadata": {
        "id": "U-8I-37Df1EK"
      }
    },
    {
      "cell_type": "code",
      "source": [
        "def all_vector(vars_count): \n",
        "    global dict_vector\n",
        "    global list_vector\n",
        "    dict_vector = {}\n",
        "    list_vector= []\n",
        "\n",
        "    len_vector = 2 ** vars_count  # len(vec)\n",
        "    tmp = 0\n",
        "    count_all_vectors = 2 ** len_vector\n",
        "    for i in range(count_all_vectors):\n",
        "        vec = str(bin(tmp)[2:])\n",
        "        vec = \"0\" * (len_vector - len(vec)) + vec  # незначащие нули в начало. vec - временно хранится один из векторов\n",
        "        fict_var = \"\"  # Фиктивная переменная\n",
        "        sysh_var = \"\"  # Существенная переменная\n",
        "        for j in range(1, vars_count + 1):\n",
        "            s1 = residual(vec, 0, j)\n",
        "            s2 = residual(vec, 1, j)\n",
        "            if s1 == s2:\n",
        "                fict_var = fict_var + str(j)\n",
        "            else:\n",
        "                sysh_var = sysh_var + str(j)\n",
        "        if len(fict_var) and len(sysh_var) or n_param.get() == 1:\n",
        "            dict_vector[vec] = [sysh_var, fict_var]\n",
        "            list_vector.append(vec)\n",
        "            if len(list_vector) == 100:\n",
        "                break\n",
        "        tmp += 1"
      ],
      "metadata": {
        "id": "mVTzr9-qgLl8"
      },
      "execution_count": null,
      "outputs": []
    },
    {
      "cell_type": "markdown",
      "source": [
        "##Check_data\n",
        "Проверяем, что вектор состоит только из данных символов: \\\n",
        " ```' ', '0', '1', '2', '3', '4', '5', '6', '7', '8' и '9'```"
      ],
      "metadata": {
        "id": "htMBlEW4iVRU"
      }
    },
    {
      "cell_type": "code",
      "source": [
        "def check_data(s):  # Проверка введеных данных пользователя\n",
        "    for i in s:\n",
        "        if i == ' ' or '0' <= i <= '9':\n",
        "            continue\n",
        "        return False\n",
        "    return True"
      ],
      "metadata": {
        "id": "uwgbX2iWiV8F"
      },
      "execution_count": null,
      "outputs": []
    },
    {
      "cell_type": "markdown",
      "source": [
        "##Check_vector\n",
        "Проверка ответа пользователя. \n",
        "- fic_sysh = 0: Cущественная пременная \n",
        "- fic_sysh = 1: Фиктивная переменная \n",
        "- player_vec - вектор, который предложен пользователю\n",
        "-player_input - строка которая была введена пользователем"
      ],
      "metadata": {
        "id": "B1K5kX3fjLOP"
      }
    },
    {
      "cell_type": "code",
      "source": [
        "# Проверка ответа пользователя fic_sysh - 0: существенная пременная; 1: Фиктивная переменная\n",
        "# player_vec - вектор, который предложен пользователю; player_input - строка которая была введена пользователем\n",
        "def check_vector(player_vec, fic_sysh, player_input):\n",
        "    player_input = player_input.replace(' ', '')\n",
        "    if dict_vector[player_vec][fic_sysh] == player_input:\n",
        "        return True\n",
        "    return False"
      ],
      "metadata": {
        "id": "VWcAUyS4jL0p"
      },
      "execution_count": null,
      "outputs": []
    },
    {
      "cell_type": "markdown",
      "source": [
        "##Mack_sfp\n",
        "Создание случайно текста для пользователя, выбранного из существенные или фиктивные переменные и рандомный выбор одного вектора из массива list_vector."
      ],
      "metadata": {
        "id": "X7vOtmf1krDd"
      }
    },
    {
      "cell_type": "code",
      "source": [
        "def mack_sfp():\n",
        "    global player_vec\n",
        "    global sfp\n",
        "\n",
        "    sushi_var_str, fic_var_str = 'существенные переменные для ', 'фиктивные переменные для '\n",
        "    sfp = int(random.random() * 10) % 2\n",
        "    if sfp == 0:\n",
        "        greet_label.configure(text=f'Введите {sushi_var_str} функции:')\n",
        "    else:\n",
        "        greet_label.configure(text=f'Введите {fic_var_str} функции:')\n",
        "    tmp = list_vector[int(random.random() * 100) % len(list_vector)]\n",
        "    if tmp == player_vec:\n",
        "        tmp = list_vector[int(random.random() * 100) % len(list_vector)]\n",
        "    player_vec = tmp\n",
        "    ans = ''\n",
        "    for i in range(1, len(player_vec) + 1):\n",
        "        ans += player_vec[i - 1]\n",
        "        if i % 4 == 0:\n",
        "            ans += ' '\n",
        "    player_vec = ans\n",
        "    vector_label.configure(text=player_vec)"
      ],
      "metadata": {
        "id": "-1HuYVC1krWp"
      },
      "execution_count": null,
      "outputs": []
    },
    {
      "cell_type": "markdown",
      "source": [
        "##Send_vector\n",
        "Проверка ответа пользователя и вывод дополнительных кнопок: \n",
        "- Новое задание\n",
        "- Перепройти\n",
        "- Показать ответ"
      ],
      "metadata": {
        "id": "ZNRjMhwGmqtV"
      }
    },
    {
      "cell_type": "code",
      "source": [
        "def send_vector():\n",
        "    global player_vec\n",
        "    global sfp\n",
        "\n",
        "    entry = user_entry.get()\n",
        "    player_vec = ''\n",
        "    tmp = vector_label.cget('text').split()\n",
        "    for i in range(0, len(tmp)):\n",
        "        player_vec += tmp[i]\n",
        "    if check_data(entry):\n",
        "        if check_vector(player_vec, sfp, user_entry.get()):\n",
        "            error_label.configure(text='Ваш ответ верный:)', fg='green')\n",
        "\n",
        "            go_next_button.pack(side='left', padx=5)\n",
        "        else:\n",
        "            error_label.configure(text='Ответ неверный!', fg='#ff4000')\n",
        "\n",
        "            go_next_button.pack(side='left', padx=5)\n",
        "            remake_button.pack(side='left', padx=5)\n",
        "            correct_answer_button.pack(side='left', padx=5)\n",
        "    else:\n",
        "        error_label.configure(text='Ошибка ввода данных!', fg='#ff4000')\n",
        "\n",
        "        go_next_button.pack(side='left', padx=5)\n",
        "        remake_button.pack(side='left', padx=5)\n",
        "        correct_answer_button.pack(side='left', padx=5)\n",
        "\n",
        "    button_submit['state'] = 'disabled'\n",
        "    user_entry['state'] = 'disabled'"
      ],
      "metadata": {
        "id": "LZ3ApeYTmrAb"
      },
      "execution_count": null,
      "outputs": []
    },
    {
      "cell_type": "markdown",
      "source": [
        "##Go_next\n",
        "Функция отвечающая за кнопку новое задание"
      ],
      "metadata": {
        "id": "JekN-w5TnITZ"
      }
    },
    {
      "cell_type": "code",
      "source": [
        "def go_next():\n",
        "    all_vector(n_param.get())\n",
        "    button_submit['state'] = 'normal'\n",
        "    user_entry['state'] = 'normal'\n",
        "    user_entry.delete(0, 'end')\n",
        "    go_next_button.pack_forget()\n",
        "    remake_button.pack_forget()\n",
        "    correct_answer_button.pack_forget()\n",
        "    error_label.configure(text='')\n",
        "    mack_sfp()"
      ],
      "metadata": {
        "id": "fYRKbe43nIoF"
      },
      "execution_count": null,
      "outputs": []
    },
    {
      "cell_type": "markdown",
      "source": [
        "##Remake_task\n",
        "Функция отвечающая за кнопку перепройти"
      ],
      "metadata": {
        "id": "zYpiDc9CqMkr"
      }
    },
    {
      "cell_type": "code",
      "source": [
        "def remake_task():\n",
        "    button_submit['state'] = 'normal'\n",
        "    user_entry['state'] = 'normal'\n",
        "    user_entry.delete(0, 'end')\n",
        "    go_next_button.pack_forget()\n",
        "    remake_button.pack_forget()\n",
        "    correct_answer_button.pack_forget()\n",
        "    error_label.configure(text='')"
      ],
      "metadata": {
        "id": "-Y23BB-fqM3-"
      },
      "execution_count": null,
      "outputs": []
    },
    {
      "cell_type": "markdown",
      "source": [
        "##Show_correct_answer\n",
        "Функция отвечающая за кнопку показать ответ."
      ],
      "metadata": {
        "id": "7pQmxW9DqO3E"
      }
    },
    {
      "cell_type": "code",
      "source": [
        "def show_correct_answer():\n",
        "    player_vec = ''\n",
        "    tmp = vector_label.cget('text').split()\n",
        "    for i in range(0, len(tmp)):\n",
        "        player_vec += tmp[i]\n",
        "    error_label.configure(text=f'Правильный ответ - {dict_vector[player_vec][sfp]}', fg='green')\n",
        "    correct_answer_button.pack_forget()"
      ],
      "metadata": {
        "id": "k9cBFSh7qPSm"
      },
      "execution_count": null,
      "outputs": []
    },
    {
      "cell_type": "markdown",
      "source": [
        "##Open_child_root\n",
        "Открывает дополнительное окно(справака)"
      ],
      "metadata": {
        "id": "W5KN42guqZsg"
      }
    },
    {
      "cell_type": "code",
      "source": [
        "def open_child_root():\n",
        "    child_root = tk.Toplevel(root)\n",
        "    child_root.title('Справка')\n",
        "    child_root.geometry('550x350+100+100')\n",
        "    child_root.resizable(False, False)\n",
        "    child_root.grab_set()\n",
        "    ans = \"\\n\\nЕсли нет фиктивных или существенных переменных, то пишите 0\\n\"\n",
        "    ans += \"Пример ввода данных: \\n\\n\"\n",
        "    ans += \"Выберите существенные переменные для функции: 00101001\\n\\n\"\n",
        "    ans += \"Попыток осталось: n\\nВведите номер(а): 123\\n\\n\"\n",
        "    ans += \"Если у вас остались вопросы, то их можно задать разработчикам:\\n\\n\"\n",
        "    ans += \"https://vk.com/deltams4\\n\"\n",
        "    ans += \"https://vk.com/id212348723\\n\"\n",
        "    ans += \"https://vk.com/otza_to4ka_net\\n\\n\"\n",
        "    ans += \"Приятной игры ;)\\n\\n\\n\\n\"\n",
        "    label = tk.Label(child_root, text=ans, font=('Arial', 12, 'normal'), justify='left').pack()"
      ],
      "metadata": {
        "id": "VD8B5NYCqaC8"
      },
      "execution_count": null,
      "outputs": []
    },
    {
      "cell_type": "markdown",
      "source": [
        "##Draw_menu\n",
        "Выпадающее меню с настройкой кол-ва переменных."
      ],
      "metadata": {
        "id": "Is2UsAxcqXVm"
      }
    },
    {
      "cell_type": "code",
      "source": [
        "def draw_menu():\n",
        "    menu_bar = tk.Menu(root)\n",
        "    file_menu = tk.Menu(menu_bar, tearoff=0)\n",
        "    file_menu.add_radiobutton(label='1 переменная', value=1, variable=n_param, command=go_next)\n",
        "    file_menu.add_radiobutton(label='2 переменных', value=2, variable=n_param, command=go_next)\n",
        "    file_menu.add_radiobutton(label='3 переменных', value=3, variable=n_param, command=go_next)\n",
        "    file_menu.add_radiobutton(label='4 переменных', value=4, variable=n_param, command=go_next)\n",
        "    file_menu.add_radiobutton(label='5 переменных', value=5, variable=n_param, command=go_next)\n",
        "    menu_bar.add_cascade(label='Настройки', menu=file_menu)\n",
        "    root.configure(menu=menu_bar)"
      ],
      "metadata": {
        "id": "9ITSaBmEqYLw"
      },
      "execution_count": null,
      "outputs": []
    },
    {
      "cell_type": "markdown",
      "source": [
        "##Algorithm\n",
        "Выдаем случайно вектор пользователю и существенную или фиктивную переменную. Проверяем ввод пользователя, сравниваем с ответом."
      ],
      "metadata": {
        "id": "1VM_JYvBx7rO"
      }
    },
    {
      "cell_type": "markdown",
      "source": [
        "#Task6\n",
        " Игра. ДНФ. Система предлагает вектор функции. Пользователь вводит ДНФ. Система определяет правильно или нет.\n",
        "\n"
      ],
      "metadata": {
        "id": "-_blBTJwsxIl"
      }
    },
    {
      "cell_type": "markdown",
      "source": [
        "##Random_vector\n",
        "Создание рандомного вектора от vars_count переменных"
      ],
      "metadata": {
        "id": "hAb2imKStqX5"
      }
    },
    {
      "cell_type": "code",
      "source": [
        "def random_vector(vars_count):\n",
        "    len_vector = 2 ** vars_count\n",
        "    count_all_vectors = 2 ** len_vector\n",
        "    tmp = int(random.random() * (10 ** len(str(count_all_vectors)))) % count_all_vectors\n",
        "    vec = str(bin(tmp)[2:])\n",
        "    vec = \"0\" * (len_vector - len(vec)) + vec\n",
        "    ans = ''\n",
        "    for i in range(1, len(vec) + 1):\n",
        "        ans += vec[i - 1]\n",
        "        if i % 4 == 0:\n",
        "            ans += ' '\n",
        "    return ans"
      ],
      "metadata": {
        "id": "F-9U6YPitqs1"
      },
      "execution_count": null,
      "outputs": []
    },
    {
      "cell_type": "markdown",
      "source": [
        "##String_standard2\n",
        "Заменяем буквы введные пользователем на переменные, которые используются внутри программы"
      ],
      "metadata": {
        "id": "62N1PliHvauW"
      }
    },
    {
      "cell_type": "code",
      "source": [
        "def string_standard2(player_string):\n",
        "    player_string = player_string.replace('x', 'x1')\n",
        "    player_string = player_string.replace('y', 'x2')\n",
        "    player_string = player_string.replace('z', 'x3')\n",
        "    player_string = player_string.replace('u', 'x4')\n",
        "    for i in range(1, 10):\n",
        "        player_string = player_string.replace(f'{1}{i}', f'{i}')\n",
        "    return player_string"
      ],
      "metadata": {
        "id": "8HFsw0icvbEe"
      },
      "execution_count": null,
      "outputs": []
    },
    {
      "cell_type": "markdown",
      "source": [
        "##String_standard\n",
        "Приводим значения пользователя в стандарт, в котором удобно работать внутри системы"
      ],
      "metadata": {
        "id": "iNR1KIwuv8mX"
      }
    },
    {
      "cell_type": "code",
      "source": [
        "def string_standard(player_string):\n",
        "    player_string = player_string.replace(' ', '').lower()\n",
        "    player_string = player_string.replace('&', '')\n",
        "    player_string = player_string.replace('*', '')\n",
        "    player_string = player_string.replace('(', '')\n",
        "    player_string = player_string.replace(')', '')\n",
        "    player_string = string_standard2(player_string)\n",
        "    player_string = player_string.replace('x', '')\n",
        "    player_string = player_string.split('v')\n",
        "    return player_string"
      ],
      "metadata": {
        "id": "ERG1_V8dv84X"
      },
      "execution_count": null,
      "outputs": []
    },
    {
      "cell_type": "markdown",
      "source": [
        "##What_degree_two\n",
        "Функция принимает число и возвращает в какой оно степени двойки находится. Если число не является степенью двойки, то возвращает значение -1."
      ],
      "metadata": {
        "id": "oHl9rypAwaVF"
      }
    },
    {
      "cell_type": "code",
      "source": [
        "def what_degree_two(number):  # В какую степень двойки возведено число; -1: не является степенью двойки\n",
        "    tmp = 1\n",
        "    ans = 0\n",
        "    while tmp < number:\n",
        "        tmp *= 2\n",
        "        ans += 1\n",
        "    if number == tmp:\n",
        "        return ans\n",
        "    else:\n",
        "        return -1"
      ],
      "metadata": {
        "id": "FOmhk9Bjwano"
      },
      "execution_count": null,
      "outputs": []
    },
    {
      "cell_type": "markdown",
      "source": [
        "##Dnf_check\n",
        "Проверяем введеные пользователем данные"
      ],
      "metadata": {
        "id": "f_KYvI9kwduW"
      }
    },
    {
      "cell_type": "code",
      "source": [
        "def dnf_check(player_string, vec):\n",
        "    global set_param\n",
        "\n",
        "    player_string = player_string.replace(' ', '').lower()\n",
        "\n",
        "    if len(player_string) == 0 or len(player_string) == 1 and 'x' != player_string[0]:\n",
        "        return False\n",
        "\n",
        "    # Проверка в начале есть ли недопустимый символ\n",
        "    if player_string[0] != '(' and player_string[0] != '-' and 'x' != player_string[0]:\n",
        "        return False\n",
        "\n",
        "    # Проверка в конце есть ли недопустимый символ\n",
        "    if player_string[-1] != ')' and '1' > player_string[-1] > '9':\n",
        "        return False\n",
        "\n",
        "    # Проверяет переменные, чтоб они не превышали допустимые значения\n",
        "    for char in player_string:\n",
        "        if '1' <= char <= '9':\n",
        "            if char > str(what_degree_two(len(vec))):\n",
        "                return False\n",
        "\n",
        "    for char in player_string:  # Проверка на допустимые символы\n",
        "        if char == '*' or char == 'v' \\\n",
        "                or char == '&' or 'x' == char \\\n",
        "                or char == '(' or char == ')' \\\n",
        "                or char == '-' or '1' <= char <= '9':\n",
        "            continue\n",
        "        return False\n",
        "\n",
        "    psp = 0\n",
        "    for char in player_string:  # Проверка ПСП (Если конечно скобки есть)\n",
        "        if char == '(':\n",
        "            psp += 1\n",
        "        elif char == ')':\n",
        "            psp -= 1\n",
        "            if psp < 0:\n",
        "                return False\n",
        "\n",
        "    player_string = player_string.replace('(', '')\n",
        "    player_string = player_string.replace(')', '')\n",
        "\n",
        "    for i in range(1, len(player_string)):  # Проверка повторов символов (Перемер xx, **, &&, 11, 22, 12)\n",
        "        if player_string[i - 1] == player_string[i] \\\n",
        "                or ('1' <= player_string[i - 1] <= '9' and '1' <= player_string[i] <= '9'):\n",
        "            return False\n",
        "\n",
        "    player_string = player_string.replace('&', '')\n",
        "    player_string = player_string.replace('*', '')\n",
        "\n",
        "    stack_param = 0\n",
        "    for i in range(0, len(player_string)):  # Проверка на правильные переменные переменные\n",
        "        if player_string[i] == '-':\n",
        "            continue\n",
        "        elif '1' <= player_string[i] <= '9':\n",
        "            if stack_param == 0:\n",
        "                return False\n",
        "            stack_param -= 1\n",
        "        elif player_string[i] != 'v' \\\n",
        "                and player_string[i] == 'x':\n",
        "            stack_param = 1\n",
        "        else:\n",
        "            stack_param = 0\n",
        "        if stack_param < 0:\n",
        "            return False\n",
        "\n",
        "    return True"
      ],
      "metadata": {
        "id": "xUiEFBOvweD0"
      },
      "execution_count": null,
      "outputs": []
    },
    {
      "cell_type": "markdown",
      "source": [
        "##Dnf_true\n",
        "Проверяем правильность введеной ДНФ"
      ],
      "metadata": {
        "id": "1NIWj1qIwttg"
      }
    },
    {
      "cell_type": "code",
      "source": [
        "def dnf_true(player_string, vec):\n",
        "    param = string_standard(player_string)\n",
        "    vec_mass = []\n",
        "    vec_ans = []\n",
        "    for i in range(len(param)):\n",
        "        vec_mass.append(\"\")\n",
        "    for i in range(len(vec)):\n",
        "        vec_ans.append(\"0\")\n",
        "        t = str(bin(i)[2:])\n",
        "        t = \"0\" * (what_degree_two(len(vec)) - len(t)) + t\n",
        "        for tm in range(len(param)):\n",
        "            zn = 1\n",
        "            tmpp = 1\n",
        "            for j in param[tm]:\n",
        "                if j == '-':\n",
        "                    zn = -1\n",
        "                    continue\n",
        "                if t[int(j) - 1] == '1' and zn == -1:\n",
        "                    tmpp *= 0\n",
        "                elif t[int(j) - 1] == '0' and zn == -1:\n",
        "                    tmpp *= 1\n",
        "                else:\n",
        "                    tmpp *= int(t[int(j) - 1])\n",
        "                zn = 1\n",
        "            vec_mass[tm] += str(tmpp)\n",
        "\n",
        "    for string in range(len(vec_mass)):\n",
        "        for j in range(len(vec_mass[string])):\n",
        "            if vec_mass[string][j] == '1':\n",
        "                vec_ans[j] = '1'\n",
        "    return \"\".join(vec_ans)"
      ],
      "metadata": {
        "id": "-DrAt4CNwuAx"
      },
      "execution_count": null,
      "outputs": []
    },
    {
      "cell_type": "markdown",
      "source": [
        "##Send_answer\n",
        "Проверка ответа пользователя и вывод результа"
      ],
      "metadata": {
        "id": "KymwXvH7wyOk"
      }
    },
    {
      "cell_type": "code",
      "source": [
        "def send_answer():\n",
        "    player_string = entry.get()\n",
        "    vec = ''\n",
        "    tmp = vector_label.cget('text').split()\n",
        "    for i in range(0, len(tmp)):\n",
        "        vec += tmp[i]\n",
        "    if dnf_check(string_standard2(player_string), vec):\n",
        "        ans_vec = dnf_true(player_string, vec)\n",
        "        if vec == ans_vec:\n",
        "            error_label.configure(text='Введеная ДНФ верная', fg='green')\n",
        "        else:\n",
        "            error_label.configure(text='Введеная ДНФ неверная!', fg='red')\n",
        "    elif len(player_string.replace(' ', '')) == 0 and vec.count('0') == len(vec):\n",
        "        error_label.configure(text='Введеная ДНФ верная', fg='green')\n",
        "    else:\n",
        "        error_label.configure(text='Неверный ввод!!!', fg='red')\n",
        "\n",
        "    button_submit['state'] = 'disabled'\n",
        "    entry['state'] = 'disabled'\n",
        "    go_next_button.pack(side='left', padx=5)\n",
        "    remake_button.pack(side='left', padx=5)"
      ],
      "metadata": {
        "id": "tqAtuw6Swyz8"
      },
      "execution_count": null,
      "outputs": []
    },
    {
      "cell_type": "markdown",
      "source": [
        "##Go_next\n",
        "Функция отвечающая за кнопку новое задание"
      ],
      "metadata": {
        "id": "enFsXMivw2nf"
      }
    },
    {
      "cell_type": "code",
      "source": [
        "def go_next():\n",
        "    button_submit['state'] = 'normal'\n",
        "    entry['state'] = 'normal'\n",
        "    entry.delete(0, 'end')\n",
        "    go_next_button.pack_forget()\n",
        "    remake_button.pack_forget()\n",
        "    error_label.configure(text='')\n",
        "    vector_label.configure(text=random_vector(n_param.get()))"
      ],
      "metadata": {
        "id": "kHPecBT1w270"
      },
      "execution_count": null,
      "outputs": []
    },
    {
      "cell_type": "markdown",
      "source": [
        "##Remake_task\n",
        "Функция отвечающая за кнопку перепройти"
      ],
      "metadata": {
        "id": "QKTC-uSqw3tC"
      }
    },
    {
      "cell_type": "code",
      "source": [
        "def remake_task():\n",
        "    button_submit['state'] = 'normal'\n",
        "    entry['state'] = 'normal'\n",
        "    entry.delete(0, 'end')\n",
        "    go_next_button.pack_forget()\n",
        "    remake_button.pack_forget()\n",
        "    error_label.configure(text='')"
      ],
      "metadata": {
        "id": "4QmsRyPDw35u"
      },
      "execution_count": null,
      "outputs": []
    },
    {
      "cell_type": "markdown",
      "source": [
        "##Open_child_root\n",
        "Открывает дополнительное окно(справака)"
      ],
      "metadata": {
        "id": "6ttQRTQgw5qR"
      }
    },
    {
      "cell_type": "code",
      "source": [
        "def open_child_root():\n",
        "    child_root = tk.Toplevel(root)\n",
        "    child_root.title('Справка')\n",
        "    child_root.geometry('550x350+100+100')\n",
        "    child_root.resizable(False, False)\n",
        "    child_root.grab_set()\n",
        "    ans = \"\\n\\nПример ввода данных:\\n\\n\"\n",
        "    ans += '(-x1*-x2&x3)v(-x1x2-x3)V(-x1x2x3)v(x1-x2-x3)v(x1-x2x3)v(x1x2-x3)\\n\\n\\n'\n",
        "    ans += '-x1*-x2&x3v-x1x2-x3V-x1x2x3vx1-x2-x3vx1-x2x3vx1x2-x3\\n\\n\\n'\n",
        "    ans += '-x1*-x2&x3v-x1x2-x3V-x1x2x3vx1-x2-x3vx1-x2x3vx1x2-x3\\n\\n\\n'\n",
        "    ans += '-x1*-x2&x3 v -x1x2-x3 V -x1x2x3 v x1-x2-x3 v x1-x2x3 v x1x2-x3\\n\\n\\n'\n",
        "    ans += \"Приятной игры ;)\\n\\n\\n\\n\"\n",
        "    label = tk.Label(child_root, text=ans, font=('Arial', 12, 'normal'), justify='left').pack()"
      ],
      "metadata": {
        "id": "GhTsIaCcw6PG"
      },
      "execution_count": null,
      "outputs": []
    },
    {
      "cell_type": "markdown",
      "source": [
        "##Draw_menu\n",
        "Выпадающее меню с настройкой кол-ва переменных."
      ],
      "metadata": {
        "id": "R-LR57yLw9ZI"
      }
    },
    {
      "cell_type": "code",
      "source": [
        "def draw_menu():\n",
        "    menu_bar = tk.Menu(root)\n",
        "    file_menu = tk.Menu(menu_bar, tearoff=0)\n",
        "    file_menu.add_radiobutton(label='1 переменная', value=1, variable=n_param, command=go_next)\n",
        "    file_menu.add_radiobutton(label='2 переменных', value=2, variable=n_param, command=go_next)\n",
        "    file_menu.add_radiobutton(label='3 переменных', value=3, variable=n_param, command=go_next)\n",
        "    file_menu.add_radiobutton(label='4 переменных', value=4, variable=n_param, command=go_next)\n",
        "    file_menu.add_radiobutton(label='5 переменных', value=5, variable=n_param, command=go_next)\n",
        "    menu_bar.add_cascade(label='Настройки', menu=file_menu)\n",
        "    root.configure(menu=menu_bar)"
      ],
      "metadata": {
        "id": "hzvkwntYw905"
      },
      "execution_count": null,
      "outputs": []
    },
    {
      "cell_type": "markdown",
      "source": [
        "##Algorithm\n",
        "Выдаем случайно вектор пользователю. Проверяем правильность ввода. Строим таблицу истенности и сравниваем с выданным вектором."
      ],
      "metadata": {
        "id": "NMazsUj1y5Hp"
      }
    },
    {
      "cell_type": "markdown",
      "source": [
        "#Task7\n",
        " Игра. КНФ. Система предлагает вектор функции. Пользователь вводит КНФ. Система определяет правильно или нет.\n"
      ],
      "metadata": {
        "id": "O2FVg9Qa2o7P"
      }
    },
    {
      "cell_type": "markdown",
      "source": [
        "##Random_vector\n",
        "Создание рандомного вектора от vars_count переменных"
      ],
      "metadata": {
        "id": "IGK5cRxo21v2"
      }
    },
    {
      "cell_type": "code",
      "source": [
        "def random_vector(vars_count):\n",
        "    global vec\n",
        "    len_vector = 2 ** vars_count\n",
        "    count_all_vectors = 2 ** len_vector\n",
        "    tmp = int(random.random() * (10 ** len(str(count_all_vectors)))) % count_all_vectors\n",
        "    vec = str(bin(tmp)[2:])\n",
        "    vec = \"0\" * (len_vector - len(vec)) + vec\n",
        "    ans = ''\n",
        "    for i in range(1, len(vec) + 1):\n",
        "        ans += vec[i - 1]\n",
        "        if i % 4 == 0:\n",
        "            ans += ' '\n",
        "    return ans"
      ],
      "metadata": {
        "id": "w5LOd0No22Ds"
      },
      "execution_count": null,
      "outputs": []
    },
    {
      "cell_type": "markdown",
      "source": [
        "##String_standard2\n",
        "Заменяем буквы введные пользователем на переменные, которые используются внутри программы"
      ],
      "metadata": {
        "id": "C_M6cVhL_O5t"
      }
    },
    {
      "cell_type": "code",
      "source": [
        "def string_standard2(player_string):\n",
        "    player_string = player_string.replace('x', 'x1')\n",
        "    player_string = player_string.replace('y', 'x2')\n",
        "    player_string = player_string.replace('z', 'x3')\n",
        "    player_string = player_string.replace('u', 'x4')\n",
        "    for i in range(1, 10):\n",
        "        player_string = player_string.replace(f'{1}{i}', f'{i}')\n",
        "    return player_string"
      ],
      "metadata": {
        "id": "LUJxXQl1_PNg"
      },
      "execution_count": null,
      "outputs": []
    },
    {
      "cell_type": "markdown",
      "source": [
        "##String_standard\n",
        "Приводим значения пользователя в стандарт, в котором удобно работать внутри системы"
      ],
      "metadata": {
        "id": "aIaG86_0_PrS"
      }
    },
    {
      "cell_type": "code",
      "source": [
        "def string_standard(player_string):\n",
        "    player_string = player_string.replace(' ', '').lower()\n",
        "    player_string = player_string.replace('&', '')\n",
        "    player_string = player_string.replace('*', '')\n",
        "    player_string = player_string.replace('(', '')\n",
        "    player_string = player_string.replace(')', '')\n",
        "    player_string = string_standard2(player_string)\n",
        "    player_string = player_string.replace('x', '')\n",
        "    ans = []\n",
        "    tmp = 1\n",
        "    string = ''\n",
        "    for i in player_string:\n",
        "        if i == '-' and tmp != 0:\n",
        "            string += '-'\n",
        "            continue\n",
        "        if i == 'v':\n",
        "            tmp = 1\n",
        "            continue\n",
        "        tmp -= 1\n",
        "        if tmp == -1:\n",
        "            ans.append(string)\n",
        "            string = i\n",
        "            if i == '-':\n",
        "                tmp = 1\n",
        "            else:\n",
        "                tmp = 0\n",
        "        else:\n",
        "            string += i\n",
        "    ans.append(string)\n",
        "    return ans"
      ],
      "metadata": {
        "id": "OVGm_LQC_P9c"
      },
      "execution_count": null,
      "outputs": []
    },
    {
      "cell_type": "markdown",
      "source": [
        "##What_degree_two\n",
        "Функция принимает число и возвращает в какой оно степени двойки находится. Если число не является степенью двойки, то возвращает значение -1."
      ],
      "metadata": {
        "id": "rnMmG3w-_QT-"
      }
    },
    {
      "cell_type": "code",
      "source": [
        "def what_degree_two(number):  # В какую степень двойки возведено число; -1: не является степенью двойки\n",
        "    tmp = 1\n",
        "    ans = 0\n",
        "    while tmp < number:\n",
        "        tmp *= 2\n",
        "        ans += 1\n",
        "    if number == tmp:\n",
        "        return ans\n",
        "    else:\n",
        "        return -1"
      ],
      "metadata": {
        "id": "xBoGIPfg_Qpj"
      },
      "execution_count": null,
      "outputs": []
    },
    {
      "cell_type": "markdown",
      "source": [
        "##Knf_check\n",
        "Проверяем введеные пользователем данные"
      ],
      "metadata": {
        "id": "FbFG8cBt_YjL"
      }
    },
    {
      "cell_type": "code",
      "source": [
        "def knf_check(player_string, vec):\n",
        "    global set_param\n",
        "\n",
        "    player_string = player_string.replace(' ', '').lower()\n",
        "\n",
        "    if len(player_string) == 0 or len(player_string) == 1 and 'x' != player_string[0]:\n",
        "        return False\n",
        "\n",
        "    # Проверка в начале есть ли недопустимый символ\n",
        "    if player_string[0] != '(' and player_string[0] != '-' and 'x' != player_string[0]:\n",
        "        return False\n",
        "\n",
        "    # Проверка в конце есть ли недопустимый символ\n",
        "    if player_string[-1] != ')' and '1' > player_string[-1] > '9':\n",
        "        return False\n",
        "\n",
        "    # Проверяет переменные, чтоб они не превышали допустимые значения\n",
        "    for char in player_string:\n",
        "        if '1' <= char <= '9':\n",
        "            if char > str(what_degree_two(len(vec))):\n",
        "                return False\n",
        "\n",
        "    for char in player_string:  # Проверка на допустимые символы\n",
        "        if char == '*' or char == 'v' \\\n",
        "                or char == '&' or 'x' == char \\\n",
        "                or char == '(' or char == ')' \\\n",
        "                or char == '-' or '1' <= char <= '9':\n",
        "            continue\n",
        "        return False\n",
        "\n",
        "    psp = 0\n",
        "    for char in player_string:  # Проверка ПСП (Если конечно скобки есть)\n",
        "        if char == '(':\n",
        "            psp += 1\n",
        "        elif char == ')':\n",
        "            psp -= 1\n",
        "            if psp < 0:\n",
        "                return False\n",
        "\n",
        "    player_string = player_string.replace('(', '')\n",
        "    player_string = player_string.replace(')', '')\n",
        "\n",
        "    for i in range(1, len(player_string)):  # Проверка повторов символов (Перемер xx, **, &&, 11, 22, 12)\n",
        "        if player_string[i - 1] == player_string[i] \\\n",
        "                or ('1' <= player_string[i - 1] <= '9' \\\n",
        "                    and '1' <= player_string[i] <= '9'):\n",
        "            return False\n",
        "\n",
        "    player_string = player_string.replace('&', '')\n",
        "    player_string = player_string.replace('*', '')\n",
        "\n",
        "    stack_param = 0\n",
        "    for i in range(0, len(player_string)):  # Проверка на правильные переменные переменные\n",
        "        if player_string[i] == '-':\n",
        "            continue\n",
        "        elif '1' <= player_string[i] <= '9':\n",
        "            if stack_param == 0:\n",
        "                return False\n",
        "            stack_param -= 1\n",
        "        elif player_string[i] != 'v' \\\n",
        "                and player_string[i] == 'x':\n",
        "            stack_param += 1\n",
        "            if stack_param >= 3:\n",
        "                return False\n",
        "        else:\n",
        "            stack_param = 0\n",
        "        if stack_param < 0:\n",
        "            return False\n",
        "\n",
        "    return True"
      ],
      "metadata": {
        "id": "3dbDVMkw_Y1-"
      },
      "execution_count": null,
      "outputs": []
    },
    {
      "cell_type": "markdown",
      "source": [
        "##Knf_true\n",
        "Проверяем правильность введеной КНФ"
      ],
      "metadata": {
        "id": "GzLB6Gbq_ZTN"
      }
    },
    {
      "cell_type": "code",
      "source": [
        "def knf_true(player_string):\n",
        "    global vec\n",
        "    param = string_standard(player_string)\n",
        "    vec_mass = []\n",
        "    vec_ans = []\n",
        "    for i in range(len(param)):\n",
        "        vec_mass.append(\"\")\n",
        "    for i in range(len(vec)):\n",
        "        vec_ans.append(\"1\")\n",
        "        t = str(bin(i)[2:])\n",
        "        t = \"0\" * (what_degree_two(len(vec)) - len(t)) + t\n",
        "        for tm in range(len(param)):\n",
        "            zn = 1\n",
        "            tmpp = 0\n",
        "            for j in param[tm]:\n",
        "                if j == '-':\n",
        "                    zn = -1\n",
        "                    continue\n",
        "                if t[int(j) - 1] == '1' and zn == -1:\n",
        "                    tmpp += 0\n",
        "                elif t[int(j) - 1] == '0' and zn == -1:\n",
        "                    tmpp = 1\n",
        "                else:\n",
        "                    tmpp += int(t[int(j) - 1])\n",
        "                    if tmpp == 2:\n",
        "                        tmpp = 1\n",
        "                zn = 1\n",
        "            vec_mass[tm] += str(tmpp)\n",
        "\n",
        "    for string in range(len(vec_mass)):\n",
        "        for j in range(len(vec_mass[string])):\n",
        "            if vec_mass[string][j] == '0':\n",
        "                vec_ans[j] = '0'\n",
        "    return \"\".join(vec_ans)"
      ],
      "metadata": {
        "id": "pKu6sAVe_Zk8"
      },
      "execution_count": null,
      "outputs": []
    },
    {
      "cell_type": "markdown",
      "source": [
        "##Send_answer\n",
        "Проверка ответа пользователя и вывод результа"
      ],
      "metadata": {
        "id": "kAEJMXVg_aNC"
      }
    },
    {
      "cell_type": "code",
      "source": [
        "def send_answer():\n",
        "    player_string = entry.get()\n",
        "    vec = ''\n",
        "    tmp = vector_label.cget('text').split()\n",
        "    for i in range(0, len(tmp)):\n",
        "        vec += tmp[i]\n",
        "    if knf_check(string_standard2(player_string), vec):\n",
        "        ans_vec = knf_true(player_string)\n",
        "        if vec == ans_vec:\n",
        "            error_label.configure(text='Введеная КНФ верная', fg='green')\n",
        "        else:\n",
        "            error_label.configure(text='Введеная КНФ неверная!', fg='red')\n",
        "    elif len(player_string.replace(' ', '')) == 0 and vec.count('1') == len(vec):\n",
        "        error_label.configure(text='Введеная КНФ верная', fg='green')\n",
        "    else:\n",
        "        error_label.configure(text='Неверный ввод!!!', fg='red')\n",
        "\n",
        "    button_submit['state'] = 'disabled'\n",
        "    entry['state'] = 'disabled'\n",
        "    go_next_button.pack(side='left', padx=5)\n",
        "    remake_button.pack(side='left', padx=5)"
      ],
      "metadata": {
        "id": "zT502MCG_ahi"
      },
      "execution_count": null,
      "outputs": []
    },
    {
      "cell_type": "markdown",
      "source": [
        "##Go_next\n",
        "Функция отвечающая за кнопку новое задание"
      ],
      "metadata": {
        "id": "Ox74hg_z_lys"
      }
    },
    {
      "cell_type": "code",
      "source": [
        "def go_next():\n",
        "    button_submit['state'] = 'normal'\n",
        "    entry['state'] = 'normal'\n",
        "    entry.delete(0, 'end')\n",
        "    go_next_button.pack_forget()\n",
        "    remake_button.pack_forget()\n",
        "    error_label.configure(text='')\n",
        "    vector_label.configure(text=random_vector(n_param.get()))"
      ],
      "metadata": {
        "id": "GIiLU5TV_mG9"
      },
      "execution_count": null,
      "outputs": []
    },
    {
      "cell_type": "markdown",
      "source": [
        "##Remake_task\n",
        "Функция отвечающая за кнопку перепройти"
      ],
      "metadata": {
        "id": "iJD-NOnI_oXQ"
      }
    },
    {
      "cell_type": "code",
      "source": [
        "def remake_task():\n",
        "    button_submit['state'] = 'normal'\n",
        "    entry['state'] = 'normal'\n",
        "    entry.delete(0, 'end')\n",
        "    go_next_button.pack_forget()\n",
        "    remake_button.pack_forget()\n",
        "    error_label.configure(text='')"
      ],
      "metadata": {
        "id": "NjC4JVBL_ooY"
      },
      "execution_count": null,
      "outputs": []
    },
    {
      "cell_type": "markdown",
      "source": [
        "##Open_child_root\n",
        "Открывает дополнительное окно(справака)"
      ],
      "metadata": {
        "id": "qd3l6duc_q0Y"
      }
    },
    {
      "cell_type": "code",
      "source": [
        "def open_child_root():\n",
        "    child_root = tk.Toplevel(root)\n",
        "    child_root.title('Справка')\n",
        "    child_root.geometry('550x350+100+100')\n",
        "    child_root.resizable(False, False)\n",
        "    child_root.grab_set()\n",
        "    ans = '\\n\\nПример ввода:\\n\\n'\n",
        "    ans += '(x1 v x2)*(x3 v -x4)\\n\\n'\n",
        "    ans += 'x1 v x2x3 v -x4\\n\\n'\n",
        "    ans += 'x1vx2x3v-x4\\n\\n'\n",
        "    ans += '(x1v-x2vx3)*(-x1vx2v-x3)&(-x1v-x2vx3)\\n\\n'\n",
        "    ans += \"Приятной игры ;)\\n\\n\\n\"\n",
        "    label = tk.Label(child_root, text=ans, font=('Arial', 14, 'normal'), justify='left').pack()"
      ],
      "metadata": {
        "id": "Km2_1TPL_rGz"
      },
      "execution_count": null,
      "outputs": []
    },
    {
      "cell_type": "markdown",
      "source": [
        "##Draw_menu\n",
        "Выпадающее меню с настройкой кол-ва переменных."
      ],
      "metadata": {
        "id": "6qp8cscj_uD7"
      }
    },
    {
      "cell_type": "code",
      "source": [
        "def draw_menu():\n",
        "    menu_bar = tk.Menu(root)\n",
        "    file_menu = tk.Menu(menu_bar, tearoff=0)\n",
        "    file_menu.add_radiobutton(label='1 переменная', value=1, variable=n_param, command=go_next)\n",
        "    file_menu.add_radiobutton(label='2 переменных', value=2, variable=n_param, command=go_next)\n",
        "    file_menu.add_radiobutton(label='3 переменных', value=3, variable=n_param, command=go_next)\n",
        "    file_menu.add_radiobutton(label='4 переменных', value=4, variable=n_param, command=go_next)\n",
        "    file_menu.add_radiobutton(label='5 переменных', value=5, variable=n_param, command=go_next)\n",
        "    menu_bar.add_cascade(label='Настройки', menu=file_menu)\n",
        "    root.configure(menu=menu_bar)"
      ],
      "metadata": {
        "id": "j50dkweI_uWk"
      },
      "execution_count": null,
      "outputs": []
    },
    {
      "cell_type": "markdown",
      "source": [
        "##Algorithm\n",
        "Выдаем случайно вектор пользователю. Проверяем правильность ввода. Строим таблицу истенности и сравниваем с выданным вектором."
      ],
      "metadata": {
        "id": "_QenVOKwC2zd"
      }
    },
    {
      "cell_type": "markdown",
      "source": [
        "#Task8\n",
        " Пользователь вводит вектор функции. Система строит СДНФ."
      ],
      "metadata": {
        "id": "sfnlD5EVDBzS"
      }
    },
    {
      "cell_type": "markdown",
      "source": [
        "##What_degree_two\n",
        "Функция принимает число и возвращает в какой оно степени двойки находится. Если число не является степенью двойки, то возвращает значение -1."
      ],
      "metadata": {
        "id": "m4gVBp2IDQfF"
      }
    },
    {
      "cell_type": "code",
      "source": [
        "def what_degree_two(number): # В какую степень двойки возведено число; -1: не является степенью двойки\n",
        "    tmp = 1\n",
        "    ans = 0\n",
        "    while tmp < number:\n",
        "        tmp *= 2\n",
        "        ans += 1\n",
        "    if number == tmp:\n",
        "        return ans\n",
        "    else:\n",
        "        return -1"
      ],
      "metadata": {
        "id": "29T1vi72DQxU"
      },
      "execution_count": null,
      "outputs": []
    },
    {
      "cell_type": "markdown",
      "source": [
        "##Check_vector\n",
        "Проверяется, что вектор введен верно. \\\n",
        "Проверки:\n",
        "- Длина вектора (вектор не может быть < 2)\n",
        "- Состоит ли вектор только из \"0\" и \"1\""
      ],
      "metadata": {
        "id": "WZobyNKwEsT5"
      }
    },
    {
      "cell_type": "code",
      "source": [
        "def check_vector(vec):\n",
        "    if len(vec) < 2:\n",
        "        return False\n",
        "    for char in vec:\n",
        "        if \"0\"<= char <= \"1\":\n",
        "            continue\n",
        "        return False\n",
        "    return True"
      ],
      "metadata": {
        "id": "vJU0su2bEsmj"
      },
      "execution_count": null,
      "outputs": []
    },
    {
      "cell_type": "markdown",
      "source": [
        "##SDNF\n",
        "Построение СДНФ"
      ],
      "metadata": {
        "id": "CPUwvfVEEtcZ"
      }
    },
    {
      "cell_type": "code",
      "source": [
        "player_string = input(\"Введите вектор: \")\n",
        "player_string = player_string.replace(' ', '')\n",
        "\n",
        "if what_degree_two(len(player_string)) != -1 and check_vector(player_string):\n",
        "    tmp = 0\n",
        "    deg_t = what_degree_two(len(player_string))\n",
        "    ans = \"\"\n",
        "    for char in player_string:\n",
        "        if char == '1':\n",
        "            t = '0'*(deg_t - len(str(bin(tmp)[2:]))) + str(bin(tmp)[2:])\n",
        "            num_arg = 1\n",
        "            ans += \"(\"\n",
        "            for i in t:\n",
        "                if i == '0':\n",
        "                    ans += f\"-x{num_arg}\"\n",
        "                else:\n",
        "                    ans += f\"x{num_arg}\"\n",
        "                num_arg += 1\n",
        "            ans += \")v\"\n",
        "        tmp += 1\n",
        "    ans = ans[:len(ans)-1]\n",
        "    print(\"СДНФ: \"+ ans)\n",
        "else:\n",
        "    print(\"Ошибка при вводе вектора!\")"
      ],
      "metadata": {
        "id": "DpyEhNlVEttN"
      },
      "execution_count": null,
      "outputs": []
    },
    {
      "cell_type": "markdown",
      "source": [
        "##Algorithm\n",
        "Проходим по всему вектору, если находится единица, то смотрим по таблице истинности, где стоят нули заменить их на переменные с отрицанием, где стоят единицы заменить просто на переменные. Добавляем скобочки и знак дизъюнкции."
      ],
      "metadata": {
        "id": "SLC0zqGZEvTb"
      }
    },
    {
      "cell_type": "markdown",
      "source": [
        "#Task9\n",
        " Пользователь вводит вектор функции. Система строит СКНФ.\n"
      ],
      "metadata": {
        "id": "2bWj1BNYHZXF"
      }
    },
    {
      "cell_type": "markdown",
      "source": [
        "##What_degree_two\n",
        "Функция принимает число и возвращает в какой оно степени двойки находится. Если число не является степенью двойки, то возвращает значение -1."
      ],
      "metadata": {
        "id": "C1UyvvObIEgX"
      }
    },
    {
      "cell_type": "code",
      "source": [
        "def what_degree_two(number): # В какую степень двойки возведено число; -1: не является степенью двойки\n",
        "    tmp = 1\n",
        "    ans = 0\n",
        "    while tmp < number:\n",
        "        tmp *= 2\n",
        "        ans += 1\n",
        "    if number == tmp:\n",
        "        return ans\n",
        "    else:\n",
        "        return -1"
      ],
      "metadata": {
        "id": "5-4XwQiyIEuZ"
      },
      "execution_count": null,
      "outputs": []
    },
    {
      "cell_type": "markdown",
      "source": [
        "##Check_vector\n",
        "Проверяется, что вектор введен верно. \\\n",
        "Проверки:\n",
        "- Длина вектора (вектор не может быть < 2)\n",
        "- Состоит ли вектор только из \"0\" и \"1\""
      ],
      "metadata": {
        "id": "-JiKV1jQIIbh"
      }
    },
    {
      "cell_type": "code",
      "source": [
        "def check_vector(vec):\n",
        "    if len(vec) < 2:\n",
        "        return False\n",
        "    for char in vec:\n",
        "        if \"0\"<= char <= \"1\":\n",
        "            continue\n",
        "        return False\n",
        "    return True"
      ],
      "metadata": {
        "id": "x0tUm43sII60"
      },
      "execution_count": null,
      "outputs": []
    },
    {
      "cell_type": "markdown",
      "source": [
        "##SKNF\n",
        "Построение СКНФ"
      ],
      "metadata": {
        "id": "ocDS2RnEIQbM"
      }
    },
    {
      "cell_type": "code",
      "source": [
        "player_string = input(\"Введите вектор: \")\n",
        "player_string = player_string.replace(' ', '')\n",
        "\n",
        "if what_degree_two(len(player_string)) != -1 and check_vector(player_string):\n",
        "    tmp = 0\n",
        "    deg_t = what_degree_two(len(player_string))\n",
        "    ans = \"\"\n",
        "    for char in player_string:\n",
        "        if char == '0':\n",
        "            t = '0'*(deg_t - len(str(bin(tmp)[2:]))) + str(bin(tmp)[2:])\n",
        "            num_arg = 1\n",
        "            ans += \"(\"\n",
        "            for i in t:\n",
        "                if i == '1':\n",
        "                    ans += f\"-x{num_arg}\"\n",
        "                else:\n",
        "                    ans += f\"x{num_arg}\"\n",
        "                ans += \"v\"\n",
        "                num_arg += 1\n",
        "            ans = ans[:len(ans)-1]\n",
        "            ans += \")&\"\n",
        "        tmp += 1\n",
        "    ans = ans[:len(ans)-1]\n",
        "    print(\"СКНФ: \"+ ans)\n",
        "else:\n",
        "    print(\"Ошибка при вводе вектора!\")"
      ],
      "metadata": {
        "id": "ure58Z7zIQtq"
      },
      "execution_count": null,
      "outputs": []
    },
    {
      "cell_type": "markdown",
      "source": [
        "##Algorithm\n",
        "Проходим по всему вектору, если находится ноль, то смотрим по таблице истинности, где стоят нули заменить их на переменные, где стоят единицы заменить на переменные с отрицанием. Добавляем скобочки и знак дизъюнкции."
      ],
      "metadata": {
        "id": "GvbyBGm3IgRH"
      }
    },
    {
      "cell_type": "markdown",
      "source": [
        "#Task10\n",
        " Игра. Замкнутые классы б.ф. Система предлагает вектор функции. Пользователь должен\n",
        "выбрать замкнутые классы, которым эта функция принадлежит. Система определяет правильно\n",
        "выбраны классы или нет.\n",
        "\n"
      ],
      "metadata": {
        "id": "Iz0llUj4JRsM"
      }
    },
    {
      "cell_type": "markdown",
      "source": [
        "##Random_vector\n",
        "Создание рандомного вектора от vars_count переменных"
      ],
      "metadata": {
        "id": "j-wEudJBJkdC"
      }
    },
    {
      "cell_type": "code",
      "source": [
        "def random_vector(vars_count):\n",
        "    global vec\n",
        "    len_vector = 2 ** vars_count\n",
        "    count_all_vectors = 2 ** len_vector\n",
        "    tmp = int(random.random() * (10 ** len(str(count_all_vectors)))) % count_all_vectors\n",
        "    vec = str(bin(tmp)[2:])\n",
        "    vec = \"0\" * (len_vector - len(vec)) + vec\n",
        "    ans = ''\n",
        "    for i in range(1, len(vec) + 1):\n",
        "        ans += vec[i - 1]\n",
        "        if i % 4 == 0:\n",
        "            ans += ' '\n",
        "    return ans"
      ],
      "metadata": {
        "id": "6zSk7QhFJlKA"
      },
      "execution_count": null,
      "outputs": []
    },
    {
      "cell_type": "markdown",
      "source": [
        "##What_degree_two\n",
        "Функция принимает число и возвращает в какой оно степени двойки находится. Если число не является степенью двойки, то возвращает значение -1."
      ],
      "metadata": {
        "id": "hitzeHg3J3Uc"
      }
    },
    {
      "cell_type": "code",
      "source": [
        "def what_degree_two(number):  # В какую степень двойки возведено число; -1: не является степенью двойки\n",
        "    tmp = 1\n",
        "    ans = 0\n",
        "    while tmp < number:\n",
        "        tmp *= 2\n",
        "        ans += 1\n",
        "    if number == tmp:\n",
        "        return ans\n",
        "    else:\n",
        "        return -1"
      ],
      "metadata": {
        "id": "nhG4sGg-J35q"
      },
      "execution_count": null,
      "outputs": []
    },
    {
      "cell_type": "markdown",
      "source": [
        "##Check_t0\n",
        "Проверка на принадлежность классу Т0"
      ],
      "metadata": {
        "id": "C6onQnlqJ4c4"
      }
    },
    {
      "cell_type": "code",
      "source": [
        "# Проверка на сохраняющую 0\n",
        "def check_t0(vec):\n",
        "    if vec[0] == '0':\n",
        "        return True\n",
        "    return False"
      ],
      "metadata": {
        "id": "EMlU0zfqJ4wQ"
      },
      "execution_count": null,
      "outputs": []
    },
    {
      "cell_type": "markdown",
      "source": [
        "##Check_t1\n",
        "Проверка на принадлежность классу Т1"
      ],
      "metadata": {
        "id": "igEF5wgoJ9WF"
      }
    },
    {
      "cell_type": "code",
      "source": [
        "# Проверка на сохраняющую 1\n",
        "def check_t1(vec):\n",
        "    if vec[-1] == '1':\n",
        "        return True\n",
        "    return False"
      ],
      "metadata": {
        "id": "QAcWNnIwJ9ls"
      },
      "execution_count": null,
      "outputs": []
    },
    {
      "cell_type": "markdown",
      "source": [
        "##Check_s\n",
        "Проверка на принадлежность классу S"
      ],
      "metadata": {
        "id": "VOV1Tui7J-Cw"
      }
    },
    {
      "cell_type": "code",
      "source": [
        "# Проверка на самодвойственность\n",
        "def check_s(vec):\n",
        "    for char in range(int(len(vec) / 2)):\n",
        "        if vec[char] == vec[-1 - char]:\n",
        "            return False\n",
        "    return True"
      ],
      "metadata": {
        "id": "Nsdphjl6J-TK"
      },
      "execution_count": null,
      "outputs": []
    },
    {
      "cell_type": "markdown",
      "source": [
        "##Check_ln\n",
        "Проверка на принадлежность классу L"
      ],
      "metadata": {
        "id": "u0sHp7IUJ-zq"
      }
    },
    {
      "cell_type": "code",
      "source": [
        "# Проверка на линейность\n",
        "def check_ln(vec):\n",
        "    param = what_degree_two(len(vec))\n",
        "    arr = [0] * (param + 1)  # Массив для проверки линейности\n",
        "    arr[0] = int(vec[0])\n",
        "    tmp = 1\n",
        "    for i in range(1, param + 1):\n",
        "        t = '0' * (param - len(str(tmp))) + str(tmp)\n",
        "        arr[-i] = (arr[0] + int(vec[int(t, 2)])) % 2\n",
        "        tmp *= 10\n",
        "    ans_vec = str(arr[0])\n",
        "    for i in range(1, len(vec)):\n",
        "        t = str(bin(i)[2:])\n",
        "        t = '0' * (param - len(t)) + t\n",
        "        var_tmp = 0\n",
        "        for j in range(1, len(arr)):\n",
        "            if arr[j] == 1:\n",
        "                var_tmp += int(t[j - 1])\n",
        "        ans_vec += str((var_tmp + arr[0]) % 2)\n",
        "    if ans_vec == vec:\n",
        "        return True\n",
        "    return False"
      ],
      "metadata": {
        "id": "fjYdPQPiJ_HM"
      },
      "execution_count": null,
      "outputs": []
    },
    {
      "cell_type": "markdown",
      "source": [
        "##Sum_vec_pp\n",
        "Посимвольное смещение единицы вектора влево. \\\n",
        "- Пример_1 \\\n",
        "inp: 0001 \\\n",
        "out: 0010\n",
        "- Пример_2 \\\n",
        "inp: 0101 \\\n",
        "out: 0110\n",
        "- Пример_3 \\\n",
        "inp: 0110 \\\n",
        "out: 1001\n"
      ],
      "metadata": {
        "id": "GMB5F6LNJ_fS"
      }
    },
    {
      "cell_type": "code",
      "source": [
        "# Прибавляет 1 по \"обычному\"\n",
        "def sum_vec_pp(vec):\n",
        "    ans = list(vec)\n",
        "    check = False\n",
        "    t = -1\n",
        "    for i in range(len(vec) - 1, -1, -1):\n",
        "        if vec[i] == '1':\n",
        "            ans[i] = '0'\n",
        "            t += 1\n",
        "            check = True\n",
        "        if check:\n",
        "            if vec[i] == '0':\n",
        "                ans[i] = '1'\n",
        "                ans[i + 1] = '0'\n",
        "                check = False\n",
        "                break\n",
        "    if check == True:\n",
        "        return vec\n",
        "    for i in range(len(vec) - 1, -1, -1):\n",
        "        if t <= 0:\n",
        "            break\n",
        "        ans[i] = '1'\n",
        "        t -= 1\n",
        "    return \"\".join(ans)"
      ],
      "metadata": {
        "id": "EL-qbsGdJ_1m"
      },
      "execution_count": null,
      "outputs": []
    },
    {
      "cell_type": "markdown",
      "source": [
        "##Check_m\n",
        "Проверка на принадлежность классу M"
      ],
      "metadata": {
        "id": "TyHMoYvGKMPD"
      }
    },
    {
      "cell_type": "code",
      "source": [
        "# Проверка на монотонность\n",
        "def check_m(vec):\n",
        "    param = what_degree_two(len(vec))\n",
        "    mp_ans = {}\n",
        "    for i in range(len(vec)):\n",
        "        t = str(bin(i)[2:])\n",
        "        t = '0' * (param - len(t)) + t\n",
        "        mp_ans[t] = int(vec[i])\n",
        "\n",
        "    for i in range(1, param + 1):\n",
        "        real = []\n",
        "        nach_str = '0' * (param - len('1' * i)) + '1' * i\n",
        "        while nach_str != sum_vec_pp(nach_str):\n",
        "            for j in range(len(nach_str)):\n",
        "                if mp_ans[nach_str[:j] + '0' + nach_str[j + 1:]] > mp_ans[nach_str]:\n",
        "                    return False\n",
        "            nach_str = sum_vec_pp(nach_str)\n",
        "        for j in range(len(nach_str)):\n",
        "            if mp_ans[nach_str[:j] + '0' + nach_str[j + 1:]] > mp_ans[nach_str]:\n",
        "                return False\n",
        "    return True"
      ],
      "metadata": {
        "id": "uKgeiz1MKMlo"
      },
      "execution_count": null,
      "outputs": []
    },
    {
      "cell_type": "markdown",
      "source": [
        "##Print_ans\n",
        "Подготовка правильного ответа и отправка его пользователю"
      ],
      "metadata": {
        "id": "D7hJWiRXKReb"
      }
    },
    {
      "cell_type": "code",
      "source": [
        "def print_ans():\n",
        "    vec = ''\n",
        "    tmp = vector_label.cget('text').split()\n",
        "    for i in range(len(tmp)):\n",
        "        vec += tmp[i]\n",
        "    tmp = [0, 0, 0, 0, 0]\n",
        "    tmp[0] = check_t0(vec)\n",
        "    tmp[1] = check_t1(vec)\n",
        "    tmp[2] = check_s(vec)\n",
        "    tmp[3] = check_ln(vec)\n",
        "    tmp[4] = check_m(vec)\n",
        "    t = tmp[0] + tmp[1] + tmp[2] + tmp[3] + tmp[4]\n",
        "    ans = 'Система функций '\n",
        "    if t == 1:\n",
        "        ans += 'принадлежит следующему классу: '\n",
        "    elif t == 0:\n",
        "        ans += 'является полной'\n",
        "    else:\n",
        "        ans += 'принадлежит следующим классам: '\n",
        "    if tmp[0] == 1:\n",
        "        ans += 'T0 '\n",
        "    if tmp[1] == 1:\n",
        "        ans += 'T1 '\n",
        "    if tmp[2] == 1:\n",
        "        ans += 'S '\n",
        "    if tmp[3] == 1:\n",
        "        ans += 'L '\n",
        "    if tmp[4] == 1:\n",
        "        ans += 'M '\n",
        "    error_label.configure(text=f'{ans}', fg='green')\n",
        "    ans_button.pack_forget()"
      ],
      "metadata": {
        "id": "RdIG6Rb_KR9r"
      },
      "execution_count": null,
      "outputs": []
    },
    {
      "cell_type": "markdown",
      "source": [
        "##Send_answer\n",
        "Системная проверка ответа пользователя и показ кнопок новое задание, показать ответ и перепройти."
      ],
      "metadata": {
        "id": "IkggcM6MKS4P"
      }
    },
    {
      "cell_type": "code",
      "source": [
        "def send_answer():\n",
        "    vec = ''\n",
        "    tmp = vector_label.cget('text').split()\n",
        "    check_false_ans = False\n",
        "    for i in range(len(tmp)):\n",
        "        vec += tmp[i]\n",
        "    if var1.get() == check_t0(vec) and var2.get() == check_t1(vec) and var3.get() == check_s(vec) and \\\n",
        "            var4.get() == check_ln(vec) and var5.get() == check_m(vec):\n",
        "        error_label.configure(text='Правильный ответ!', fg='green')\n",
        "\n",
        "        new_button.pack(side='left')\n",
        "    else:\n",
        "        error_label.configure(text='Неправильный ответ!', fg='red')\n",
        "        check_false_ans = True\n",
        "\n",
        "        new_button.pack(side='left', padx=5)\n",
        "        remake_task_button.pack(side='left', padx=5)\n",
        "        if check_false_ans:\n",
        "            ans_button.pack(padx=5)\n",
        "\n",
        "    button_submit['state'] = 'disabled'\n",
        "    c1['state'] = 'disabled'\n",
        "    c2['state'] = 'disabled'\n",
        "    c3['state'] = 'disabled'\n",
        "    c4['state'] = 'disabled'\n",
        "    c5['state'] = 'disabled'"
      ],
      "metadata": {
        "id": "AOYr8Bg-KTKX"
      },
      "execution_count": null,
      "outputs": []
    },
    {
      "cell_type": "markdown",
      "source": [
        "##Go_next\n",
        "Функция отвечающая за кнопку новое задание"
      ],
      "metadata": {
        "id": "0rUwefvJKW8u"
      }
    },
    {
      "cell_type": "code",
      "source": [
        "def go_next():\n",
        "    button_submit['state'] = 'normal'\n",
        "    c1['state'] = 'normal'\n",
        "    c2['state'] = 'normal'\n",
        "    c3['state'] = 'normal'\n",
        "    c4['state'] = 'normal'\n",
        "    c5['state'] = 'normal'\n",
        "    vector_label.configure(text=random_vector(n_param.get()))\n",
        "\n",
        "    c1.deselect()\n",
        "    c2.deselect()\n",
        "    c3.deselect()\n",
        "    c4.deselect()\n",
        "    c5.deselect()\n",
        "\n",
        "    error_label.configure(text='')\n",
        "    new_button.pack_forget()\n",
        "    remake_task_button.pack_forget()\n",
        "    ans_button.pack_forget()"
      ],
      "metadata": {
        "id": "wXZbqM5WKXQa"
      },
      "execution_count": null,
      "outputs": []
    },
    {
      "cell_type": "markdown",
      "source": [
        "##Remake_task\n",
        "Функция отвечающая за кнопку перепройти"
      ],
      "metadata": {
        "id": "XpVFHCZwKZ6D"
      }
    },
    {
      "cell_type": "code",
      "source": [
        "def remake_task():\n",
        "    button_submit['state'] = 'normal'\n",
        "    c1['state'] = 'normal'\n",
        "    c2['state'] = 'normal'\n",
        "    c3['state'] = 'normal'\n",
        "    c4['state'] = 'normal'\n",
        "    c5['state'] = 'normal'\n",
        "\n",
        "    c1.deselect()\n",
        "    c2.deselect()\n",
        "    c3.deselect()\n",
        "    c4.deselect()\n",
        "    c5.deselect()\n",
        "\n",
        "    error_label.configure(text='')\n",
        "    new_button.pack_forget()\n",
        "    remake_task_button.pack_forget()\n",
        "    ans_button.pack_forget()"
      ],
      "metadata": {
        "id": "eDMkvn3wKaQh"
      },
      "execution_count": null,
      "outputs": []
    },
    {
      "cell_type": "markdown",
      "source": [
        "##Open_child_root\n",
        "Открывает дополнительное окно(справака)"
      ],
      "metadata": {
        "id": "bBKNWGhiKdOX"
      }
    },
    {
      "cell_type": "code",
      "source": [
        "def open_child_root():\n",
        "    child_root = tk.Toplevel(root)\n",
        "    child_root.title('Справка')\n",
        "    child_root.geometry('550x350+100+100')\n",
        "    child_root.resizable(False, False)\n",
        "    child_root.grab_set()\n",
        "    ans = \"\\nЕсли вы считаете утверждение верным - нажмите на флажок\\n\"\n",
        "    ans += \"\\nЕсли верных ответов нет - оставьте флажок пустым\\n\"\n",
        "    label = tk.Label(child_root, text=ans, font=('Arial', 12, 'normal'), justify='left').pack()"
      ],
      "metadata": {
        "id": "378K4dg-Kdgy"
      },
      "execution_count": null,
      "outputs": []
    },
    {
      "cell_type": "markdown",
      "source": [
        "##Draw_menu\n",
        "Выпадающее меню с настройкой кол-ва переменных."
      ],
      "metadata": {
        "id": "PuoUrPd0Kgyu"
      }
    },
    {
      "cell_type": "code",
      "source": [
        "# Выпадающие меню\n",
        "def draw_menu():\n",
        "    menu_bar = tk.Menu(root)\n",
        "    file_menu = tk.Menu(menu_bar, tearoff=0)\n",
        "    file_menu.add_radiobutton(label='1 переменная', value=1, variable=n_param, command=go_next,\n",
        "                              font=('Arial', 12, 'normal'))\n",
        "    file_menu.add_radiobutton(label='2 переменных', value=2, variable=n_param, command=go_next,\n",
        "                              font=('Arial', 12, 'normal'))\n",
        "    file_menu.add_radiobutton(label='3 переменных', value=3, variable=n_param, command=go_next,\n",
        "                              font=('Arial', 12, 'normal'))\n",
        "    file_menu.add_radiobutton(label='4 переменных', value=4, variable=n_param, command=go_next,\n",
        "                              font=('Arial', 12, 'normal'))\n",
        "    file_menu.add_radiobutton(label='5 переменных', value=5, variable=n_param, command=go_next,\n",
        "                              font=('Arial', 12, 'normal'))\n",
        "    menu_bar.add_cascade(label='Настройки', menu=file_menu)\n",
        "    root.configure(menu=menu_bar)"
      ],
      "metadata": {
        "id": "8VMmqp8XKhI-"
      },
      "execution_count": null,
      "outputs": []
    },
    {
      "cell_type": "markdown",
      "source": [
        "##Algorithm\n",
        "Выдаем случайно выбранный вектор пользователю. После нажатия на кнопку ответить, проверяем галочки, где пользователь их поставил и сравниваем с системной проверкой на принадлежность классам: \\\n",
        "```[T0, T1, S, L, M]``` \\\n",
        " Если совпало, то ответ верный."
      ],
      "metadata": {
        "id": "mgUe4MvXKsPk"
      }
    },
    {
      "cell_type": "markdown",
      "source": [
        "#Task11\n",
        " Игра. Полные системы б.ф. Система предлагает набор векторов функций. Пользователь\n",
        "определяет полным или нет является набор функций. Если система б.ф. неполна, то пользователь\n",
        "должен указать замкнутый класс, которому набор функций принадлежит."
      ],
      "metadata": {
        "id": "UNSq2KdkZwOP"
      }
    },
    {
      "cell_type": "markdown",
      "source": [
        "##Return_norm_vec\n",
        "Удаление пробелов в записи вектора и запись его с определенного символа."
      ],
      "metadata": {
        "id": "ev-CM0SGZ-Bu"
      }
    },
    {
      "cell_type": "code",
      "source": [
        "def return_norm_vec(svec, start):\n",
        "    ans = ''\n",
        "    for i in range(start, len(svec)):\n",
        "        ans += svec[i]\n",
        "    return ans.replace(' ', '')"
      ],
      "metadata": {
        "id": "5ITsate7aWyc"
      },
      "execution_count": null,
      "outputs": []
    },
    {
      "cell_type": "markdown",
      "source": [
        "##Vec_split\n",
        "Добавляет через каждые 4 символа пробел в вектор."
      ],
      "metadata": {
        "id": "eBkTKd9GaXrm"
      }
    },
    {
      "cell_type": "code",
      "source": [
        "def vec_split(vec):\n",
        "    tmp = ''\n",
        "    for i in range(1, len(vec) + 1):\n",
        "        tmp += vec[i - 1]\n",
        "        if i % 4 == 0:\n",
        "            tmp += ' '\n",
        "    return tmp"
      ],
      "metadata": {
        "id": "uKj6kL08aYCQ"
      },
      "execution_count": null,
      "outputs": []
    },
    {
      "cell_type": "markdown",
      "source": [
        "##Random_vector\n",
        "Создание рандомного вектора от vars_count переменных"
      ],
      "metadata": {
        "id": "OqCK4IuwaYto"
      }
    },
    {
      "cell_type": "code",
      "source": [
        "def random_vector(vars_count):\n",
        "    len_vector = 2 ** vars_count\n",
        "    count_all_vectors = 2 ** len_vector\n",
        "    tmp = int(random.random() * (10 ** len(str(count_all_vectors)))) % count_all_vectors\n",
        "    vec = str(bin(tmp)[2:])\n",
        "    vec = \"0\" * (len_vector - len(vec)) + vec\n",
        "    return vec_split(vec)"
      ],
      "metadata": {
        "id": "p8i9knTBaY-_"
      },
      "execution_count": null,
      "outputs": []
    },
    {
      "cell_type": "markdown",
      "source": [
        "##Random_vector2\n",
        "Усовершенствованный рандомайзер вектора. Есть 6 вариантов события: \\\n",
        "1. Система векторов будет принадлежать классу T0\n",
        "2. Система векторов будет принадлежать классу T1\n",
        "3. Система векторов будет принадлежать классу S\n",
        "4. Система векторов будет принадлежать классу L\n",
        "5. Система векторов будет принадлежать классу M\n",
        "6. Система векторов будет рандомно задана"
      ],
      "metadata": {
        "id": "kXIqasQdaZPi"
      }
    },
    {
      "cell_type": "code",
      "source": [
        "def random_vector2(vars_count):\n",
        "    ans = []\n",
        "    # Выбор к какому классу будет принадлежать\n",
        "    r = int(random.random() * 10) % 6  \n",
        "    if r == 0: #T0\n",
        "        while len(ans) < 4:\n",
        "            v = random_vector(vars_count)\n",
        "            if check_t0(return_norm_vec(v, 0)):\n",
        "                ans.append(v)\n",
        "    elif r == 1: #T1\n",
        "        while len(ans) < 4:\n",
        "            v = random_vector(vars_count)\n",
        "            if check_t1(return_norm_vec(v, 0)):\n",
        "                ans.append(v)\n",
        "    elif r == 2: #S\n",
        "        while len(ans) < 4:\n",
        "            ans_s1 = ''\n",
        "            ans_s2 = ''\n",
        "            for i in range(2**(vars_count-1)):\n",
        "                if int(random.random()*10) % 2 == 0:\n",
        "                    ans_s1 += '0'\n",
        "                    ans_s2 = '1' + ans_s2\n",
        "                else:\n",
        "                    ans_s1 += '1'\n",
        "                    ans_s2 = '0' + ans_s2\n",
        "            ans.append(vec_split(ans_s1 + ans_s2))\n",
        "    elif r == 3: #L\n",
        "        while len(ans) < 4:\n",
        "            ans_ln = ''\n",
        "            tmp = [0]*(vars_count+1)\n",
        "            tmp[0] = int(random.random()*10) % 2\n",
        "            for i in range(1, vars_count+1):\n",
        "                if int(random.random()*10) % 3 != 0:\n",
        "                    tmp[i] = 1\n",
        "            for i in range(2**vars_count):\n",
        "                vec = str(bin(i)[2:])\n",
        "                vec = \"0\" * (vars_count - len(vec)) + vec\n",
        "                tans = tmp[0]\n",
        "                for j in range(len(vec)):\n",
        "                    if tmp[j+1] == 1 and vec[j] == '1':\n",
        "                        tans += 1\n",
        "                ans_ln += str(tans % 2)\n",
        "            ans.append(vec_split(ans_ln))\n",
        "    elif r == 4: #M\n",
        "        while len(ans) < 4:\n",
        "            ans_m = ''\n",
        "            t_mp = {'0'*vars_count: '0'}\n",
        "            if int(random.random()*100) % 13 == 0:\n",
        "                t_mp['0'*vars_count] = '1'\n",
        "            ans_m += t_mp['0'*vars_count]\n",
        "            for i in range(1, 2**vars_count):\n",
        "                vec = str(bin(i)[2:])\n",
        "                vec = \"0\" * (vars_count - len(vec)) + vec\n",
        "                for j in range(len(vec)):\n",
        "                    if vec[j] == '1':\n",
        "                        tmp = vec[:j] + '0' + vec[j+1:]\n",
        "                        if t_mp[tmp] == '1':\n",
        "                            t_mp[vec] = '1'\n",
        "                            break\n",
        "                        else:\n",
        "                            if int(random.random()*10) % 7 != 0:\n",
        "                                t_mp[vec] = '0'\n",
        "                            else:\n",
        "                                t_mp[vec] = '1'\n",
        "                                break\n",
        "                ans_m += t_mp[vec]\n",
        "            ans.append(vec_split(ans_m))           \n",
        "    else: # random\n",
        "        while len(ans) < 4:\n",
        "            v = random_vector(vars_count)\n",
        "            ans.append(v)\n",
        "    return ans"
      ],
      "metadata": {
        "id": "3B2pUGQgaZik"
      },
      "execution_count": null,
      "outputs": []
    },
    {
      "cell_type": "markdown",
      "source": [
        "##What_degree_two\n",
        "Функция принимает число и возвращает в какой оно степени двойки находится. Если число не является степенью двойки, то возвращает значение -1."
      ],
      "metadata": {
        "id": "LOw_0QqXaZzs"
      }
    },
    {
      "cell_type": "code",
      "source": [
        "def what_degree_two(number):  # В какую степень двойки возведено число; -1: не является степенью двойки\n",
        "    tmp = 1\n",
        "    ans = 0\n",
        "    while tmp < number:\n",
        "        tmp *= 2\n",
        "        ans += 1\n",
        "    if number == tmp:\n",
        "        return ans\n",
        "    else:\n",
        "        return -1"
      ],
      "metadata": {
        "id": "uPHI6w3XaaJ9"
      },
      "execution_count": null,
      "outputs": []
    },
    {
      "cell_type": "markdown",
      "source": [
        "##Check_t0\n",
        "Проверка на принадлежность классу Т0"
      ],
      "metadata": {
        "id": "Fz66K1FMaamH"
      }
    },
    {
      "cell_type": "code",
      "source": [
        "# Проверка на сохраняющую 0\n",
        "def check_t0(vec):\n",
        "    if vec[0] == '0':\n",
        "        return True\n",
        "    return False"
      ],
      "metadata": {
        "id": "8ibkz8ZGaa32"
      },
      "execution_count": null,
      "outputs": []
    },
    {
      "cell_type": "markdown",
      "source": [
        "##Check_t1\n",
        "Проверка на принадлежность классу Т1"
      ],
      "metadata": {
        "id": "MKOYw8w6abHM"
      }
    },
    {
      "cell_type": "code",
      "source": [
        "# Проверка на сохраняющую 1\n",
        "def check_t1(vec):\n",
        "    if vec[-1] == '1':\n",
        "        return True\n",
        "    return False"
      ],
      "metadata": {
        "id": "MFybp5lvabc1"
      },
      "execution_count": null,
      "outputs": []
    },
    {
      "cell_type": "markdown",
      "source": [
        "##Check_s\n",
        "Проверка на принадлежность классу S"
      ],
      "metadata": {
        "id": "Ifhcpcugab9W"
      }
    },
    {
      "cell_type": "code",
      "source": [
        "# Проверка на самодвойственность\n",
        "def check_s(vec):\n",
        "    for char in range(int(len(vec) / 2)):\n",
        "        if vec[char] == vec[-1 - char]:\n",
        "            return False\n",
        "    return True"
      ],
      "metadata": {
        "id": "YHuD3oOsacM-"
      },
      "execution_count": null,
      "outputs": []
    },
    {
      "cell_type": "markdown",
      "source": [
        "##Check_ln\n",
        "Проверка на принадлежность классу L"
      ],
      "metadata": {
        "id": "NJTiKxunbAC9"
      }
    },
    {
      "cell_type": "code",
      "source": [
        "# Проверка на линейность\n",
        "def check_ln(vec):\n",
        "    param = what_degree_two(len(vec))\n",
        "    arr = [0] * (param + 1)  # Массив для проверки линейности\n",
        "    arr[0] = int(vec[0])\n",
        "    tmp = 1\n",
        "    for i in range(1, param + 1):\n",
        "        t = '0' * (param - len(str(tmp))) + str(tmp)\n",
        "        arr[-i] = (arr[0] + int(vec[int(t, 2)])) % 2\n",
        "        tmp *= 10\n",
        "    ans_vec = str(arr[0])\n",
        "    for i in range(1, len(vec)):\n",
        "        t = str(bin(i)[2:])\n",
        "        t = '0' * (param - len(t)) + t\n",
        "        var_tmp = 0\n",
        "        for j in range(1, len(arr)):\n",
        "            if arr[j] == 1:\n",
        "                var_tmp += int(t[j - 1])\n",
        "        ans_vec += str((var_tmp + arr[0]) % 2)\n",
        "    if ans_vec == vec:\n",
        "        return True\n",
        "    return False"
      ],
      "metadata": {
        "id": "MFTCUNknbAUq"
      },
      "execution_count": null,
      "outputs": []
    },
    {
      "cell_type": "markdown",
      "source": [
        "##Sum_vec_pp\n",
        "Посимвольное смещение единицы вектора влево. \\\n",
        "- Пример_1 \\\n",
        "inp: 0001 \\\n",
        "out: 0010\n",
        "- Пример_2 \\\n",
        "inp: 0101 \\\n",
        "out: 0110\n",
        "- Пример_3 \\\n",
        "inp: 0110 \\\n",
        "out: 1001"
      ],
      "metadata": {
        "id": "F0nHRaTebAo1"
      }
    },
    {
      "cell_type": "code",
      "source": [
        "# Прибавляет 1 по \"обычному\"\n",
        "def sum_vec_pp(vec):\n",
        "    ans = list(vec)\n",
        "    check = False\n",
        "    t = -1\n",
        "    for i in range(len(vec) - 1, -1, -1):\n",
        "        if vec[i] == '1':\n",
        "            ans[i] = '0'\n",
        "            t += 1\n",
        "            check = True\n",
        "        if check:\n",
        "            if vec[i] == '0':\n",
        "                ans[i] = '1'\n",
        "                ans[i + 1] = '0'\n",
        "                check = False\n",
        "                break\n",
        "    if check == True:\n",
        "        return vec\n",
        "    for i in range(len(vec) - 1, -1, -1):\n",
        "        if t <= 0:\n",
        "            break\n",
        "        ans[i] = '1'\n",
        "        t -= 1\n",
        "    return \"\".join(ans)"
      ],
      "metadata": {
        "id": "BdPItNNsbA7a"
      },
      "execution_count": null,
      "outputs": []
    },
    {
      "cell_type": "markdown",
      "source": [
        "##Check_m\n",
        "Проверка на принадлежность классу M"
      ],
      "metadata": {
        "id": "qsqrDmedbBOi"
      }
    },
    {
      "cell_type": "code",
      "source": [
        "# Проверка на монотонность\n",
        "def check_m(vec):\n",
        "    param = what_degree_two(len(vec))\n",
        "    mp_ans = {}\n",
        "    for i in range(len(vec)):\n",
        "        t = str(bin(i)[2:])\n",
        "        t = '0' * (param - len(t)) + t\n",
        "        mp_ans[t] = int(vec[i])\n",
        "\n",
        "    for i in range(1, param + 1):\n",
        "        real = []\n",
        "        nach_str = '0' * (param - len('1' * i)) + '1' * i\n",
        "        while nach_str != sum_vec_pp(nach_str):\n",
        "            for j in range(len(nach_str)):\n",
        "                if mp_ans[nach_str[:j] + '0' + nach_str[j + 1:]] > mp_ans[nach_str]:\n",
        "                    return False\n",
        "            nach_str = sum_vec_pp(nach_str)\n",
        "        for j in range(len(nach_str)):\n",
        "            if mp_ans[nach_str[:j] + '0' + nach_str[j + 1:]] > mp_ans[nach_str]:\n",
        "                return False\n",
        "    return True"
      ],
      "metadata": {
        "id": "NZBV_GvCbBjR"
      },
      "execution_count": null,
      "outputs": []
    },
    {
      "cell_type": "markdown",
      "source": [
        "##Check_completeness\n",
        "Создается массив ответов на принадлежность к классам: ```[T0, T1, S, L, M]``` \\"
      ],
      "metadata": {
        "id": "CyXwMwIsbB71"
      }
    },
    {
      "cell_type": "code",
      "source": [
        "# Проверка системы на полноту\n",
        "def check_completeness(vec):\n",
        "    ans = [1, 1, 1, 1, 1]\n",
        "    for v in vec:\n",
        "        if not check_t0(v):\n",
        "            ans[0] = 0\n",
        "        if not check_t1(v):\n",
        "            ans[1] = 0\n",
        "        if not check_s(v):\n",
        "            ans[2] = 0\n",
        "        if not check_ln(v):\n",
        "            ans[3] = 0\n",
        "        if not check_m(v):\n",
        "            ans[4] = 0\n",
        "    return ans"
      ],
      "metadata": {
        "id": "ov1_SmoZbCPW"
      },
      "execution_count": null,
      "outputs": []
    },
    {
      "cell_type": "markdown",
      "source": [
        "##Print_ans\n",
        "Подготовка правильного ответа и отправка его пользователю"
      ],
      "metadata": {
        "id": "A1gQ_YQnbCiC"
      }
    },
    {
      "cell_type": "code",
      "source": [
        "def print_ans():\n",
        "    vec1 = return_norm_vec(vector_label1.cget('text').split(), 1)\n",
        "    vec2 = return_norm_vec(vector_label2.cget('text').split(), 1)\n",
        "    vec3 = return_norm_vec(vector_label3.cget('text').split(), 1)\n",
        "    vec4 = return_norm_vec(vector_label4.cget('text').split(), 1)\n",
        "\n",
        "    tmp = check_completeness([vec1, vec2, vec3, vec4])\n",
        "    t = 0\n",
        "    for i in tmp:\n",
        "        if i == 1:\n",
        "            t += 1\n",
        "    ans = 'Система функций '\n",
        "    if t == 1:\n",
        "        ans += 'принадлежит следующему классу: '\n",
        "    elif t == 0:\n",
        "        ans += 'является полной'\n",
        "    else:\n",
        "        ans += 'принадлежит следующим классам: '\n",
        "    if tmp[0] == 1:\n",
        "        ans += 'T0 '\n",
        "    if tmp[1] == 1:\n",
        "        ans += 'T1 '\n",
        "    if tmp[2] == 1:\n",
        "        ans += 'S '\n",
        "    if tmp[3] == 1:\n",
        "        ans += 'L '\n",
        "    if tmp[4] == 1:\n",
        "        ans += 'M '\n",
        "    error_label.configure(text=f'{ans}', fg='green')\n",
        "    ans_button.pack_forget()"
      ],
      "metadata": {
        "id": "1DQBd6GlbC1O"
      },
      "execution_count": null,
      "outputs": []
    },
    {
      "cell_type": "markdown",
      "source": [
        "##Send_answer\n",
        "Системная проверка ответа пользователя и показ кнопок новое задание, показать ответ и перепройти."
      ],
      "metadata": {
        "id": "dF2qShjQbggx"
      }
    },
    {
      "cell_type": "code",
      "source": [
        "# Проверка ответа пользователя\n",
        "def send_answer():\n",
        "    vec1 = return_norm_vec(vector_label1.cget('text').split(), 1)\n",
        "    vec2 = return_norm_vec(vector_label2.cget('text').split(), 1)\n",
        "    vec3 = return_norm_vec(vector_label3.cget('text').split(), 1)\n",
        "    vec4 = return_norm_vec(vector_label4.cget('text').split(), 1)\n",
        "\n",
        "    ans = check_completeness([vec1, vec2, vec3, vec4])\n",
        "    p_sis = 1\n",
        "    for i in ans:\n",
        "        if i == 1:\n",
        "            p_sis = 0\n",
        "            break\n",
        "    check_false_ans = False\n",
        "    if (var1.get() == True and p_sis == 1) or (var1.get() == False and p_sis == 0):\n",
        "        error_label.configure(text='Неправильный ответ!', fg='red')\n",
        "        check_false_ans = True\n",
        "\n",
        "        new_button.pack(side='left', padx=5)\n",
        "        remake_task_button.pack(side='left', padx=5)\n",
        "        if check_false_ans:\n",
        "            ans_button.pack(side='left', padx=5)\n",
        "    elif var1.get() == False and p_sis == 1:\n",
        "        error_label.configure(text='Правильный ответ!', fg='green')\n",
        "\n",
        "        new_button.pack(side='left')\n",
        "    elif var4_t0.get() == ans[0] and var4_t1.get() == ans[1] and var4_s.get() == ans[2] and \\\n",
        "            var4_ln.get() == ans[3] and var4_m.get() == ans[4]:\n",
        "        error_label.configure(text='Правильный ответ!', fg='green')\n",
        "\n",
        "        new_button.pack(side='left')\n",
        "    else:\n",
        "        error_label.configure(text='Неправильный ответ!', fg='red')\n",
        "        check_false_ans = True\n",
        "\n",
        "        new_button.pack(side='left', padx=5)\n",
        "        remake_task_button.pack(side='left', padx=5)\n",
        "\n",
        "        if check_false_ans:\n",
        "            ans_button.pack(side='left', padx=5)\n",
        "\n",
        "    button_submit['state'] = 'disabled'\n",
        "    cb1['state'] = 'disabled'\n",
        "    cb4_t0['state'] = 'disabled'\n",
        "    cb4_t1['state'] = 'disabled'\n",
        "    cb4_s['state'] = 'disabled'\n",
        "    cb4_ln['state'] = 'disabled'\n",
        "    cb4_m['state'] = 'disabled'"
      ],
      "metadata": {
        "id": "H2ewLrAKbgyy"
      },
      "execution_count": null,
      "outputs": []
    },
    {
      "cell_type": "markdown",
      "source": [
        "##Open_child_root\n",
        "Открывает дополнительное окно(справака)"
      ],
      "metadata": {
        "id": "iZ8nBKJMbhLF"
      }
    },
    {
      "cell_type": "code",
      "source": [
        "def open_child_root():\n",
        "    child_root = tk.Toplevel(root)\n",
        "    child_root.title('Справка')\n",
        "    child_root.geometry('550x350+100+100')\n",
        "    child_root.resizable(False, False)\n",
        "    child_root.grab_set()\n",
        "    ans = \"\\nЕсли вы считаете утверждение верным - нажмите на флажок\\n\"\n",
        "    label_ch1 = tk.Label(child_root, text=ans, font=('Arial', 12, 'normal'), justify='left').pack()\n",
        "    ans = \"\\nЕсли верных ответов нет - оставьте флажок пустым\\n\"\n",
        "    label_ch2 = tk.Label(child_root, text=ans, font=('Arial', 12, 'normal'), justify='left').pack()"
      ],
      "metadata": {
        "id": "xyADBzbBbhaM"
      },
      "execution_count": null,
      "outputs": []
    },
    {
      "cell_type": "markdown",
      "source": [
        "##Open_cb1 and close_cb1\n",
        "Показ и скрытие замкнутых классов ```[T0, T1, S, L, M]```"
      ],
      "metadata": {
        "id": "3r8f1KQAbnPa"
      }
    },
    {
      "cell_type": "code",
      "source": [
        "def open_cb1():\n",
        "    cb4_t0.pack(side='left')\n",
        "    cb4_t1.pack(side='left')\n",
        "    cb4_s.pack(side='left')\n",
        "    cb4_ln.pack(side='left')\n",
        "    cb4_m.pack(side='left')\n",
        "    cb1.configure(command=close_cb1)\n",
        "\n",
        "\n",
        "def close_cb1():\n",
        "    cb4_t0.pack_forget()\n",
        "    cb4_t1.pack_forget()\n",
        "    cb4_s.pack_forget()\n",
        "    cb4_ln.pack_forget()\n",
        "    cb4_m.pack_forget()\n",
        "    cb1.configure(command=open_cb1)"
      ],
      "metadata": {
        "id": "USGvik-LbnsN"
      },
      "execution_count": null,
      "outputs": []
    },
    {
      "cell_type": "markdown",
      "source": [
        "##Go_next\n",
        "Функция отвечающая за кнопку новое задание"
      ],
      "metadata": {
        "id": "ylQzshGtbn_h"
      }
    },
    {
      "cell_type": "code",
      "source": [
        "def go_next():\n",
        "    button_submit['state'] = 'normal'\n",
        "    cb1['state'] = 'normal'\n",
        "    cb4_t0['state'] = 'normal'\n",
        "    cb4_t1['state'] = 'normal'\n",
        "    cb4_s['state'] = 'normal'\n",
        "    cb4_ln['state'] = 'normal'\n",
        "    cb4_m['state'] = 'normal'\n",
        "    vec = random_vector2(n_param.get())\n",
        "    vector_label1.configure(text=f'1. {vec[0]}')\n",
        "    vector_label2.configure(text=f'2. {vec[1]}')\n",
        "    vector_label3.configure(text=f'3. {vec[2]}')\n",
        "    vector_label4.configure(text=f'4. {vec[3]}')\n",
        "\n",
        "    cb1.deselect()\n",
        "\n",
        "    cb4_t0.deselect()\n",
        "    cb4_t1.deselect()\n",
        "    cb4_s.deselect()\n",
        "    cb4_ln.deselect()\n",
        "    cb4_m.deselect()\n",
        "\n",
        "    close_cb1()\n",
        "    error_label.configure(text='')\n",
        "    new_button.pack_forget()\n",
        "    remake_task_button.pack_forget()\n",
        "    ans_button.pack_forget()"
      ],
      "metadata": {
        "id": "LEHfVhogboUH"
      },
      "execution_count": null,
      "outputs": []
    },
    {
      "cell_type": "markdown",
      "source": [
        "##Remake_task\n",
        "Функция отвечающая за кнопку перепройти"
      ],
      "metadata": {
        "id": "mT52Xm-bbyBu"
      }
    },
    {
      "cell_type": "code",
      "source": [
        "def remake_task():\n",
        "    button_submit['state'] = 'normal'\n",
        "    cb1['state'] = 'normal'\n",
        "    cb4_t0['state'] = 'normal'\n",
        "    cb4_t1['state'] = 'normal'\n",
        "    cb4_s['state'] = 'normal'\n",
        "    cb4_ln['state'] = 'normal'\n",
        "    cb4_m['state'] = 'normal'\n",
        "\n",
        "    cb1.deselect()\n",
        "    cb4_t0.deselect()\n",
        "    cb4_t1.deselect()\n",
        "    cb4_s.deselect()\n",
        "    cb4_ln.deselect()\n",
        "    cb4_m.deselect()\n",
        "    close_cb1()\n",
        "\n",
        "    error_label.configure(text='')\n",
        "    new_button.pack_forget()\n",
        "    remake_task_button.pack_forget()\n",
        "    ans_button.pack_forget()"
      ],
      "metadata": {
        "id": "qaHRRRzGbyV4"
      },
      "execution_count": null,
      "outputs": []
    },
    {
      "cell_type": "markdown",
      "source": [
        "##Draw_menu\n",
        "Выпадающее меню с настройкой кол-ва переменных."
      ],
      "metadata": {
        "id": "ynMu_RG0b0yz"
      }
    },
    {
      "cell_type": "code",
      "source": [
        "# Выпадающие меню\n",
        "def draw_menu():\n",
        "    menu_bar = tk.Menu(root)\n",
        "    file_menu = tk.Menu(menu_bar, tearoff=0)\n",
        "    file_menu.add_radiobutton(label='1 переменная', value=1, variable=n_param, command=go_next,\n",
        "                              font=('Arial', 12, 'normal'))\n",
        "    file_menu.add_radiobutton(label='2 переменных', value=2, variable=n_param, command=go_next,\n",
        "                              font=('Arial', 12, 'normal'))\n",
        "    file_menu.add_radiobutton(label='3 переменных', value=3, variable=n_param, command=go_next,\n",
        "                              font=('Arial', 12, 'normal'))\n",
        "    file_menu.add_radiobutton(label='4 переменных', value=4, variable=n_param, command=go_next,\n",
        "                              font=('Arial', 12, 'normal'))\n",
        "    file_menu.add_radiobutton(label='5 переменных', value=5, variable=n_param, command=go_next,\n",
        "                              font=('Arial', 12, 'normal'))\n",
        "    menu_bar.add_cascade(label='Настройки', menu=file_menu)\n",
        "    root.configure(menu=menu_bar)"
      ],
      "metadata": {
        "id": "Ik90nGrVb1UU"
      },
      "execution_count": null,
      "outputs": []
    },
    {
      "cell_type": "markdown",
      "source": [
        "##Algorithm\n",
        "Выдаем случайно систему векторов пользователю. После нажатия на кнопку ответить, проверяем галочки, где пользователь их поставил и сравниваем с системной проверкой на принадлежность классам: \\\n",
        "```[T0, T1, S, L, M]``` \\\n",
        " Если совпало, то ответ верный. \\"
      ],
      "metadata": {
        "id": "G6Z3fb_Ti1p1"
      }
    },
    {
      "cell_type": "markdown",
      "source": [
        "#Task12_V1\n",
        "Реализация алгоритмов построения ДНФ."
      ],
      "metadata": {
        "id": "vnRNAwIBjGg9"
      }
    },
    {
      "cell_type": "markdown",
      "source": [
        "##Algorithm\n",
        "По вектору функции строится СДНФ, затем используя операции ```¬x ∨ x = 1``` и ```x ∨ x = x``` получаем минимальный ДНФ"
      ],
      "metadata": {
        "id": "vABV0T5gjWM_"
      }
    },
    {
      "cell_type": "markdown",
      "source": [
        "##String_standard\n",
        "Приводим значения пользователя в стандарт, в котором удобно работать внутри системы."
      ],
      "metadata": {
        "id": "FsOf_ybqoQvr"
      }
    },
    {
      "cell_type": "code",
      "source": [
        "def string_standard(player_string):\n",
        "    player_string = player_string.replace(' ', '').lower()\n",
        "    player_string = player_string.replace('&', '')\n",
        "    player_string = player_string.replace('*', '')\n",
        "    player_string = player_string.replace('(', '')\n",
        "    player_string = player_string.replace(')', '')\n",
        "    player_string = player_string.replace('x', '')\n",
        "    player_string = player_string.split('v')\n",
        "    return player_string"
      ],
      "metadata": {
        "id": "Fs_kLfbmoPiT"
      },
      "execution_count": null,
      "outputs": []
    },
    {
      "cell_type": "markdown",
      "source": [
        "##What_degree_two\n",
        "Функция принимает число и возвращает в какой оно степени двойки находится. Если число не является степенью двойки, то возвращает значение -1."
      ],
      "metadata": {
        "id": "C5882OVQoZh-"
      }
    },
    {
      "cell_type": "code",
      "source": [
        "def what_degree_two(number): # В какую степень двойки возведено число; -1: не является степенью двойки\n",
        "    tmp = 1\n",
        "    ans = 0\n",
        "    while tmp < number:\n",
        "        tmp *= 2\n",
        "        ans += 1\n",
        "    if number == tmp:\n",
        "        return ans\n",
        "    else:\n",
        "        return -1"
      ],
      "metadata": {
        "id": "OC-RzLI9oZ3n"
      },
      "execution_count": null,
      "outputs": []
    },
    {
      "cell_type": "markdown",
      "source": [
        "##SDNF\n",
        "Построение СДНФ по вектору"
      ],
      "metadata": {
        "id": "GrZc0UE5oaQ_"
      }
    },
    {
      "cell_type": "code",
      "source": [
        "def sdnf(player_string, ):\n",
        "    tmp = 0\n",
        "    deg_t = what_degree_two(len(player_string))\n",
        "    ans = \"\"\n",
        "    for char in player_string:\n",
        "        if char == '1':\n",
        "            t = '0'*(deg_t - len(str(bin(tmp)[2:]))) + str(bin(tmp)[2:])\n",
        "            num_arg = 1\n",
        "            ans += \"(\"\n",
        "            for i in t:\n",
        "                if i == '0':\n",
        "                    ans += f\"-x{num_arg}\"\n",
        "                else:\n",
        "                    ans += f\"x{num_arg}\"\n",
        "                num_arg += 1\n",
        "            ans += \")v\"\n",
        "        tmp += 1\n",
        "    ans = ans[:len(ans)-1]\n",
        "    return ans"
      ],
      "metadata": {
        "id": "V9LuvcOuoajh"
      },
      "execution_count": null,
      "outputs": []
    },
    {
      "cell_type": "markdown",
      "source": [
        "##Check_vector\n",
        "Проверяется, что вектор введен верно. \\\n",
        "Проверки:\n",
        "- Длина вектора (вектор не может быть < 2)\n",
        "- Является ли длина вектора степенью двойки\n",
        "- Состоит ли вектор только из \"0\" и \"1\""
      ],
      "metadata": {
        "id": "_FaFp-CVoe4P"
      }
    },
    {
      "cell_type": "code",
      "source": [
        "def check_vector(vec):\n",
        "    if len(vec) < 2:\n",
        "        return False\n",
        "    if what_degree_two(len(vec)) == -1:\n",
        "        return False\n",
        "    for char in vec:\n",
        "        if \"0\"<= char <= \"1\":\n",
        "            continue\n",
        "        return False\n",
        "    return True"
      ],
      "metadata": {
        "id": "4ZrURGDPofai"
      },
      "execution_count": null,
      "outputs": []
    },
    {
      "cell_type": "markdown",
      "source": [
        "##Reduction\n",
        "Сокращение СДНФ, используются операции ```¬x ∨ x = 1``` и ```x ∨ x = x```"
      ],
      "metadata": {
        "id": "8jRGMfslohVZ"
      }
    },
    {
      "cell_type": "code",
      "source": [
        "def reduction(player_string, rek):\n",
        "    s = player_string\n",
        "    for q in range(rek):\n",
        "        ans = set()\n",
        "        tmp_ans = []\n",
        "        for ti in range(len(s)):\n",
        "            tmp_ans.append(0)\n",
        "        for ti in range(len(s)):\n",
        "            map_tmp1 = []\n",
        "            zn = 1\n",
        "            for char in s[ti]:\n",
        "                if char == '-':\n",
        "                    zn = -1\n",
        "                    continue\n",
        "                map_tmp1.append(zn*int(char))\n",
        "                zn = 1\n",
        "            #print(map_tmp1)\n",
        "            for tj in range(ti+1,len(s), 1):\n",
        "                map_tmp2 = []\n",
        "                zn = 1\n",
        "                for char in s[tj]:\n",
        "                    if char == '-':\n",
        "                        zn = -1\n",
        "                        continue\n",
        "                    map_tmp2.append(zn*int(char))\n",
        "                    zn = 1\n",
        "                if len(map_tmp2) == len(map_tmp1):\n",
        "                    razl = 0\n",
        "                    for i in range(len(map_tmp1)):\n",
        "                        if abs(map_tmp2[i]) != abs(map_tmp1[i]):\n",
        "                            razl = -1\n",
        "                            break\n",
        "                        if map_tmp2[i] != map_tmp1[i]:\n",
        "                            razl += 1\n",
        "                    if razl == 1:\n",
        "                        s1 = \"\"\n",
        "                        for i in range(len(map_tmp1)):\n",
        "                            if map_tmp2[i] != map_tmp1[i]:\n",
        "                                continue\n",
        "                            s1 += str(map_tmp1[i])\n",
        "                        tmp_ans[ti] = 1\n",
        "                        tmp_ans[tj] = 1\n",
        "                        ans.add(s1)\n",
        "        for i in range(len(s)):\n",
        "            if 0 == tmp_ans[i]:\n",
        "                ans.add(s[i])\n",
        "        s = list(ans)\n",
        "    ans_string = \"\"\n",
        "    for i in range(len(s)):\n",
        "        zn = \"\"\n",
        "        ans_string += \"(\"\n",
        "        for j in s[i]:\n",
        "            if j == '-':\n",
        "                zn = \"-\"\n",
        "                continue\n",
        "            ans_string += zn + \"x\" + j\n",
        "            zn = \"\"\n",
        "        ans_string += \")\"\n",
        "        ans_string += \"v\"\n",
        "    return ans_string[:len(ans_string)-1]"
      ],
      "metadata": {
        "id": "mwQdDptTohm6"
      },
      "execution_count": null,
      "outputs": []
    },
    {
      "cell_type": "markdown",
      "source": [
        "##Main\n",
        "Основная программа. Проверяет входные данные, приводит их к стандарту и использует сокращение и выводит ответ пользователю."
      ],
      "metadata": {
        "id": "ezmC6o3KolSe"
      }
    },
    {
      "cell_type": "code",
      "source": [
        "player_string = input(\"Введите вектор: \")\n",
        "player_string = player_string.replace(' ', '')\n",
        "\n",
        "if check_vector(player_string):\n",
        "    s = string_standard(sdnf(player_string))\n",
        "    ans = reduction(s, what_degree_two(len(player_string)))\n",
        "    print(ans)  \n",
        "else:\n",
        "    print(\"Ошибка при вводе вектора!\")"
      ],
      "metadata": {
        "id": "pY7_HIo7ongB"
      },
      "execution_count": null,
      "outputs": []
    },
    {
      "cell_type": "markdown",
      "source": [
        "#Task12_V2\n",
        "Реализация алгоритмов построения ДНФ."
      ],
      "metadata": {
        "id": "euAMTkC3jV4x"
      }
    },
    {
      "cell_type": "markdown",
      "source": [
        "##Algorithm\n",
        "Строится таблица из всех возможных вариантов переменных. Пример таблицы(от трех переменных) \\\n",
        "Вектор функции: 00010001\n",
        "```\n",
        "==========================================================\n",
        "| -x1-x2-x3 | -x1-x2 | -x1-x3 | -x2-x3 | -x1 | -x2 | -x3 | 0\n",
        "----------------------------------------------------------\n",
        "| -x1-x2x3  | -x1-x2 | -x1x3  | -x2x3  | -x1 | -x2 | x3  | 0\n",
        "----------------------------------------------------------\n",
        "| -x1x2-x3  | -x1x2  | -x1-x3 | x2-x3  | -x1 | x2  | -x3 | 0\n",
        "----------------------------------------------------------\n",
        "|  -x1x2x3  | -x1x2  | -x1x3  |  x2x3  | -x1 | x2  | x3  | 1\n",
        "----------------------------------------------------------\n",
        "| x1-x2-x3  | x1-x2  | x1-x3  | -x2-x3 | x1  | -x2 | -x3 | 0\n",
        "----------------------------------------------------------\n",
        "|  x1-x2x3  | x1-x2  |  x1x3  | -x2x3  | x1  | -x2 | x3  | 0\n",
        "----------------------------------------------------------\n",
        "|  x1x2-x3  |  x1x2  | x1-x3  | x2-x3  | x1  | x2  | -x3 | 0\n",
        "----------------------------------------------------------\n",
        "|  x1x2x3   |  x1x2  |  x1x3  |  x2x3  | x1  | x2  | x3  | 1\n",
        "==========================================================\n",
        "```\n",
        "Где стоят нули проходим построчно и убираем значения по столбцам, которые совпали со значением в данной клетке:\n",
        "```\n",
        "==========================================================\n",
        "|    -1     |   -1   |   -1   |   -1   | -1  | -1  | -1  |\n",
        "----------------------------------------------------------\n",
        "|    -1     |   -1   |   -1   |   -1   | -1  | -1  | -1  |\n",
        "----------------------------------------------------------\n",
        "|    -1     |   -1   |   -1   |   -1   | -1  | -1  | -1  |\n",
        "----------------------------------------------------------\n",
        "|  -x1x2x3  |   -1   |   -1   |  x2x3  | -1  | -1  | -1  |\n",
        "----------------------------------------------------------\n",
        "|    -1     |   -1   |   -1   |   -1   | -1  | -1  | -1  |\n",
        "----------------------------------------------------------\n",
        "|    -1     |   -1   |   -1   |   -1   | -1  | -1  | -1  |\n",
        "----------------------------------------------------------\n",
        "|    -1     |   -1   |   -1   |   -1   | -1  | -1  | -1  |\n",
        "----------------------------------------------------------\n",
        "|  x1x2x3   |   -1   |   -1   |  x2x3  | -1  | -1  | -1  |\n",
        "==========================================================\n",
        "```\n",
        "Пропускаем первую клетку и проверяем, где есть одиночные значения выбираем их. Проходим по столбцам(первый столбик тоже проходим) начиная с правого верхнего угла таблицы и выбираем значения, будут более выгодны. \\\n",
        "Минимальная ДНФ для примера: ```x2x3```\n"
      ],
      "metadata": {
        "id": "otcZ-pNkjgQ7"
      }
    },
    {
      "cell_type": "markdown",
      "source": [
        "##What_degree_two\n",
        "Функция принимает число и возвращает в какой оно степени двойки находится. Если число не является степенью двойки, то возвращает значение -1."
      ],
      "metadata": {
        "id": "ucVJObG3ormn"
      }
    },
    {
      "cell_type": "code",
      "source": [
        "def what_degree_two(number): # В какую степень двойки возведено число; -1: не является степенью двойки\n",
        "    tmp = 1\n",
        "    ans = 0\n",
        "    while tmp < number:\n",
        "        tmp *= 2\n",
        "        ans += 1\n",
        "    if number == tmp:\n",
        "        return ans\n",
        "    else:\n",
        "        return -1"
      ],
      "metadata": {
        "id": "lk_EsaLLor44"
      },
      "execution_count": null,
      "outputs": []
    },
    {
      "cell_type": "markdown",
      "source": [
        "##Check_vector\n",
        "Проверяется, что вектор введен верно. \\\n",
        "Проверки:\n",
        "- Длина вектора (вектор не может быть < 2)\n",
        "- Является ли длина вектора степенью двойки\n",
        "- Состоит ли вектор только из \"0\" и \"1\""
      ],
      "metadata": {
        "id": "c0zAzdVaoviv"
      }
    },
    {
      "cell_type": "code",
      "source": [
        "def check_vector(vec):\n",
        "    if len(vec) < 2:\n",
        "        return False\n",
        "    if what_degree_two(len(vec)) == -1:\n",
        "        return False\n",
        "    for char in vec:\n",
        "        if \"0\"<= char <= \"1\":\n",
        "            continue\n",
        "        return False\n",
        "    return True"
      ],
      "metadata": {
        "id": "WmzTc1MBozqm"
      },
      "execution_count": null,
      "outputs": []
    },
    {
      "cell_type": "markdown",
      "source": [
        "##Next_znach\n",
        "Получение следующего значения из числа сочетаний."
      ],
      "metadata": {
        "id": "0SfKeRw8oy67"
      }
    },
    {
      "cell_type": "code",
      "source": [
        "#Получение числа сочетаний\n",
        "#Входные данные: 123, 4; 124, 4\n",
        "#Выходные данные: 124;   134\n",
        "def next_znach(tmp, mx):\n",
        "    id_i = 0\n",
        "    if len(tmp) == 1 and mx == int(tmp):\n",
        "        return tmp\n",
        "    for i in range(len(tmp)-1, 0, -1):\n",
        "        if int(tmp[i]) < mx:\n",
        "            tmp = tmp[:i] + str(int(tmp[i])+1) + tmp[i+1:]\n",
        "            return tmp\n",
        "        else:\n",
        "            while i >= 0 and int(tmp[i]) == mx:\n",
        "                mx -= 1\n",
        "                i -= 1\n",
        "            if i < 0:\n",
        "                return tmp\n",
        "            else:\n",
        "                id_i = i\n",
        "                break\n",
        "    t = tmp[:id_i] + str(int(tmp[id_i])+1)\n",
        "    for i in range(id_i, len(tmp)-1):\n",
        "        t += str(int(t[i])+1)\n",
        "    return t"
      ],
      "metadata": {
        "id": "DTZgiheDo0MY"
      },
      "execution_count": null,
      "outputs": []
    },
    {
      "cell_type": "markdown",
      "source": [
        "##Iterating_values\n",
        "Преобразование входной строки в массив значений(перебор всех перестановок без повторений)."
      ],
      "metadata": {
        "id": "MzMUdLEuo1IZ"
      }
    },
    {
      "cell_type": "code",
      "source": [
        "#Вид входной строки: '-x1x2x3' и 'x1x2'\n",
        "#Вид выходного массива: ['-x1x2', '-x1x3', 'x2x3', '-x1', 'x2', 'x3'] и ['x1', 'x2']\n",
        "#Использовать до x9\n",
        "def iterating_values(string):\n",
        "    ans = []\n",
        "    tmp = ''\n",
        "    for i in range(len(string)):\n",
        "        tmp += string[i]\n",
        "        if '1' <= string[i] <= '9':\n",
        "            ans.append(tmp)\n",
        "            tmp = ''\n",
        "    len_param = string.count('x')\n",
        "    tmp_ans = []\n",
        "    tmp_ans.append(string)\n",
        "    for q in range(len_param-1):\n",
        "        tmp = ''\n",
        "        for i in range(0, len_param-1-q):\n",
        "            tmp += str(i+1)\n",
        "        i = len(tmp)-1\n",
        "        mx = len_param\n",
        "        tmp_ans.append(tmp)\n",
        "        while next_znach(tmp, mx) != tmp:\n",
        "            tmp = next_znach(tmp, mx)\n",
        "            tmp_ans.append(tmp)\n",
        "    for i in range(1, len(tmp_ans)):\n",
        "        t = ''\n",
        "        for j in range(len(tmp_ans[i])):\n",
        "            t += ans[int(tmp_ans[i][j])-1]\n",
        "        tmp_ans[i] = t\n",
        "    return tmp_ans"
      ],
      "metadata": {
        "id": "ZhOYeaMuo1jl"
      },
      "execution_count": null,
      "outputs": []
    },
    {
      "cell_type": "markdown",
      "source": [
        "##Pask_tr\n",
        "Выдает строку стоящую на n-ой позиции. Пример: ```n = 5 ans = [1, 5, 10, 10, 5, 1]```"
      ],
      "metadata": {
        "id": "P7nSN907o6fO"
      }
    },
    {
      "cell_type": "code",
      "source": [
        "#Треугольник паскаля по номеру начиная с 0 [1]\n",
        "def pask_tr(number):\n",
        "    ans = [1]\n",
        "    for i in range(number):\n",
        "        tmp = [1]\n",
        "        for j in range(len(ans)-1):\n",
        "            tmp.append(ans[j]+ans[j+1])\n",
        "        tmp.append(1)\n",
        "        ans = tmp\n",
        "    return ans"
      ],
      "metadata": {
        "id": "1v1XiMEoo65G"
      },
      "execution_count": null,
      "outputs": []
    },
    {
      "cell_type": "markdown",
      "source": [
        "##Print_table\n",
        "Печатает в консоль таблицу."
      ],
      "metadata": {
        "id": "oB9s5amVo_O1"
      }
    },
    {
      "cell_type": "code",
      "source": [
        "#Красивый вывод в таблицу\n",
        "def print_table(table):\n",
        "    count_param = what_degree_two(len(table[0]) + 1)\n",
        "    sp = pask_tr(count_param)\n",
        "    mx = 1\n",
        "    for i in range(0 , len(sp)-1):\n",
        "        mx += (3 * (count_param-i) + 3)*sp[i]\n",
        "    div = '='*mx\n",
        "    mini_div = '-'*mx\n",
        "    print(div)\n",
        "    for i in range(len(table)):\n",
        "        s = '|'\n",
        "        id_sp = 0\n",
        "        tmp_sp = sp.copy()\n",
        "        for j in range(len(table[i])):\n",
        "            space = int(((3 * (count_param-id_sp) + 2) - len(table[i][j]))/2)\n",
        "            s += ' '*space + table[i][j]\n",
        "            space = (3 * (count_param-id_sp) + 2) - (space + len(table[i][j]))\n",
        "            s += ' '*space + '|'\n",
        "            tmp_sp[id_sp] -= 1\n",
        "            if tmp_sp[id_sp] == 0:\n",
        "                id_sp += 1\n",
        "        print(s)\n",
        "        if i + 1 != len(table):\n",
        "            print(mini_div)\n",
        "    print(div)"
      ],
      "metadata": {
        "id": "XzrW9grto_kc"
      },
      "execution_count": null,
      "outputs": []
    },
    {
      "cell_type": "markdown",
      "source": [
        "##Creating_table\n",
        "Создает таблицу всех значений."
      ],
      "metadata": {
        "id": "zb_cLvFHpDTG"
      }
    },
    {
      "cell_type": "code",
      "source": [
        "# Создание таблицы для дальнейшей работы с ней\n",
        "def creating_table(vec_player):\n",
        "    len_vec_player = len(vec_player)\n",
        "    ans_table = []\n",
        "    for i in range(len_vec_player):\n",
        "        vec = str(bin(i)[2:])\n",
        "        vec = \"0\" * (what_degree_two(len_vec_player) - len(vec)) + vec\n",
        "        \n",
        "        #Проходим по таблице истинности\n",
        "        tmp = ''\n",
        "        for j in range(1, len(vec)+1):\n",
        "            if vec[j-1] == '0':\n",
        "                tmp += f'-x{j}'\n",
        "            else:\n",
        "                tmp += f'x{j}'\n",
        "        ans_table.append(iterating_values(tmp))\n",
        "    return ans_table"
      ],
      "metadata": {
        "id": "aJBIfUQqpD2J"
      },
      "execution_count": null,
      "outputs": []
    },
    {
      "cell_type": "markdown",
      "source": [
        "##Reduction_table\n",
        "Сокращение таблицы. Убирает те значения, где вектор принимает значение 0."
      ],
      "metadata": {
        "id": "s9JqTpjDpGLL"
      }
    },
    {
      "cell_type": "code",
      "source": [
        "# Сокращение в таблице\n",
        "def reduction_table(table, vec):\n",
        "    for q in range(len(vec)):\n",
        "        if vec[q] == '0':\n",
        "            for i in range(len(table[q])):\n",
        "                for j in range(len(table)):\n",
        "                    if q != j and table[q][i] == table[j][i]:\n",
        "                        table[j][i] = '-1'\n",
        "                table[q][i] = '-1'\n",
        "    return table"
      ],
      "metadata": {
        "id": "VSVxB9kqpGsO"
      },
      "execution_count": null,
      "outputs": []
    },
    {
      "cell_type": "markdown",
      "source": [
        "##Min_DNF\n",
        "Выбирает минимальный ДНФ из данных приведенных в таблице."
      ],
      "metadata": {
        "id": "G7Mr_qe4pJZJ"
      }
    },
    {
      "cell_type": "code",
      "source": [
        "# Выбор минимальной ДНФ по таблице\n",
        "def min_DNF(table, vec):\n",
        "    ans = set()\n",
        "    count_param = what_degree_two(len(table[0]) + 1)\n",
        "    pask_treyg = pask_tr(count_param)\n",
        "    # Проходим и смотрим какие одиночные значения существуют\n",
        "    for i in range(len(table)):\n",
        "        id_ans = -1\n",
        "        count_var = 0\n",
        "        for j in range(1, len(table[i])):\n",
        "            if table[i][j] != '-1':\n",
        "                count_var += 1\n",
        "                id_ans = j\n",
        "        if count_var == 1:\n",
        "            for j in range(len(table)):\n",
        "                if j != i and table[j][id_ans] == table[i][id_ans]:\n",
        "                    for q in range(len(table[j])):\n",
        "                        table[j][q] = '-1'\n",
        "            ans.add(table[i][id_ans])\n",
        "            for q in range(len(table[i])):\n",
        "                table[i][q] = '-1'\n",
        "    # Проходим и смотрим значения по столбцам и делим их по кол-ву переменных\n",
        "    pask_treyg = pask_tr(count_param)\n",
        "    id_pt = len(pask_treyg)-2 # Для прохода по выделенной группе переменных\n",
        "    qj = len(table[0])-1\n",
        "    while True:\n",
        "        for qi in range(len(table)):\n",
        "            for pt in range(0, pask_treyg[id_pt]):\n",
        "                if table[qi][qj-pt] != '-1':\n",
        "                    for i in range(len(table)):\n",
        "                        if i != qi and table[qi][qj-pt] == table[i][qj-pt]:\n",
        "                            for j in range(len(table[i])):\n",
        "                                table[i][j] = '-1'\n",
        "                    ans.add(table[qi][qj-pt])\n",
        "                    for j in range(len(table[qi])):\n",
        "                        table[qi][j] = '-1'\n",
        "        qj = qj - pask_treyg[id_pt]\n",
        "        id_pt -= 1\n",
        "        if id_pt < 0:\n",
        "            break\n",
        "    ret_ans = ''\n",
        "    for string in ans:\n",
        "        ret_ans += f'({string})v'\n",
        "    ret_ans = ret_ans[:len(ret_ans)-1]\n",
        "    #print_table(table)\n",
        "    return ret_ans"
      ],
      "metadata": {
        "id": "yxgKIjpNpJ3y"
      },
      "execution_count": null,
      "outputs": []
    },
    {
      "cell_type": "markdown",
      "source": [
        "##Main\n",
        "Основная программа. Создаем таблицу от вектора, сокращаем ее по значению вектора, выбираем из таблицы минимальную ДНФ."
      ],
      "metadata": {
        "id": "DBxqYxFdpKqB"
      }
    },
    {
      "cell_type": "code",
      "source": [
        "player_string = input(\"Введите вектор: \")\n",
        "player_string = player_string.replace(' ', '')\n",
        "        \n",
        "if check_vector(player_string):\n",
        "    table = creating_table(player_string)\n",
        "    #print_table(table)\n",
        "    table = reduction_table(table, player_string)\n",
        "    #print_table(table)\n",
        "    print(min_DNF(table, player_string))\n",
        "else:\n",
        "    print(\"Ошибка при вводе вектора!\")"
      ],
      "metadata": {
        "id": "Hn3c4Su4pLWs"
      },
      "execution_count": null,
      "outputs": []
    },
    {
      "cell_type": "markdown",
      "source": [
        "#Menu"
      ],
      "metadata": {
        "id": "QFDVbZK3zVV0"
      }
    },
    {
      "cell_type": "markdown",
      "source": [
        "##Read_file\n",
        "Считывание информации с save.txt\n",
        "- save.txt - хранит информацию, что приложение запущено(1) в данный момент или нет(0)"
      ],
      "metadata": {
        "id": "-7GWUEVFzmL9"
      }
    },
    {
      "cell_type": "code",
      "source": [
        "def read_file():\n",
        "    s = ''\n",
        "    file = os.path.abspath(os.path.join('seve.txt',\"../..\")) + '\\seve.txt'\n",
        "    with open(file, 'r') as f:\n",
        "        s = f.readline()\n",
        "        s = s.replace(' ', '').split(',')\n",
        "    return s"
      ],
      "metadata": {
        "id": "K66z_QdwzmoP"
      },
      "execution_count": null,
      "outputs": []
    },
    {
      "cell_type": "markdown",
      "source": [
        "##Write_file\n",
        "Записывает информацию в save.txt\n",
        "- save.txt - хранит информацию, что приложение запущено(1) в данный момент или нет(0)"
      ],
      "metadata": {
        "id": "WZSsn45SFUQR"
      }
    },
    {
      "cell_type": "code",
      "source": [
        "def write_file(s):\n",
        "    file = os.path.abspath(os.path.join('seve.txt',\"../..\")) + '\\seve.txt'\n",
        "    with open(file, 'w') as f:\n",
        "        ans = ''\n",
        "        for i in s:\n",
        "            ans += i + ', '\n",
        "        ans = ans[:len(ans)-2]\n",
        "        f.write(ans)"
      ],
      "metadata": {
        "id": "KdgSIghaFUr0"
      },
      "execution_count": null,
      "outputs": []
    },
    {
      "cell_type": "markdown",
      "source": [
        "##Task4_desktop\n",
        "Запускает приложение BoolGame4"
      ],
      "metadata": {
        "id": "1j7u6w24FXCE"
      }
    },
    {
      "cell_type": "code",
      "source": [
        "def task4_desktop():\n",
        "    s = read_file()\n",
        "    if s[0] != '1':\n",
        "        s[0] = '1'\n",
        "        write_file(s)\n",
        "        file = os.path.abspath(os.path.join('BoolGame4.exe',\"../../..\")) + '\\\\task4\\dist\\BoolGame4.exe'\n",
        "        os.startfile(file)"
      ],
      "metadata": {
        "id": "AmimC4h-FXUy"
      },
      "execution_count": null,
      "outputs": []
    },
    {
      "cell_type": "markdown",
      "source": [
        "##Task5_desktop\n",
        "Запускает приложение BoolGame5"
      ],
      "metadata": {
        "id": "1il8TFl7FZgq"
      }
    },
    {
      "cell_type": "code",
      "source": [
        "def task5_desktop():\n",
        "    s = read_file()\n",
        "    if s[1] != '1':\n",
        "        s[1] = '1'\n",
        "        write_file(s)\n",
        "        file = os.path.abspath(os.path.join('BoolGame5.exe',\"../../..\")) + '\\\\task5\\dist\\BoolGame5.exe'\n",
        "        os.startfile(file)"
      ],
      "metadata": {
        "id": "Uf7QQKS9FZyB"
      },
      "execution_count": null,
      "outputs": []
    },
    {
      "cell_type": "markdown",
      "source": [
        "##Task6_desktop\n",
        "Запускает приложение BoolGame6"
      ],
      "metadata": {
        "id": "Ir8Oc7SoFaMY"
      }
    },
    {
      "cell_type": "code",
      "source": [
        "def task6_desktop():\n",
        "    s = read_file()\n",
        "    if s[2] != '1':\n",
        "        s[2] = '1'\n",
        "        write_file(s)\n",
        "        file = os.path.abspath(os.path.join('BoolGame6.exe',\"../../..\")) + '\\\\task6\\dist\\BoolGame6.exe'\n",
        "        os.startfile(file)"
      ],
      "metadata": {
        "id": "-rsv2CM0Faei"
      },
      "execution_count": null,
      "outputs": []
    },
    {
      "cell_type": "markdown",
      "source": [
        "##Task7_desktop\n",
        "Запускает приложение BoolGame7"
      ],
      "metadata": {
        "id": "GCJwGJDUFbBp"
      }
    },
    {
      "cell_type": "code",
      "source": [
        "def task7_desktop():\n",
        "    s = read_file()\n",
        "    if s[3] != '1':\n",
        "        s[3] = '1'\n",
        "        write_file(s)\n",
        "        file = os.path.abspath(os.path.join('BoolGame7.exe',\"../../..\")) + '\\\\task7\\dist\\BoolGame7.exe'\n",
        "        os.startfile(file)"
      ],
      "metadata": {
        "id": "ruQ-Qn6fFbVX"
      },
      "execution_count": null,
      "outputs": []
    },
    {
      "cell_type": "markdown",
      "source": [
        "##Task10_desktop\n",
        "Запускает приложение BoolGame10"
      ],
      "metadata": {
        "id": "q03RQimrFcXY"
      }
    },
    {
      "cell_type": "code",
      "source": [
        "def task10_desktop():\n",
        "    s = read_file()\n",
        "    if s[4] != '1':\n",
        "        s[4] = '1'\n",
        "        write_file(s)\n",
        "        file = os.path.abspath(os.path.join('BoolGame10.exe',\"../../..\")) + '\\\\task10\\dist\\BoolGame10.exe'\n",
        "        os.startfile(file)"
      ],
      "metadata": {
        "id": "xnl0avMFFcur"
      },
      "execution_count": null,
      "outputs": []
    },
    {
      "cell_type": "markdown",
      "source": [
        "##Task11_desktop\n",
        "Запускает приложение BoolGame11"
      ],
      "metadata": {
        "id": "mdNgXQ8PFdPx"
      }
    },
    {
      "cell_type": "code",
      "source": [
        "def task11_desktop():\n",
        "    s = read_file()\n",
        "    if s[5] != '1':\n",
        "        s[5] = '1'\n",
        "        write_file(s)\n",
        "        file = os.path.abspath(os.path.join('BoolGame11.exe',\"../../..\")) + '\\\\task11\\dist\\BoolGame11.exe'\n",
        "        os.startfile(file)"
      ],
      "metadata": {
        "id": "GBSBM2mtFdkG"
      },
      "execution_count": null,
      "outputs": []
    },
    {
      "cell_type": "markdown",
      "source": [
        "##Draw_menu\n",
        "Выпадающее меню с настройкой кол-ва переменных."
      ],
      "metadata": {
        "id": "k3j3JFILFmSZ"
      }
    },
    {
      "cell_type": "code",
      "source": [
        "def draw_menu():\n",
        "    menu_bar = tk.Menu(root)\n",
        "    menu_bar.add_cascade(label='Узнать имя функции  ', command=task4_desktop)\n",
        "    menu_bar.add_cascade(label='Сущ. фик. переменные ', command=task5_desktop)\n",
        "    menu_bar.add_cascade(label='Построение ДНФ ', command=task6_desktop)\n",
        "    menu_bar.add_cascade(label='Построение КНФ ', command=task7_desktop)\n",
        "    menu_bar.add_cascade(label='Замкнутые классы б. ф. ', command=task10_desktop)\n",
        "    menu_bar.add_cascade(label='Полные системы б. ф.', command=task11_desktop)\n",
        "    root.configure(menu=menu_bar)"
      ],
      "metadata": {
        "id": "x9RP7JrJFmn_"
      },
      "execution_count": null,
      "outputs": []
    },
    {
      "cell_type": "markdown",
      "source": [
        "##Next_text\n",
        "Случайный выбор текста для пользователя ЯРДИАР"
      ],
      "metadata": {
        "id": "Su-xenUbFq4H"
      }
    },
    {
      "cell_type": "code",
      "source": [
        "def next_text():\n",
        "    global const_ardiaro\n",
        "    global const_ardiar1\n",
        "    global const_ardiar2\n",
        "    global const_ardiar3\n",
        "    r = int(random.random()*100) % 7\n",
        "    s = const_ardiaro\n",
        "    if r == 0:\n",
        "        r = int(random.random()*100)%3\n",
        "        if r == 0:\n",
        "            s = const_ardiar1\n",
        "        elif r == 1:\n",
        "            s = const_ardiar2\n",
        "        else:\n",
        "            s = const_ardiar3\n",
        "    root.after(150, lambda:ardiar())\n",
        "    return s"
      ],
      "metadata": {
        "id": "fYzqyyJpFrgU"
      },
      "execution_count": null,
      "outputs": []
    },
    {
      "cell_type": "markdown",
      "source": [
        "##Ardiar\n",
        "Вывод пользователю на экран текста."
      ],
      "metadata": {
        "id": "jp0zTixUFtts"
      }
    },
    {
      "cell_type": "code",
      "source": [
        "def ardiar():\n",
        "    greet_label.configure(text=next_text())"
      ],
      "metadata": {
        "id": "Zip9_m4bFuRX"
      },
      "execution_count": null,
      "outputs": []
    },
    {
      "cell_type": "markdown",
      "source": [
        "##Next_collor\n",
        "Переключение между цветами, для текста."
      ],
      "metadata": {
        "id": "FcI3XmnQFwX9"
      }
    },
    {
      "cell_type": "code",
      "source": [
        "def next_collor():\n",
        "    global lst\n",
        "    global lst_put\n",
        "    shag = 17\n",
        "    if lst_put == 2:\n",
        "        lst[1] += shag\n",
        "        if lst[1] >= lst[0]:\n",
        "            lst_put = -1\n",
        "    elif lst_put == -1:\n",
        "        lst[0] -= shag\n",
        "        if lst[0] <= 11:\n",
        "            lst_put = 3\n",
        "    elif lst_put == 3:\n",
        "        lst[2] += shag\n",
        "        if lst[2] >= lst[1]:\n",
        "            lst_put = -2\n",
        "    elif lst_put == -2:\n",
        "        lst[1] -= shag\n",
        "        if lst[1] <= 11:\n",
        "            lst_put = 1\n",
        "    elif lst_put == 1:\n",
        "        lst[0] += shag\n",
        "        if lst[0] >= lst[2]:\n",
        "            lst_put = -3\n",
        "    elif lst_put == -3:\n",
        "        lst[2] -= 1\n",
        "        if lst[2] <= 11:\n",
        "            lst_put = 2\n",
        "    ch1 = '0'*(2 - len(str(hex(lst[0]%256)[2:]))) + str(hex(lst[0]%256)[2:])\n",
        "    ch2 = '0'*(2 - len(str(hex(lst[1]%256)[2:]))) + str(hex(lst[1]%256)[2:])\n",
        "    ch3 = '0'*(2 - len(str(hex(lst[2]%256)[2:]))) + str(hex(lst[2]%256)[2:])\n",
        "    root.after(10, lambda:my_mainloop())\n",
        "    return f'#{ch1}{ch2}{ch3}'"
      ],
      "metadata": {
        "id": "rPMGWeyXFwsY"
      },
      "execution_count": null,
      "outputs": []
    },
    {
      "cell_type": "markdown",
      "source": [
        "##My_mainloop\n",
        "Вывод цвета текста пользователю на экран."
      ],
      "metadata": {
        "id": "qhJnh6udGvxb"
      }
    },
    {
      "cell_type": "code",
      "source": [
        "def my_mainloop():\n",
        "    greet_label.configure(fg=next_collor())"
      ],
      "metadata": {
        "id": "_8CKaxhkGwFq"
      },
      "execution_count": null,
      "outputs": []
    },
    {
      "cell_type": "markdown",
      "source": [
        "#Read_Me\n",
        "Если возникли вопросы, то их можно задать им: \\\n",
        "- https://vk.com/deltams4\n",
        "- https://vk.com/otza_to4ka_net\n",
        "- https://vk.com/id212348723"
      ],
      "metadata": {
        "id": "Y42dfzT8NRAe"
      }
    }
  ]
}